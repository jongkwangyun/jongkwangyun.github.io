{
 "cells": [
  {
   "cell_type": "markdown",
   "id": "cfa2acd2-6809-4572-9c43-cf8205e96cdc",
   "metadata": {},
   "source": [
    "# 3.1 신경망의 구조"
   ]
  },
  {
   "attachments": {},
   "cell_type": "markdown",
   "id": "d98e914d-e179-413d-a027-b6d909b7baeb",
   "metadata": {},
   "source": [
    "신경망 훈련에는 다음 요소들이 관련되어 있습니다.\n",
    "- 네트워크(또는 모델)를 구성하는 층\n",
    "- 입력 데이터와 그에 상응하는 타깃\n",
    "- 학습에 사용할 피드백 신호를 정의하는 손실 함수\n",
    "- 학습 진행 방식을 결정하는 옵티마이저"
   ]
  },
  {
   "cell_type": "markdown",
   "id": "ad88045c-595d-47f8-b5b3-92d098fa007b",
   "metadata": {},
   "source": [
    "![네트워크, 층, 손실 함수, 옵티마이저 사이의 관계](https://velog.velcdn.com/images/conel77/post/4fd02813-20bc-42c6-bc03-29f3a373556b/image.png)"
   ]
  },
  {
   "cell_type": "markdown",
   "id": "e2057d74-9ac4-4547-8cab-c941aa78b603",
   "metadata": {},
   "source": [
    "### 3.1.1 층: 딥러닝의 구성 단위\n",
    "층은 하나 이상의 텐서를 입력으로 받아 하나 이상의 텐서를 출력하는 데이터 처리 모듈입니다. 대부분은 가중치라는 층의 상태를 가집니다. 가중치는 확률적 경사 하강법에 의해 학습되는 하나 이상의 텐서입니다.\n",
    "층마다 적절한 텐서 포맷과 데이터 처리 방식이 다릅니다. \n",
    "(samples, features) 크기의 2D 텐서가 저장된 간단한 벡터 데이터는 완전 연결 층(fully connected layer)이나 밀집 연결 층(densely connected layer)에 의해 처리되는 경우가 많습니다(케라스에서는 Dense 클래스 입니다). \n",
    "(samples, timesteps, features) 크기의 3D 텐서로 저장된 시퀀스 데이터는 보통 LSTM 같은 순환 층(recurrent layer)에 의해 처리됩니다. \n",
    "4D 텐서로 저장되어 있는 이미지 데이터는 일반적으로 2D 합성곱 층(convolution layer)에 의해 처리됩니다(Conv2D 클래스)\n",
    "\n",
    "층을 딥러닝의 레고 블록처럼 생각할 수 있습니다. 층 호환성(layer compatibility)은 각 층이 특정 크기의 입력 텐서만 받고 특정 크기의 입력 텐서만 받고 특정 크기의 출력 텐서를 반환한다는 사실을 말합니다."
   ]
  },
  {
   "cell_type": "code",
   "execution_count": 3,
   "id": "ea903f21-3750-4549-8e5b-93271a73a341",
   "metadata": {},
   "outputs": [],
   "source": [
    "from keras import layers\n",
    "\n",
    "layer = layers.Dense(32, input_shape=(784,))"
   ]
  },
  {
   "cell_type": "markdown",
   "id": "e47528d1-7640-4e6e-8ec5-6e6ecb3a114b",
   "metadata": {},
   "source": [
    "첫 번째 차원이 784인 2D 텐서만 입력으로 받는 층을 만들었습니다(배치 차원인 0번째 축은 지정하지 않기 때문에 어떤 배치 크기도 입력으로 받을 수 있습니다). 이 층은 첫 번째 차원 크기가 32로 변환된 텐서를 출력할 것입니다.\n",
    "\n",
    "따라서 이 층에는 32차원의 벡터를 입력으로 받는 하위 층이 연결되어야 합니다. 케라스에서는 모델에 추가된 층을 자동으로 상위 층의 크기에 맞추어 주기 때문에 호환성을 걱정하지 않아도 됩니다. 예를 들어"
   ]
  },
  {
   "cell_type": "code",
   "execution_count": 2,
   "id": "d14d2c3c-2ab1-47c7-a17f-ed7a1c7ebeee",
   "metadata": {},
   "outputs": [
    {
     "name": "stderr",
     "output_type": "stream",
     "text": [
      "D:\\git\\jongkwangyun.github.io\\aikerasstudy\\aiproject\\lib\\site-packages\\keras\\src\\layers\\core\\dense.py:87: UserWarning: Do not pass an `input_shape`/`input_dim` argument to a layer. When using Sequential models, prefer using an `Input(shape)` object as the first layer in the model instead.\n",
      "  super().__init__(activity_regularizer=activity_regularizer, **kwargs)\n"
     ]
    }
   ],
   "source": [
    "from keras import models\n",
    "from keras import layers\n",
    "\n",
    "model = models.Sequential()\n",
    "model.add(layers.Dense(32, input_shape=(784,)))\n",
    "model.add(layers.Dense(10))"
   ]
  },
  {
   "cell_type": "markdown",
   "id": "51ab0a12-4842-4663-8a01-9ff0f4993736",
   "metadata": {},
   "source": [
    "두 번째 층에는 input_shape 매개변수를 지정하지 않았습니다. 그 대신 앞선층의 출력 크기를 입력 크기로 자동으로 채택합니다."
   ]
  },
  {
   "cell_type": "markdown",
   "id": "c3bddc76-6d68-4070-a303-67db7ee8eecf",
   "metadata": {},
   "source": [
    "### 3.1.2 모델: 층의 네트워크\n",
    "네트워크 구조는 가설 공간(hypothesis space)을 정의합니다. 1장에서 머신 러닝을 '가능성 있는 공간을 사전에 정의하고 피드백 신호의 도움을 받아 입력 데이터에 대한 유용한 변환을 찾는 것'으로 정의했는데 기억날지 모르겠습니다."
   ]
  },
  {
   "cell_type": "markdown",
   "id": "f632831b-e760-49e6-b706-f9f70c0af2cd",
   "metadata": {},
   "source": [
    "### 3.1.3 손실 함수와 옵티마이저: 학습 과정을 조절하는 열쇠\n",
    "- 손실 함수(loss function)(목적 함수(objective function)): 훈련하는 동안 최소화될 값입니다. 주어진 문제에 대한 성공 지표가 됩니다.\n",
    "- 옵티마이저(optimizer): 손실 함수를 기반으로 네트워크가 어떻게 업데이트될지 결정합니다. 특정 종류의 확률적 경사 하강법(SGD)을 구현합니다.\n",
    "\n",
    "문제에 맞는 올바른 목적 함수를 선택하는 것은 아주 중요합니다.\n",
    "\n",
    "2개의 클래스가 있는 분류 문제에는 이진 크로스엔트로피(binary crossentropy), 여러 개의 클래스가 있는 분류 문제에는 범주형 크로스엔트로피(categorical crossentropy), 회귀 문제에는 평균 제곱 오차, 시퀀스 학습 문제에는 CTC(Connection Temporal Classification) 등을 사용합니다."
   ]
  }
 ],
 "metadata": {
  "kernelspec": {
   "display_name": "Python 3 (ipykernel)",
   "language": "python",
   "name": "python3"
  },
  "language_info": {
   "codemirror_mode": {
    "name": "ipython",
    "version": 3
   },
   "file_extension": ".py",
   "mimetype": "text/x-python",
   "name": "python",
   "nbconvert_exporter": "python",
   "pygments_lexer": "ipython3",
   "version": "3.10.6"
  }
 },
 "nbformat": 4,
 "nbformat_minor": 5
}
