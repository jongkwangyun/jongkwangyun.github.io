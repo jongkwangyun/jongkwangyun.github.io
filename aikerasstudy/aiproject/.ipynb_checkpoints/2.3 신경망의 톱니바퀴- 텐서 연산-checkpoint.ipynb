{
 "cells": [
  {
   "cell_type": "markdown",
   "id": "a03e50f5-cbef-4d7a-a618-e31949efb434",
   "metadata": {},
   "source": [
    "# 2.3 신경망의 톱니바퀴- 텐서 연산"
   ]
  },
  {
   "cell_type": "markdown",
   "id": "443c38c8-e4fe-469d-983b-590c52cc8fbe",
   "metadata": {},
   "source": [
    "### 2.3.1 원소별 연산\n",
    "파이썬으로 단순한 원소별 연산을 구현"
   ]
  },
  {
   "cell_type": "code",
   "execution_count": 2,
   "id": "1676c7f9-f77c-4e37-aacd-c61945d96614",
   "metadata": {},
   "outputs": [],
   "source": [
    "def naive_relu(x):\n",
    "    assert len(x.shape) == 2\n",
    "\n",
    "    x = x.copy()\n",
    "    for i in range(x.shape[0]):\n",
    "        for j in range(x.shape[1]):\n",
    "            x[i, j] = max(x[i, j], 0)\n",
    "    return x\n",
    "\n",
    "\n",
    "# 덧셈도 동일합니다\n",
    "def naive_add(x, y):\n",
    "    assert len(x.shape) == 2\n",
    "    assert x.shape == y.shape\n",
    "\n",
    "    x = x.copy()\n",
    "    for i in range(x.shape[0]):\n",
    "        for j in range(x.shape[1]):\n",
    "            x[i, j] += y[i, j]\n",
    "    return x"
   ]
  },
  {
   "cell_type": "markdown",
   "id": "86fc78b4-c20a-46a3-aa6d-f206d9a41429",
   "metadata": {},
   "source": [
    "넘파이는 다음과 같은 원소별 연산을 엄청난 속도로 처리합니다.\n",
    "\n",
    "import numpy as np\n",
    "\n",
    "z = x + y\n",
    "\n",
    "z = np.maximum(z, 0.)"
   ]
  },
  {
   "cell_type": "markdown",
   "id": "1f769f64-0c82-40b5-8640-c013a56fc026",
   "metadata": {},
   "source": [
    "### 2.3.2 브로드캐스팅\n",
    "크기가 다른 두 텐서가 더해질 때\n",
    "모호하지 않고 실행 가능하다면 작은 텐서가 큰 텐서의 크기에 맞추어 브로드캐스팅(broadcasting)됩니다. 브로드캐스팅은 두 단계로 이루어집니다.\n",
    "1. 큰 텐서의 ndim에 맞도록 작은 텐서에 (브로드캐스팅 축이라고 부르는) 축이 추가됩니다.\n",
    "2. 작은 텐서가 새 축을 따라서 큰 텐서의 크기에 맞도록 반복됩니다."
   ]
  },
  {
   "cell_type": "code",
   "execution_count": 4,
   "id": "fa501bab-6665-482a-86be-46e3eaf5a2f9",
   "metadata": {},
   "outputs": [],
   "source": [
    "def naive_add_matrix_and_vector(x, y):\n",
    "    assert len(x.shape) == 2\n",
    "    assert len(y.shape) == 1\n",
    "    assert x.shape[1] == y.shape[0]\n",
    "\n",
    "    x = x.copy()\n",
    "    for i in range(x.shape[0]):\n",
    "        for j in range(x.shape[1]):\n",
    "            x[i, j] += y[j]\n",
    "    return x"
   ]
  },
  {
   "cell_type": "markdown",
   "id": "c22e8e06-8159-4613-85f9-45a8b84a14ba",
   "metadata": {},
   "source": [
    "다음은 크기가 다른 두 텐서에 브로드캐스팅으로 원소별 maximum 연산을 적용하는 예입니다."
   ]
  },
  {
   "cell_type": "code",
   "execution_count": 6,
   "id": "a04d948f-93cd-4949-921f-9fabb6d2e9a6",
   "metadata": {},
   "outputs": [],
   "source": [
    "import numpy as np\n",
    "\n",
    "x = np.random.random((64, 3, 32, 10))\n",
    "y = np.random.random((32, 10))\n",
    "\n",
    "z = np.maximum(x, y)"
   ]
  },
  {
   "cell_type": "markdown",
   "id": "fb0a6691-c541-4af4-a9b9-a99bd2cbd45a",
   "metadata": {},
   "source": [
    "### 2.3.3 텐서 점곱\n",
    "import numpy as np\n",
    "\n",
    "z = np.dot(x, y)\n",
    "\n",
    "z = x · y"
   ]
  },
  {
   "cell_type": "markdown",
   "id": "bb56c87a-cc76-4af0-9d6f-ddbbaf7e9bd9",
   "metadata": {},
   "source": [
    "2개의 벡터 x와 y의 점곱은 다음과 같이 계산합니다."
   ]
  },
  {
   "cell_type": "code",
   "execution_count": 8,
   "id": "e0dc4f1e-70a8-406a-aadf-253cafa7a199",
   "metadata": {},
   "outputs": [],
   "source": [
    "def naive_vector_dot(x, y):\n",
    "    assert len(x.shape) == 1\n",
    "    assert len(y.shape) == 1\n",
    "    assert x.shape[0] == y.shape[0]\n",
    "\n",
    "    z = 0.\n",
    "    for i in range(x.shape[0]):\n",
    "        z += x[i] * y[i]\n",
    "    return z"
   ]
  },
  {
   "cell_type": "markdown",
   "id": "8682a6af-543a-4b6c-b35f-d5bac061be99",
   "metadata": {},
   "source": [
    "행렬 x와 벡터 y 사이에서도 점곱이 가능합니다."
   ]
  },
  {
   "cell_type": "code",
   "execution_count": 10,
   "id": "5608f5db-8a02-4bdc-b561-52265f638d10",
   "metadata": {},
   "outputs": [],
   "source": [
    "import numpy as np\n",
    "def naive_matrix_vector_dot(x, y):\n",
    "    assert len(x.shape) == 2\n",
    "    assert len(y.shape) == 1\n",
    "    assert x.shape[1] == y.shape[0]\n",
    "\n",
    "    z = np.zeros(x.shape[0])\n",
    "    for i in range(x.shape[0]):\n",
    "        for j in range(x.shape[1]):\n",
    "            z[i] += x[i, j] * y[j]\n",
    "    return z"
   ]
  },
  {
   "cell_type": "markdown",
   "id": "cb333816-cc93-491f-935c-fb2a73dd2248",
   "metadata": {},
   "source": [
    "행렬-벡터 점곱과 벡터-벡터 점곱 사이의 관계를 부각하기 위해 앞에서 만든 함수를 재사용해 보겠습니다."
   ]
  },
  {
   "cell_type": "code",
   "execution_count": 11,
   "id": "80879c4d-ff7b-4c13-8e3a-3d4d6bc2afbf",
   "metadata": {},
   "outputs": [],
   "source": [
    "def naive_matrix_vector_dot(x, y):\n",
    "    z = np.zeros(x.shape[0])\n",
    "    for i in range(x.shape[0]):\n",
    "        z[i] = naive_vector_dot(x[i, :], y)\n",
    "    return z"
   ]
  },
  {
   "cell_type": "markdown",
   "id": "2519c40b-0f26-4e11-bdee-dc900fcf7950",
   "metadata": {},
   "source": [
    "물론 점곱은 임의의 축 개수를 가진 텐서에 일반화됩니다. 가장 일반적인 용도는 두 행렬 간의 점곱일 것입니다. x.shape[1] == y.shape[0]일 때 두 행렬 x와 y의 점곱(dot(x, y))이 성립됩니다."
   ]
  },
  {
   "cell_type": "code",
   "execution_count": 14,
   "id": "3f765cff-b66f-418a-92d1-dd99e65ecfd8",
   "metadata": {},
   "outputs": [],
   "source": [
    "def naive_matrix_dot(x, y):\n",
    "    assert len(x.shape) == 2\n",
    "    assert len(y.shape) == 2\n",
    "    assert x.shape[1] == y.shape[0]\n",
    "\n",
    "    z = np.zeros((x.shape[0], y.shape[1]))\n",
    "    for i in range(x.shape[0]):\n",
    "        for j in range(y.shape[1]):\n",
    "            row_x = x[i, :]\n",
    "            column_y = y[:, j]\n",
    "            z[i, j] = naive_vector_dot(row_x, column_y)\n",
    "    return z"
   ]
  },
  {
   "cell_type": "markdown",
   "id": "573c2666-9cd9-4621-8e58-b27a2b6671f6",
   "metadata": {},
   "source": [
    "### 2.3.4 텐서 크기 변환"
   ]
  },
  {
   "cell_type": "code",
   "execution_count": 21,
   "id": "dedb0b8a-e3ba-4998-8737-01a1d041c331",
   "metadata": {},
   "outputs": [
    {
     "data": {
      "text/plain": [
       "(3, 2)"
      ]
     },
     "execution_count": 21,
     "metadata": {},
     "output_type": "execute_result"
    }
   ],
   "source": [
    "from keras.datasets import mnist\n",
    "(train_images, train_labels), (test_images, test_labels) = mnist.load_data()\n",
    "\n",
    "train_images = train_images.reshape((60000, 28 * 28))\n",
    "\n",
    "x = np.array([[0., 1.],\n",
    "              [2., 3.],\n",
    "              [4., 5.]])\n",
    "\n",
    "x.shape"
   ]
  },
  {
   "cell_type": "code",
   "execution_count": 22,
   "id": "aaf343e3-e439-4135-b2a2-b3f6e8e599b8",
   "metadata": {},
   "outputs": [
    {
     "data": {
      "text/plain": [
       "array([[0.],\n",
       "       [1.],\n",
       "       [2.],\n",
       "       [3.],\n",
       "       [4.],\n",
       "       [5.]])"
      ]
     },
     "execution_count": 22,
     "metadata": {},
     "output_type": "execute_result"
    }
   ],
   "source": [
    "x = x.reshape((6, 1))\n",
    "x"
   ]
  },
  {
   "cell_type": "code",
   "execution_count": 23,
   "id": "f6ee7876-5871-4df9-8c4a-b55926a0cf28",
   "metadata": {},
   "outputs": [
    {
     "data": {
      "text/plain": [
       "array([[0., 1., 2.],\n",
       "       [3., 4., 5.]])"
      ]
     },
     "execution_count": 23,
     "metadata": {},
     "output_type": "execute_result"
    }
   ],
   "source": [
    "x = x.reshape((2, 3))\n",
    "x"
   ]
  },
  {
   "cell_type": "code",
   "execution_count": 24,
   "id": "7abb079f-433c-4d24-b94a-854225b260e9",
   "metadata": {},
   "outputs": [
    {
     "data": {
      "text/plain": [
       "(20, 300)"
      ]
     },
     "execution_count": 24,
     "metadata": {},
     "output_type": "execute_result"
    }
   ],
   "source": [
    "x = np.zeros((300, 20))\n",
    "x = np.transpose(x)\n",
    "x.shape"
   ]
  }
 ],
 "metadata": {
  "kernelspec": {
   "display_name": "Python 3 (ipykernel)",
   "language": "python",
   "name": "python3"
  },
  "language_info": {
   "codemirror_mode": {
    "name": "ipython",
    "version": 3
   },
   "file_extension": ".py",
   "mimetype": "text/x-python",
   "name": "python",
   "nbconvert_exporter": "python",
   "pygments_lexer": "ipython3",
   "version": "3.10.6"
  }
 },
 "nbformat": 4,
 "nbformat_minor": 5
}
