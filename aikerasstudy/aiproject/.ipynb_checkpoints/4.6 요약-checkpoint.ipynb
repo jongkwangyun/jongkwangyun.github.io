{
 "cells": [
  {
   "cell_type": "markdown",
   "id": "00113790-d8ba-4147-88a2-e81a6f96b03c",
   "metadata": {},
   "source": [
    "# 4.6 요약"
   ]
  },
  {
   "cell_type": "markdown",
   "id": "62d6aa57-0103-44a8-9810-76be8e926b25",
   "metadata": {},
   "source": [
    "- 주어진 문제와 훈련할 데이터를 정의합니다. 이 데이터를 수집하고 필요하면 레이블을 태깅합니다.\n",
    "- 성공을 어떻게 측정할지 선택하세요. 검증 데이터에서 모니터링할 지표는 무엇인가요?\n",
    "- 평가 방법을 결정하세요. 홀드아웃 검증이나 K-겹 교차 검증인가요? 검증에 사용해야 할 데이터의 양은 얼마나 되나요?\n",
    "- 단순한 랜덤 선택 모델보다 나은 통계적 검정력이 있는 첫 번째 모델을 만듭니다.\n",
    "- 과대적합된 모델을 만듭니다.\n",
    "- 검증 데이터의 성능에 기초하여 모델에 규제를 적용하고 하이퍼파라미터를 튜닝합니다. 머신 러닝 연구의 대부분은 이 단계에 집중됩니다. 하지만 큰 그림을 놓치지 마세요."
   ]
  }
 ],
 "metadata": {
  "kernelspec": {
   "display_name": "Python 3 (ipykernel)",
   "language": "python",
   "name": "python3"
  },
  "language_info": {
   "codemirror_mode": {
    "name": "ipython",
    "version": 3
   },
   "file_extension": ".py",
   "mimetype": "text/x-python",
   "name": "python",
   "nbconvert_exporter": "python",
   "pygments_lexer": "ipython3",
   "version": "3.10.6"
  }
 },
 "nbformat": 4,
 "nbformat_minor": 5
}
