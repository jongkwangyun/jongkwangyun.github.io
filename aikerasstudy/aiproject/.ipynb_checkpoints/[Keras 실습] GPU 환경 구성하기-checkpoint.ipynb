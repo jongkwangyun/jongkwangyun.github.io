{
 "cells": [
  {
   "cell_type": "markdown",
   "id": "26ec21c2-83a7-4972-99d4-3ad5130152f5",
   "metadata": {},
   "source": [
    "Python version: 3.10.6\n",
    "\n",
    "GPU: GTX 1060\n",
    "\n",
    "GPU 에 맞는 Compute capability (version): 6.1\n",
    "\n",
    "Compute capability 에 맞는 CUDA SDK Version(s): 8.0\n",
    "\n",
    "Tensorflow version: 2.16.1\n",
    "\n",
    "(GPU 별 Compute capability 및 SDK Version 참고: https://en.wikipedia.org/wiki/CUDA#GPUs_supported)\n",
    "\n",
    "아래 보면 CUDA SDK 8.0 설치시 Windows 11 은 없어서 CUDA 설치 불가하다.\n",
    "![CUDA Toolkit 불가](img/cuda_toolkit_unable.png)\n",
    "\n",
    "우분투 16.04 설치해서 해야겠다.\n",
    "\n",
    "![CUDA Toolkit 가능](img/cuda_toolkit_able.png)"
   ]
  },
  {
   "cell_type": "code",
   "execution_count": null,
   "id": "93a3d6be-2beb-4e5c-b4d6-a8692c7ec25b",
   "metadata": {},
   "outputs": [],
   "source": []
  }
 ],
 "metadata": {
  "kernelspec": {
   "display_name": "Python 3 (ipykernel)",
   "language": "python",
   "name": "python3"
  },
  "language_info": {
   "codemirror_mode": {
    "name": "ipython",
    "version": 3
   },
   "file_extension": ".py",
   "mimetype": "text/x-python",
   "name": "python",
   "nbconvert_exporter": "python",
   "pygments_lexer": "ipython3",
   "version": "3.10.6"
  }
 },
 "nbformat": 4,
 "nbformat_minor": 5
}
