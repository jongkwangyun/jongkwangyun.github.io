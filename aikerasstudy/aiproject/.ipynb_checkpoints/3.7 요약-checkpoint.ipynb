{
 "cells": [
  {
   "cell_type": "markdown",
   "id": "3b43848f-0f3a-42f7-9cbe-a25aa90ef8a7",
   "metadata": {},
   "source": [
    "# 3.7 요약"
   ]
  },
  {
   "cell_type": "markdown",
   "id": "be1f82a1-ba84-4cb6-a952-e51f21a61fbd",
   "metadata": {},
   "source": [
    "- 이제 벡터 데이터를 사용하여 가장 일반적인 머신 러닝인 이진 분류, 다중 분류, 스칼라 회귀 작업을 다룰 수 있습니다. 이 장의 '정리' 절에서 이런 종류의 작업을 통해 배울 중요한 사항들을 정리해 놓았습니다.\n",
    "- 보통 원본 데이터를 신경망에 주입하기 전에 전처리해야 합니다.\n",
    "- 데이터에 범위가 다른 특성이 있다면 전처리 단계에서 각 특성을 독립적으로 스케일 조정해야 합니다.\n",
    "- 훈련이 진행됨에 따라 신경망의 과대적합이 시작되고 새로운 데이터에 대해 나쁜 결과를 얻게 됩니다.\n",
    "- 훈련 데이터가 많지 않으면 과대적합을 피하기 위해 1개 또는 2개의 은닉 층을 가진 신경망을 사용합니다.\n",
    "- 데이터가 많은 범주로 나뉘어 있을 때 중간층이 너무 작으면 정보의 병목이 생길 수 있습니다.\n",
    "- 회귀는 분류와 다른 손실 함수와 평가 지표를 사용합니다.\n",
    "- 적은 데이터를 사용할 때는 K-겹 검증이 신뢰할 수 있는 모델 평가를 도와줍니다."
   ]
  }
 ],
 "metadata": {
  "kernelspec": {
   "display_name": "Python 3 (ipykernel)",
   "language": "python",
   "name": "python3"
  },
  "language_info": {
   "codemirror_mode": {
    "name": "ipython",
    "version": 3
   },
   "file_extension": ".py",
   "mimetype": "text/x-python",
   "name": "python",
   "nbconvert_exporter": "python",
   "pygments_lexer": "ipython3",
   "version": "3.10.6"
  }
 },
 "nbformat": 4,
 "nbformat_minor": 5
}
