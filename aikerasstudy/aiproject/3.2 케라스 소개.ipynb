{
 "cells": [
  {
   "cell_type": "markdown",
   "id": "8c092e55-3498-4607-8841-cc9ef8b567f4",
   "metadata": {},
   "source": [
    "# 3.2 케라스 소개"
   ]
  },
  {
   "cell_type": "markdown",
   "id": "842c9446-fa15-4a96-95e6-fabe2f0fe16a",
   "metadata": {},
   "source": [
    "### 3.2.1 케라스, 텐서플로, 씨아노, CNTK\n",
    "케라스는 딥러닝 모델을 만들기 위한 고수준의 구성 요소를 제공하는 모델 수준의 라이브러리입니다. 텐서 조작이나 미분 같은 저수준의 연산을 다루지 않습니다.\n",
    "\n",
    "텐서플로, CNTK, 씨아노는 딥러닝을 위한 주요 플랫폼 중 하나입니다."
   ]
  },
  {
   "cell_type": "markdown",
   "id": "31b43605-2b81-40da-b5a1-d90891f6b3f3",
   "metadata": {},
   "source": [
    "### 3.2.2 케라스를 사용한 개발: 빠르게 둘러보기\n",
    "전형적인 케라스 작업 흐름은 이 예제와 비슷합니다.\n",
    "1. 입력 텐서와 타깃 텐서로 이루어진 훈련 데이터를 정의합니다.\n",
    "2. 입력과 타깃을 매핑하는 층으로 이루어진 네트워크(또는 모델)를 정의합니다.\n",
    "3. 손실 함수, 옵티마이저, 모니터링하기 위한 측정 지표를 선택하여 학습 과정을 설정합니다.\n",
    "4. 훈련 데이터에 대해 모델의 fit() 메서드를 반복적으로 호출합니다.\n",
    "\n",
    "모델을 정의하는 방법은 두 가지인데, Sequential 클래스(가장 자주 사용하는 구조인 층을 순서대로 쌓아 올린 네트워크입니다) 또는 함수형 API(완전히 임의의 구조를 만들 수 있는 비순환 유향 그래프를 만듭니다)를 사용합니다."
   ]
  },
  {
   "cell_type": "code",
   "execution_count": 1,
   "id": "b4172158-2ad4-4961-8128-4d0147b6fab7",
   "metadata": {},
   "outputs": [
    {
     "name": "stderr",
     "output_type": "stream",
     "text": [
      "D:\\git\\jongkwangyun.github.io\\aikerasstudy\\aiproject\\lib\\site-packages\\keras\\src\\layers\\core\\dense.py:87: UserWarning: Do not pass an `input_shape`/`input_dim` argument to a layer. When using Sequential models, prefer using an `Input(shape)` object as the first layer in the model instead.\n",
      "  super().__init__(activity_regularizer=activity_regularizer, **kwargs)\n"
     ]
    }
   ],
   "source": [
    "from keras import models\n",
    "from keras import layers\n",
    "\n",
    "model = models.Sequential()\n",
    "model.add(layers.Dense(32, activation='relu', input_shape=(784,)))\n",
    "model.add(layers.Dense(10, activation='softmax'))"
   ]
  },
  {
   "cell_type": "markdown",
   "id": "a9bdd446-214a-4f08-a511-a276b3c7732a",
   "metadata": {},
   "source": [
    "같은 모델을 함수형 API를 사용하여 만들어 보겠습니다."
   ]
  },
  {
   "cell_type": "code",
   "execution_count": 2,
   "id": "0ec66688-b6c9-4d23-9f37-67acbd319058",
   "metadata": {},
   "outputs": [],
   "source": [
    "input_tensor = layers.Input(shape=(784,))\n",
    "x = layers.Dense(32, activation='relu')(input_tensor)\n",
    "output_tensor = layers.Dense(10, activation='softmax')(x)\n",
    "\n",
    "model = models.Model(inputs=input_tensor, outputs=output_tensor)"
   ]
  },
  {
   "cell_type": "markdown",
   "id": "3d7b7f72-3091-49c2-8e76-5a3261cd7836",
   "metadata": {},
   "source": [
    "모델 구조가 정의된 후에는 Sequential 모델을 사용했는지 함수형 API를 사용했는지는 상관없습니다. 이후 단계는 동일합니다.\n",
    "\n",
    "컴파일 단계에서 학습 과정이 설정됩니다. 옵티마이저, 손실 함수, 측정 지표를 지정합니다."
   ]
  },
  {
   "cell_type": "code",
   "execution_count": 4,
   "id": "aeba20dc-c946-44de-bf1e-f6e980d7167a",
   "metadata": {},
   "outputs": [],
   "source": [
    "from keras import optimizers\n",
    "\n",
    "model.compile(optimizer=optimizers.RMSprop(learning_rate=0.001),\n",
    "              loss='mse',\n",
    "              metrics=['accuracy'])"
   ]
  },
  {
   "cell_type": "markdown",
   "id": "9546db4c-f606-4354-a264-dd63315f039b",
   "metadata": {},
   "source": [
    "마지막으로 입력 데이터의 넘파이 배열을 (그리고 이에 상응하는 타깃 데이터를) 모델의 fit() 메서드에 전달함으로써 학습 과정이 이루어집니다."
   ]
  },
  {
   "cell_type": "code",
   "execution_count": 5,
   "id": "4ade2b0b-ca7c-4711-8c75-53519dcfdb4c",
   "metadata": {},
   "outputs": [
    {
     "ename": "NameError",
     "evalue": "name 'target_tensor' is not defined",
     "output_type": "error",
     "traceback": [
      "\u001b[1;31m---------------------------------------------------------------------------\u001b[0m",
      "\u001b[1;31mNameError\u001b[0m                                 Traceback (most recent call last)",
      "Cell \u001b[1;32mIn[5], line 1\u001b[0m\n\u001b[1;32m----> 1\u001b[0m model\u001b[38;5;241m.\u001b[39mfit(input_tensor, \u001b[43mtarget_tensor\u001b[49m, batch_size\u001b[38;5;241m=\u001b[39m\u001b[38;5;241m128\u001b[39m, epochs\u001b[38;5;241m=\u001b[39m\u001b[38;5;241m10\u001b[39m)\n",
      "\u001b[1;31mNameError\u001b[0m: name 'target_tensor' is not defined"
     ]
    }
   ],
   "source": [
    "model.fit(input_tensor, target_tensor, batch_size=128, epochs=10)"
   ]
  }
 ],
 "metadata": {
  "kernelspec": {
   "display_name": "Python 3 (ipykernel)",
   "language": "python",
   "name": "python3"
  },
  "language_info": {
   "codemirror_mode": {
    "name": "ipython",
    "version": 3
   },
   "file_extension": ".py",
   "mimetype": "text/x-python",
   "name": "python",
   "nbconvert_exporter": "python",
   "pygments_lexer": "ipython3",
   "version": "3.10.6"
  }
 },
 "nbformat": 4,
 "nbformat_minor": 5
}
