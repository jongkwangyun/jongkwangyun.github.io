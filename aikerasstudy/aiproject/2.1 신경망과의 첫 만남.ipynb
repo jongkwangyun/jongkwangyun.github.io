{
 "cells": [
  {
   "cell_type": "markdown",
   "id": "98497f9d-6434-4b3b-a231-40919f318847",
   "metadata": {},
   "source": [
    "# 2.1 신경망과의 첫 만남"
   ]
  },
  {
   "cell_type": "markdown",
   "id": "b4ce64f8-2bb8-495b-9620-78d8c667cf65",
   "metadata": {},
   "source": [
    "머신러닝에서 분류 문제의 범주(category)를 클래스(class)라고 합니다. 데이터 포인트는 샘플(sample)이라고 합니다. 특정 샘플의 클래스는 레이블(label)이라고 합니다."
   ]
  },
  {
   "cell_type": "markdown",
   "id": "92d2fa7e-4f05-4b38-ba5a-d2b2bbcab27b",
   "metadata": {},
   "source": [
    "#### 코드 2-1 케라스에서 MNIST 데이터셋 적재하기"
   ]
  },
  {
   "cell_type": "code",
   "execution_count": 2,
   "id": "036406a4-9195-412d-a6ff-2297adf5aebc",
   "metadata": {},
   "outputs": [],
   "source": [
    "from keras.datasets import mnist\n",
    "(train_images, train_labels), (test_images, test_labels) = mnist.load_data()"
   ]
  },
  {
   "cell_type": "code",
   "execution_count": 18,
   "id": "483980ff-e5a2-400d-ba9a-cbf4c181b63a",
   "metadata": {},
   "outputs": [
    {
     "data": {
      "text/plain": [
       "(60000, 784)"
      ]
     },
     "execution_count": 18,
     "metadata": {},
     "output_type": "execute_result"
    }
   ],
   "source": [
    "train_images.shape"
   ]
  },
  {
   "cell_type": "code",
   "execution_count": 6,
   "id": "30c7429a-32b0-4bcd-b156-72a6f0004cba",
   "metadata": {},
   "outputs": [
    {
     "data": {
      "text/plain": [
       "60000"
      ]
     },
     "execution_count": 6,
     "metadata": {},
     "output_type": "execute_result"
    }
   ],
   "source": [
    "len(train_labels)"
   ]
  },
  {
   "cell_type": "code",
   "execution_count": 7,
   "id": "fd21ff95-01fa-40f1-a66f-5e067d084a47",
   "metadata": {},
   "outputs": [
    {
     "data": {
      "text/plain": [
       "array([5, 0, 4, ..., 5, 6, 8], dtype=uint8)"
      ]
     },
     "execution_count": 7,
     "metadata": {},
     "output_type": "execute_result"
    }
   ],
   "source": [
    "train_labels"
   ]
  },
  {
   "cell_type": "code",
   "execution_count": 8,
   "id": "96452a24-382f-41f1-a79f-dcdd3abbc5c2",
   "metadata": {},
   "outputs": [
    {
     "data": {
      "text/plain": [
       "(10000, 28, 28)"
      ]
     },
     "execution_count": 8,
     "metadata": {},
     "output_type": "execute_result"
    }
   ],
   "source": [
    "test_images.shape"
   ]
  },
  {
   "cell_type": "code",
   "execution_count": 9,
   "id": "a5377acd-306d-4d57-b1f7-c3ef9025e591",
   "metadata": {},
   "outputs": [
    {
     "data": {
      "text/plain": [
       "10000"
      ]
     },
     "execution_count": 9,
     "metadata": {},
     "output_type": "execute_result"
    }
   ],
   "source": [
    "len(test_labels)"
   ]
  },
  {
   "cell_type": "code",
   "execution_count": 11,
   "id": "ca0dda03-1efe-46c5-b8bc-5e023c54592b",
   "metadata": {},
   "outputs": [
    {
     "data": {
      "text/plain": [
       "array([7, 2, 1, ..., 4, 5, 6], dtype=uint8)"
      ]
     },
     "execution_count": 11,
     "metadata": {},
     "output_type": "execute_result"
    }
   ],
   "source": [
    "test_labels"
   ]
  },
  {
   "cell_type": "markdown",
   "id": "1e07eccc-ee33-4d7c-bc54-0f42f705b2ab",
   "metadata": {},
   "source": [
    "작업 순서: 훈련 데이터 train_images와 train_labels를 네트워크에 주입\n",
    "           → 네트워크는 이미지와 레이블을 연관시킬 수 있도록 학습 \n",
    "           → 마지막으로 test_images에 대한 예측을 네트워크에 요청"
   ]
  },
  {
   "cell_type": "markdown",
   "id": "3a8a259d-e576-4de7-85e3-1bf8f25813a5",
   "metadata": {},
   "source": [
    "#### 코드 2-2 신경망 구조"
   ]
  },
  {
   "cell_type": "code",
   "execution_count": 13,
   "id": "29aef343-4426-4f95-87a2-4dee898e03e0",
   "metadata": {},
   "outputs": [
    {
     "name": "stderr",
     "output_type": "stream",
     "text": [
      "D:\\git\\jongkwangyun.github.io\\aikerasstudy\\aiproject\\lib\\site-packages\\keras\\src\\layers\\core\\dense.py:87: UserWarning: Do not pass an `input_shape`/`input_dim` argument to a layer. When using Sequential models, prefer using an `Input(shape)` object as the first layer in the model instead.\n",
      "  super().__init__(activity_regularizer=activity_regularizer, **kwargs)\n"
     ]
    }
   ],
   "source": [
    "from keras import models\n",
    "from keras import layers\n",
    "\n",
    "network = models.Sequential()\n",
    "network.add(layers.Dense(512, activation='relu', input_shape=(28 * 28,)))\n",
    "network.add(layers.Dense(10, activation='softmax'))"
   ]
  },
  {
   "cell_type": "markdown",
   "id": "e20e5f1e-5f89-41eb-86a1-c2c54d95fc4c",
   "metadata": {},
   "source": [
    "신경망의 핵심 구성요소는 일종의 데이터 처리 필터라고 생각할 수 있는 층(layer)입니다.\n",
    "두 번째 층은 10개의 확률 점수가 들어 있는 배열(모두 더하면 1입니다)을 반환하는 소프트맥스 층입니다.\n",
    "\n",
    "신경망이 훈련 준비를 마치기 위해서 컴파일 단계에 포함될 세 가지가 더 필요합니다.\n",
    "- 손실 함수(loss function): 훈련 데이터에서 신경망의 성능을 측정하는 방법으로 네트워크가 옳은 방향으로 학습될 수 있도록 도와줍니다.\n",
    "- 옵티마이저(optimizer): 입력된 데이터와 손실 함수를 기반으로 네트워크를 업데이트하는 메커니즘입니다.\n",
    "- 훈련과 테스트 과정을 모니터링할 지표: 여기에서는 정확도(정확히 분류된 이미지의 비율)만 고려하겠습니다."
   ]
  },
  {
   "cell_type": "markdown",
   "id": "1469524d-6183-42cf-993c-e5f07c47db7a",
   "metadata": {},
   "source": [
    "#### 코드 2-3 컴파일 단계"
   ]
  },
  {
   "cell_type": "code",
   "execution_count": 14,
   "id": "66a37c2d-4666-4d1e-944e-f2de566babc5",
   "metadata": {},
   "outputs": [],
   "source": [
    "network.compile(optimizer='rmsprop',\n",
    "               loss='categorical_crossentropy',\n",
    "               metrics=['accuracy'])"
   ]
  },
  {
   "cell_type": "markdown",
   "id": "b333b46a-54b4-4ad4-99b9-de55d53d51eb",
   "metadata": {},
   "source": [
    "#### 코드 2-4 이미지 데이터 준비하기"
   ]
  },
  {
   "cell_type": "markdown",
   "id": "47879273-ce73-46a5-9589-f35a1f5e79e6",
   "metadata": {},
   "source": [
    "훈련 전에 데이터를 네트워크에 맞는 크기로 바꾸고 모든 값을 0과 1 사이로 스케일을 조정합니다."
   ]
  },
  {
   "cell_type": "code",
   "execution_count": 15,
   "id": "6a5b1b4e-69ee-4c60-8b37-dea82af53124",
   "metadata": {},
   "outputs": [],
   "source": [
    "train_images = train_images.reshape((60000, 28 * 28))\n",
    "train_images = train_images.astype('float32') / 255\n",
    "\n",
    "test_images = test_images.reshape((10000, 28 * 28))\n",
    "test_images = test_images.astype('float32') / 255"
   ]
  },
  {
   "cell_type": "markdown",
   "id": "288defa8-8f36-41d0-bada-243dc342cc02",
   "metadata": {
    "jp-MarkdownHeadingCollapsed": true
   },
   "source": [
    "또 레이블을 범주형으로 코딩해야 합니다."
   ]
  },
  {
   "cell_type": "code",
   "execution_count": 16,
   "id": "f0a2743d-88e1-4202-a34b-9563a209dfe2",
   "metadata": {},
   "outputs": [],
   "source": [
    "from keras.utils import to_categorical\n",
    "\n",
    "train_labels = to_categorical(train_labels)\n",
    "test_labels = to_categorical(test_labels)"
   ]
  },
  {
   "cell_type": "markdown",
   "id": "f4e3b105-dda5-40f1-9e66-a96fae80d8b8",
   "metadata": {},
   "source": [
    "fit 메서드를 호출하여 훈련 데이터에 모델을 학습시킵니다."
   ]
  },
  {
   "cell_type": "code",
   "execution_count": 17,
   "id": "d652b755-09c9-47e4-88a5-6293cdc6c659",
   "metadata": {},
   "outputs": [
    {
     "name": "stdout",
     "output_type": "stream",
     "text": [
      "Epoch 1/5\n",
      "\u001b[1m469/469\u001b[0m \u001b[32m━━━━━━━━━━━━━━━━━━━━\u001b[0m\u001b[37m\u001b[0m \u001b[1m5s\u001b[0m 4ms/step - accuracy: 0.8743 - loss: 0.4357\n",
      "Epoch 2/5\n",
      "\u001b[1m469/469\u001b[0m \u001b[32m━━━━━━━━━━━━━━━━━━━━\u001b[0m\u001b[37m\u001b[0m \u001b[1m2s\u001b[0m 4ms/step - accuracy: 0.9677 - loss: 0.1140\n",
      "Epoch 3/5\n",
      "\u001b[1m469/469\u001b[0m \u001b[32m━━━━━━━━━━━━━━━━━━━━\u001b[0m\u001b[37m\u001b[0m \u001b[1m2s\u001b[0m 4ms/step - accuracy: 0.9789 - loss: 0.0714\n",
      "Epoch 4/5\n",
      "\u001b[1m469/469\u001b[0m \u001b[32m━━━━━━━━━━━━━━━━━━━━\u001b[0m\u001b[37m\u001b[0m \u001b[1m2s\u001b[0m 4ms/step - accuracy: 0.9839 - loss: 0.0521\n",
      "Epoch 5/5\n",
      "\u001b[1m469/469\u001b[0m \u001b[32m━━━━━━━━━━━━━━━━━━━━\u001b[0m\u001b[37m\u001b[0m \u001b[1m2s\u001b[0m 4ms/step - accuracy: 0.9887 - loss: 0.0380\n"
     ]
    },
    {
     "data": {
      "text/plain": [
       "<keras.src.callbacks.history.History at 0x17b1267beb0>"
      ]
     },
     "execution_count": 17,
     "metadata": {},
     "output_type": "execute_result"
    }
   ],
   "source": [
    "network.fit(train_images, train_labels, epochs=5, batch_size=128)"
   ]
  },
  {
   "cell_type": "markdown",
   "id": "74ba3410-eb76-4cd2-a014-59006c4564a2",
   "metadata": {},
   "source": [
    "훈련하는 동안 네트워크의 손실과 정확도 정보가 출력됩니다"
   ]
  },
  {
   "cell_type": "code",
   "execution_count": 20,
   "id": "9e179cb8-b8ea-4d06-958a-544ee24e7a48",
   "metadata": {},
   "outputs": [
    {
     "name": "stdout",
     "output_type": "stream",
     "text": [
      "\u001b[1m313/313\u001b[0m \u001b[32m━━━━━━━━━━━━━━━━━━━━\u001b[0m\u001b[37m\u001b[0m \u001b[1m1s\u001b[0m 1ms/step - accuracy: 0.9734 - loss: 0.0840\n",
      "test_acc: 0.9790999889373779\n"
     ]
    }
   ],
   "source": [
    "test_loss, test_acc = network.evaluate(test_images, test_labels)\n",
    "print('test_acc:', test_acc)"
   ]
  },
  {
   "cell_type": "markdown",
   "id": "00e887ca-5bc5-4ff5-a54a-10775867c11a",
   "metadata": {},
   "source": [
    "훈련 세트 정확도보다는 약간 낮습니다. 훈련 정확도와 테스트 정확도 사이의 차이는 과대적합 때문입니다."
   ]
  }
 ],
 "metadata": {
  "kernelspec": {
   "display_name": "Python 3 (ipykernel)",
   "language": "python",
   "name": "python3"
  },
  "language_info": {
   "codemirror_mode": {
    "name": "ipython",
    "version": 3
   },
   "file_extension": ".py",
   "mimetype": "text/x-python",
   "name": "python",
   "nbconvert_exporter": "python",
   "pygments_lexer": "ipython3",
   "version": "3.10.6"
  }
 },
 "nbformat": 4,
 "nbformat_minor": 5
}
