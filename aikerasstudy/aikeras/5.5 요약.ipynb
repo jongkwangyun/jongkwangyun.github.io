{
 "cells": [
  {
   "cell_type": "markdown",
   "id": "62737065",
   "metadata": {},
   "source": [
    "# 5.5 요약"
   ]
  },
  {
   "cell_type": "markdown",
   "id": "3fba1b61",
   "metadata": {},
   "source": [
    "- 컨브넷은 시각적인 분류 문제를 다루는 데 최상의 도구입니다.\n",
    "- 컨브넷은 우리가 보는 세상을 표현하기 위한 패턴의 계측 구조와 개념을 학습합니다.\n",
    "- 학습된 표현은 쉽게 분석할 수 있습니다.\n",
    "- 이미지 분류 문제를 풀기 위해 자신만의 컨브넷을 처음부터 훈련시킬 수 있습니다.\n",
    "- 과대적합을 줄이기 위해 데이터를 증식하는 방법을 배웠습니다.\n",
    "- 사전 훈련된 컨브넷을 사용하여 특성 추출과 미세 조정하는 방법을 배웠습니다.\n",
    "- 클래스 활성화 히트맵을 포함하여 컨브넷이 학습한 필터를 시각화할 수 있습니다."
   ]
  }
 ],
 "metadata": {
  "kernelspec": {
   "display_name": "Python 3",
   "language": "python",
   "name": "python3"
  },
  "language_info": {
   "codemirror_mode": {
    "name": "ipython",
    "version": 3
   },
   "file_extension": ".py",
   "mimetype": "text/x-python",
   "name": "python",
   "nbconvert_exporter": "python",
   "pygments_lexer": "ipython3",
   "version": "3.6.7"
  }
 },
 "nbformat": 4,
 "nbformat_minor": 5
}
