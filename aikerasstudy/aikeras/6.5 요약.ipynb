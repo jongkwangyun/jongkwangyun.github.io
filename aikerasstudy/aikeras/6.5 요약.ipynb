{
 "cells": [
  {
   "cell_type": "markdown",
   "id": "e19d3661",
   "metadata": {},
   "source": [
    "# 6.5 요약"
   ]
  },
  {
   "cell_type": "markdown",
   "id": "0f93a054",
   "metadata": {},
   "source": [
    "- 이 장에 배운 기법\n",
    "    - 텍스트를 토큰화 하는 방법\n",
    "    - 단어 임베딩과 이를 사용하는 방법\n",
    "    - 순환 네트워크와 이를 사용하는 방법\n",
    "    - 더 강력한 시퀀스 처리 모델을 만들기 위해 RNN 층을 스태킹하는 방법과 양방향 RNN을 사용하는 방법\n",
    "    - 시퀀스를 처리하기 위해 1D 컨브넷을 사용하는 방법\n",
    "    - 긴 시퀀스를 처리하기 위해 1D 컨브넷과 RNN을 연결하는 방법\n",
    "- 시계열 데이터를 사용한 회귀(미래 값을 예측), 시계열 분류, 시계열에 있는 이상치 감지, 시퀀스 레이블링(문장에서 이름이나 날짜를 식별하기 등)에 RNN을 사용할 수 있습니다.\n",
    "- 비슷하게 기계 번역(SliceNet 같은 시퀀스-투-시퀀스 합성곱 모델), 문서 분류, 맞춤법 정정 등에 1D 컨브넷을 사용할 수 있습니다.\n",
    "- 시퀀스 데이터에서 전반적인 순서가 중요하다면 순환 네트워크를 사용하여 처리하는 것이 좋습니다. 최근의 정보가 오래된 과거보다 더 중요한 시계열 데이터가 전형적인 경우입니다.\n",
    "- 전반적인 순서가 큰 의미가 없다면 1D 컨브넷이 적어도 동일한 성능을 내면서 비용도 적을 것입니다. 텍스트 데이터가 종종 이에 해당합니다. 문장 처음에 있는 키워드가 마지막에 있는 키워드와 같은 의미를 가집니다."
   ]
  }
 ],
 "metadata": {
  "kernelspec": {
   "display_name": "Python 3",
   "language": "python",
   "name": "python3"
  },
  "language_info": {
   "codemirror_mode": {
    "name": "ipython",
    "version": 3
   },
   "file_extension": ".py",
   "mimetype": "text/x-python",
   "name": "python",
   "nbconvert_exporter": "python",
   "pygments_lexer": "ipython3",
   "version": "3.6.7"
  }
 },
 "nbformat": 4,
 "nbformat_minor": 5
}
