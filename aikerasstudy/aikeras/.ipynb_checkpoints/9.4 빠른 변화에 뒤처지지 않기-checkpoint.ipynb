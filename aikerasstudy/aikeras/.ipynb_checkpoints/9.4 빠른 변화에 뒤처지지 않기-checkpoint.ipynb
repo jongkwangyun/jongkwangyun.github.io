{
 "cells": [
  {
   "cell_type": "markdown",
   "id": "5de6d694",
   "metadata": {},
   "source": [
    "# 9.4 빠른 변화에 뒤처지지 않기"
   ]
  },
  {
   "cell_type": "markdown",
   "id": "03104a45",
   "metadata": {},
   "source": [
    "### 9.4.1 캐글의 실전 문제로 연습하기\n",
    "\n",
    "https://kaggle.com 에서 머신 러닝 경연 대회에 직접 참여\n",
    "\n",
    "대부분 우승자들은 XGBoost 라이브러리(얕은 학습용)나 케라스(딥러닝용)를 사용합니다.\n",
    "\n",
    "### 9.4.2 아카이브(arXiv)를 통해 최신 논문 읽기\n",
    "\n",
    "https://arxiv.org 에 대다수의 딥러닝 연구자들이 논문 작성이 끝나자마자 아카이브에 업로드합니다. 연구자들은 이렇게 함으로써 학회 승인(몇 달을 기다립니다)을 기다리지 않고 연구한 것을 주장하고 선점할 수 있습니다.\n",
    "\n",
    "단점은 많은 양의 새로운 논문이 매일 아카이브에 포스팅되기 때문에 모두 훑어보느 것이 불가능하다는 것입니다. 동료 심가(peer review)가 되지 않았기 때문에 중요하고 훌륭한 논문을 구별해내기도 어렵습니다. 아카이브 새니티 프리저버(arXiv Sanity Preserver)(http://arxiv-sanity.com)는 새로운 논문을 추천해 주고 특정 세부 카테고리 안에서 일어나는 새로운 딥러닝 연구를 쫓아갈 수 있도록 도와줍니다. 추가로 구글 스칼라(Google Scholar)(https://scholar.google.com)를 사용하여 좋아하는 저자별로 논문을 찾아볼 수 있습니다.\n",
    "\n",
    "### 9.4.3 케라스 생태계 탐험하기\n",
    "- 주 참고자료: https://keras.io\n",
    "- 케라스 소스 코드: https://github.com/keras-team/keras\n",
    "- 케라스 슬랙 채널(https://kerasteam.slack.com) 에서 토론 참여, 도움 요청\n",
    "- 케라스 블로그(https://blog.keras.io) 에서 케라스 튜토리얼\n",
    "- 필자 트위터 (@fchollet)"
   ]
  }
 ],
 "metadata": {
  "kernelspec": {
   "display_name": "Python 3",
   "language": "python",
   "name": "python3"
  },
  "language_info": {
   "codemirror_mode": {
    "name": "ipython",
    "version": 3
   },
   "file_extension": ".py",
   "mimetype": "text/x-python",
   "name": "python",
   "nbconvert_exporter": "python",
   "pygments_lexer": "ipython3",
   "version": "3.6.7"
  }
 },
 "nbformat": 4,
 "nbformat_minor": 5
}
