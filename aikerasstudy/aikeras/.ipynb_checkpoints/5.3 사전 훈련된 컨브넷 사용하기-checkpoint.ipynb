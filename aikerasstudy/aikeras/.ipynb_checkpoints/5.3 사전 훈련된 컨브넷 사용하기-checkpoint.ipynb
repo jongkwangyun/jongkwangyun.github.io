{
 "cells": [
  {
   "cell_type": "markdown",
   "id": "45399e93",
   "metadata": {},
   "source": [
    "# 5.3 사전 훈련된 컨브넷 사용하기\n",
    "\n",
    "작은 이미지 데이터셋에 딥러닝을 적용하는 일반적이고 매우 효과적인 방법은 사전 훈련된 네트워크를 사용하는 것입니다. 사전 훈련된 네트워크(pretrained network)는 일반적으로 대규모 이미지 분류 문제를 위해 대량의 데이터셋에서 미리 훈련되어 저장된 네트워크입니다. 원본 데이터셋이 충분히 크고 일반적이라면 사전 훈련된 네트워크에 의해 가습된 특성의 계층 구조는 실제 세상에 대한 일반적인 모델로 효율적인 역할을 할 수 있습니다.\n",
    "\n",
    "여기에서는 (1400만 개의 레이블된 이미지와 1000개의 클래스로 이루어진) ImageNet 데이터 셋에서 훈련된 대규모 컨브넷을 사용해 보겠습니다.\n",
    "\n",
    "2014년에 개발한 VGG16 구조를 사용하겠습니다. VGG16은 조금 오래되었고 최고 수준의 성능에는 못 미치며 최근의 다른 모델보다는 조금 무겁습늬다.\n",
    "\n",
    "사전 훈련된 네트워크를 사용하는 두 가지 방법이 있습니다. 특성 추출(feature extraction)과 미세 조정(fine tuning)입니다\n",
    "\n",
    "### 5.3.1 특성 추출\n",
    "특성 추출은 사전에 학습된 네트워크의 표현을 사용하여 새로운 샘플에서 흥미로운 특성을 뽑아내는 것입니다. 이런 특성을 사용하여 새로운 분류기를 처음부터 훈련합니다.\n",
    "\n",
    "첫 번째 부분을 모델의 합성곱 기반 층(convolutional base)이라고 부르겠습니다. 컨브넷의 경우 특성 추출은 사전에 훈련된 네트워크의 합성곱 기반 층을 선택하여 새로운 데이터를 통과시키고, 그 출력으로 새로운 분류기를 훈련합니다.\n",
    "\n",
    "왜 합성곱 층만 재사용할까요? 완전 연결 분류기도 재사용할 수 있을까요? 일반적으로 권장하지 않습니다. 합성곱 층에 의해 학습된 표현이 더 일반적이어서 재사용이 가능하기 때문입니다. 모델의 하위 층은 (에지, 색깔, 질감 등) 지역적이고 매우 일반적인 특성 맵을 추출합니다. 반면에 상위 층은 ('강아지 눈'이나 '고양이 귀'처럼) 좀 더 추상적인 개념을 추출합니다.\n",
    "\n",
    "VGG16 모델은 케라스에 패키지로 포함되어 있습니다. keras.applications 모듈에서 사용 가능한 이미지 분류 모델은 다음과 같습니다.\n",
    "- Xception\n",
    "- Inception V3\n",
    "- ResNet50\n",
    "- VGG16\n",
    "- VGG19\n",
    "- MobileNet\n",
    "\n",
    "#### 코드 5-16 VGG16 합성곱 기반 층 만들기"
   ]
  },
  {
   "cell_type": "code",
   "execution_count": 4,
   "id": "96d8fe6a",
   "metadata": {},
   "outputs": [],
   "source": [
    "from keras.applications import VGG16\n",
    "\n",
    "conv_base = VGG16(weights='imagenet',\n",
    "                 include_top=False,\n",
    "                 input_shape=(150, 150, 3))"
   ]
  },
  {
   "cell_type": "markdown",
   "id": "95f388c2",
   "metadata": {},
   "source": [
    "VGG16 함수에 3개의 매개변수를 전달합니다.\n",
    "- weights는 모델을 초기화할 가중치 체크포인트를 지정합니다.\n",
    "- include_top은 네트워크의 최상위 완전 연결 분류기를 포함할 지 안 할지 지정합니다. 기본 값은 ImageNet의 클래스 1000개에 대응되는 완전 연결 분류기를 포함합니다. 별도의 완전 연결 층을 추가하려고 하므로 이를 포함시키지 않습니다.\n",
    "- input_shape은 네트워크에 주입할 이미지 텐서의 크기입니다. 이 매개변수는 선택사항입니다. 이 값을 지정하지 않으면 네트워크가 어떤 크기의 입력도 처리할 수 있습니다."
   ]
  },
  {
   "cell_type": "code",
   "execution_count": 5,
   "id": "24774e73",
   "metadata": {},
   "outputs": [
    {
     "name": "stdout",
     "output_type": "stream",
     "text": [
      "_________________________________________________________________\n",
      "Layer (type)                 Output Shape              Param #   \n",
      "=================================================================\n",
      "input_2 (InputLayer)         (None, 150, 150, 3)       0         \n",
      "_________________________________________________________________\n",
      "block1_conv1 (Conv2D)        (None, 150, 150, 64)      1792      \n",
      "_________________________________________________________________\n",
      "block1_conv2 (Conv2D)        (None, 150, 150, 64)      36928     \n",
      "_________________________________________________________________\n",
      "block1_pool (MaxPooling2D)   (None, 75, 75, 64)        0         \n",
      "_________________________________________________________________\n",
      "block2_conv1 (Conv2D)        (None, 75, 75, 128)       73856     \n",
      "_________________________________________________________________\n",
      "block2_conv2 (Conv2D)        (None, 75, 75, 128)       147584    \n",
      "_________________________________________________________________\n",
      "block2_pool (MaxPooling2D)   (None, 37, 37, 128)       0         \n",
      "_________________________________________________________________\n",
      "block3_conv1 (Conv2D)        (None, 37, 37, 256)       295168    \n",
      "_________________________________________________________________\n",
      "block3_conv2 (Conv2D)        (None, 37, 37, 256)       590080    \n",
      "_________________________________________________________________\n",
      "block3_conv3 (Conv2D)        (None, 37, 37, 256)       590080    \n",
      "_________________________________________________________________\n",
      "block3_pool (MaxPooling2D)   (None, 18, 18, 256)       0         \n",
      "_________________________________________________________________\n",
      "block4_conv1 (Conv2D)        (None, 18, 18, 512)       1180160   \n",
      "_________________________________________________________________\n",
      "block4_conv2 (Conv2D)        (None, 18, 18, 512)       2359808   \n",
      "_________________________________________________________________\n",
      "block4_conv3 (Conv2D)        (None, 18, 18, 512)       2359808   \n",
      "_________________________________________________________________\n",
      "block4_pool (MaxPooling2D)   (None, 9, 9, 512)         0         \n",
      "_________________________________________________________________\n",
      "block5_conv1 (Conv2D)        (None, 9, 9, 512)         2359808   \n",
      "_________________________________________________________________\n",
      "block5_conv2 (Conv2D)        (None, 9, 9, 512)         2359808   \n",
      "_________________________________________________________________\n",
      "block5_conv3 (Conv2D)        (None, 9, 9, 512)         2359808   \n",
      "_________________________________________________________________\n",
      "block5_pool (MaxPooling2D)   (None, 4, 4, 512)         0         \n",
      "=================================================================\n",
      "Total params: 14,714,688\n",
      "Trainable params: 14,714,688\n",
      "Non-trainable params: 0\n",
      "_________________________________________________________________\n"
     ]
    }
   ],
   "source": [
    "conv_base.summary()"
   ]
  },
  {
   "cell_type": "markdown",
   "id": "54f09999",
   "metadata": {},
   "source": [
    "이 지점에서 두 가지 방식이 가능합니다.\n",
    "\n",
    "#### 데이터 증식을 사용하지 않는 빠른 특성 추출\n",
    "\n",
    "#### 코드 5-17 사전 훈련된 합성곱 기반 층을 사용한 특성 추출하기"
   ]
  },
  {
   "cell_type": "code",
   "execution_count": 5,
   "id": "2efe27ee",
   "metadata": {},
   "outputs": [
    {
     "name": "stdout",
     "output_type": "stream",
     "text": [
      "Found 2000 images belonging to 2 classes.\n",
      "Found 1000 images belonging to 2 classes.\n",
      "Found 1000 images belonging to 2 classes.\n"
     ]
    }
   ],
   "source": [
    "import os\n",
    "import numpy as np\n",
    "from keras.preprocessing.image import ImageDataGenerator\n",
    "\n",
    "base_dir = './datasets/cats_and_dogs_small'\n",
    "train_dir = os.path.join(base_dir, 'train')\n",
    "validation_dir = os.path.join(base_dir, 'validation')\n",
    "test_dir = os.path.join(base_dir, 'test')\n",
    "\n",
    "datagen = ImageDataGenerator(rescale=1./255)\n",
    "batch_size = 20\n",
    "\n",
    "def extract_features(directory, sample_count):\n",
    "    features = np.zeros(shape=(sample_count, 4, 4, 512))\n",
    "    labels = np.zeros(shape=(sample_count))\n",
    "    generator = datagen.flow_from_directory(\n",
    "        directory,\n",
    "        target_size=(150, 150),\n",
    "        batch_size=batch_size,\n",
    "        class_mode='binary')\n",
    "    i = 0\n",
    "    for inputs_batch, labels_batch in generator:\n",
    "        features_batch = conv_base.predict(inputs_batch)\n",
    "        features[i * batch_size : (i + 1) * batch_size] = features_batch\n",
    "        labels[i * batch_size : (i + 1) * batch_size] = labels_batch\n",
    "        i += 1\n",
    "        if i * batch_size >= sample_count:\n",
    "            break\n",
    "    return features, labels\n",
    "\n",
    "train_features, train_labels = extract_features(train_dir, 2000)\n",
    "validation_features, validation_labels = extract_features(validation_dir, 1000)\n",
    "test_features, test_labels = extract_features(test_dir, 1000)"
   ]
  },
  {
   "cell_type": "markdown",
   "id": "32fcf42e",
   "metadata": {},
   "source": [
    "추출된 특성의 크기는 (samples, 4, 4, 512)입니다. 완전 연결 분류기에 주입하기 위해서 먼저 (samples, 8192) 크기로 펼칩니다."
   ]
  },
  {
   "cell_type": "code",
   "execution_count": 5,
   "id": "e8255c58",
   "metadata": {},
   "outputs": [],
   "source": [
    "train_features = np.reshape(train_features, (2000, 4 * 4 * 512))\n",
    "validation_features = np.reshape(validation_features, (1000, 4 * 4 * 512))\n",
    "test_features = np.reshape(test_features, (1000, 4 * 4 * 512))"
   ]
  },
  {
   "cell_type": "markdown",
   "id": "4b9f34e1",
   "metadata": {},
   "source": [
    "그러고 나서 완전 연결 분류기를 정의하고(규제를 위해 드롭아웃을 사용합니다) 저장된 데이터와 레이블을 사용하여 훈련합니다.\n",
    "\n",
    "#### 코드 5-18 완전 연결 분류기를 정의하고 훈련하기"
   ]
  },
  {
   "cell_type": "code",
   "execution_count": 8,
   "id": "3cdf0aff",
   "metadata": {},
   "outputs": [
    {
     "name": "stdout",
     "output_type": "stream",
     "text": [
      "Train on 2000 samples, validate on 1000 samples\n",
      "Epoch 1/30\n",
      "2000/2000 [==============================] - 2s 810us/step - loss: 0.6146 - acc: 0.6530 - val_loss: 0.4709 - val_acc: 0.7930\n",
      "Epoch 2/30\n",
      "2000/2000 [==============================] - 1s 489us/step - loss: 0.4449 - acc: 0.7955 - val_loss: 0.3737 - val_acc: 0.8530\n",
      "Epoch 3/30\n",
      "2000/2000 [==============================] - 1s 493us/step - loss: 0.3707 - acc: 0.8375 - val_loss: 0.3449 - val_acc: 0.8570\n",
      "Epoch 4/30\n",
      "2000/2000 [==============================] - 1s 480us/step - loss: 0.3288 - acc: 0.8590 - val_loss: 0.3097 - val_acc: 0.8820\n",
      "Epoch 5/30\n",
      "2000/2000 [==============================] - 1s 499us/step - loss: 0.2920 - acc: 0.8765 - val_loss: 0.2951 - val_acc: 0.8800\n",
      "Epoch 6/30\n",
      "2000/2000 [==============================] - 1s 478us/step - loss: 0.2705 - acc: 0.8930 - val_loss: 0.2808 - val_acc: 0.8890\n",
      "Epoch 7/30\n",
      "2000/2000 [==============================] - 1s 500us/step - loss: 0.2584 - acc: 0.8950 - val_loss: 0.2729 - val_acc: 0.8920\n",
      "Epoch 8/30\n",
      "2000/2000 [==============================] - 1s 465us/step - loss: 0.2414 - acc: 0.9070 - val_loss: 0.2689 - val_acc: 0.8940\n",
      "Epoch 9/30\n",
      "2000/2000 [==============================] - 1s 500us/step - loss: 0.2217 - acc: 0.9180 - val_loss: 0.2690 - val_acc: 0.8940\n",
      "Epoch 10/30\n",
      "2000/2000 [==============================] - 1s 468us/step - loss: 0.2116 - acc: 0.9235 - val_loss: 0.2548 - val_acc: 0.8940\n",
      "Epoch 11/30\n",
      "2000/2000 [==============================] - 1s 491us/step - loss: 0.1999 - acc: 0.9285 - val_loss: 0.2566 - val_acc: 0.9000\n",
      "Epoch 12/30\n",
      "2000/2000 [==============================] - 1s 459us/step - loss: 0.1893 - acc: 0.9305 - val_loss: 0.2533 - val_acc: 0.9000\n",
      "Epoch 13/30\n",
      "2000/2000 [==============================] - 1s 439us/step - loss: 0.1834 - acc: 0.9385 - val_loss: 0.2460 - val_acc: 0.9000\n",
      "Epoch 14/30\n",
      "2000/2000 [==============================] - 1s 445us/step - loss: 0.1732 - acc: 0.9360 - val_loss: 0.2479 - val_acc: 0.9040\n",
      "Epoch 15/30\n",
      "2000/2000 [==============================] - 1s 472us/step - loss: 0.1644 - acc: 0.9445 - val_loss: 0.2471 - val_acc: 0.9050\n",
      "Epoch 16/30\n",
      "2000/2000 [==============================] - 1s 477us/step - loss: 0.1606 - acc: 0.9435 - val_loss: 0.2502 - val_acc: 0.9010\n",
      "Epoch 17/30\n",
      "2000/2000 [==============================] - 1s 441us/step - loss: 0.1535 - acc: 0.9480 - val_loss: 0.2431 - val_acc: 0.9010\n",
      "Epoch 18/30\n",
      "2000/2000 [==============================] - 1s 466us/step - loss: 0.1534 - acc: 0.9460 - val_loss: 0.2413 - val_acc: 0.9020\n",
      "Epoch 19/30\n",
      "2000/2000 [==============================] - 1s 468us/step - loss: 0.1393 - acc: 0.9545 - val_loss: 0.2404 - val_acc: 0.9020\n",
      "Epoch 20/30\n",
      "2000/2000 [==============================] - 1s 474us/step - loss: 0.1368 - acc: 0.9565 - val_loss: 0.2405 - val_acc: 0.9030\n",
      "Epoch 21/30\n",
      "2000/2000 [==============================] - 1s 506us/step - loss: 0.1311 - acc: 0.9585 - val_loss: 0.2394 - val_acc: 0.9010\n",
      "Epoch 22/30\n",
      "2000/2000 [==============================] - 1s 489us/step - loss: 0.1221 - acc: 0.9585 - val_loss: 0.2604 - val_acc: 0.8920\n",
      "Epoch 23/30\n",
      "2000/2000 [==============================] - 1s 455us/step - loss: 0.1246 - acc: 0.9565 - val_loss: 0.2403 - val_acc: 0.9040\n",
      "Epoch 24/30\n",
      "2000/2000 [==============================] - 1s 455us/step - loss: 0.1177 - acc: 0.9600 - val_loss: 0.2629 - val_acc: 0.8930\n",
      "Epoch 25/30\n",
      "2000/2000 [==============================] - 1s 411us/step - loss: 0.1118 - acc: 0.9620 - val_loss: 0.2426 - val_acc: 0.9040\n",
      "Epoch 26/30\n",
      "2000/2000 [==============================] - 1s 446us/step - loss: 0.1068 - acc: 0.9665 - val_loss: 0.2403 - val_acc: 0.9040\n",
      "Epoch 27/30\n",
      "2000/2000 [==============================] - 1s 485us/step - loss: 0.1012 - acc: 0.9650 - val_loss: 0.2419 - val_acc: 0.9030\n",
      "Epoch 28/30\n",
      "2000/2000 [==============================] - 1s 476us/step - loss: 0.1011 - acc: 0.9655 - val_loss: 0.2444 - val_acc: 0.9020\n",
      "Epoch 29/30\n",
      "2000/2000 [==============================] - 1s 523us/step - loss: 0.0934 - acc: 0.9730 - val_loss: 0.2486 - val_acc: 0.9020\n",
      "Epoch 30/30\n",
      "2000/2000 [==============================] - 1s 474us/step - loss: 0.0935 - acc: 0.9715 - val_loss: 0.2429 - val_acc: 0.9050\n"
     ]
    }
   ],
   "source": [
    "from keras import models\n",
    "from keras import layers\n",
    "from keras import optimizers\n",
    "\n",
    "model = models.Sequential()\n",
    "model.add(layers.Dense(256, activation='relu', input_dim=4 * 4 * 512))\n",
    "model.add(layers.Dropout(0.5))\n",
    "model.add(layers.Dense(1, activation='sigmoid'))\n",
    "\n",
    "model.compile(optimizer=optimizers.RMSprop(lr=2e-5),\n",
    "             loss='binary_crossentropy',\n",
    "             metrics=['acc'])\n",
    "\n",
    "history = model.fit(train_features, train_labels,\n",
    "                   epochs=30,\n",
    "                   batch_size=20,\n",
    "                   validation_data=(validation_features, validation_labels))"
   ]
  },
  {
   "cell_type": "code",
   "execution_count": 10,
   "id": "d64747e0",
   "metadata": {},
   "outputs": [
    {
     "data": {
      "image/png": "[encoded data removed]",
      "text/plain": [
       "<Figure size 432x288 with 1 Axes>"
      ]
     },
     "metadata": {
      "needs_background": "light"
     },
     "output_type": "display_data"
    },
    {
     "data": {
      "image/png": "[encoded data removed]",
      "text/plain": [
       "<Figure size 432x288 with 1 Axes>"
      ]
     },
     "metadata": {
      "needs_background": "light"
     },
     "output_type": "display_data"
    }
   ],
   "source": [
    "import matplotlib.pyplot as plt\n",
    "\n",
    "acc = history.history['acc']\n",
    "val_acc = history.history['val_acc']\n",
    "loss = history.history['loss']\n",
    "val_loss = history.history['val_loss']\n",
    "\n",
    "epochs = range(1, len(acc) + 1)\n",
    "\n",
    "plt.plot(epochs, acc, 'bo', label='Training acc')\n",
    "plt.plot(epochs, val_acc, 'b', label='Validation acc')\n",
    "plt.title('Training and validation accuracy')\n",
    "plt.legend()\n",
    "\n",
    "plt.figure()\n",
    "\n",
    "plt.plot(epochs, loss, 'bo', label='Training loss')\n",
    "plt.plot(epochs, val_loss, 'b', label='Validation loss')\n",
    "plt.title('Training and validation loss')\n",
    "plt.legend()\n",
    "\n",
    "plt.show()"
   ]
  },
  {
   "cell_type": "markdown",
   "id": "60f08b71",
   "metadata": {},
   "source": [
    "약 90%의 검증 정확도에 도달했습니다. 하지만 이 그래프는 많은 비율로 드롭아웃을 사용했음에도 훈련을 시작하면서 거의 바로 과대적합되고 있다는 것을 보여 줍니다. 작은 이미지 데이터셋에서는 과대적합을 막기 위해 필수적인 데이터 증식을 사용하지 않았기 때문입니다.\n",
    "\n",
    "#### 데이터 증식을 사용한 특성 추출\n",
    "\n",
    "#### 코드 5-20 합성곱 기반 층 위에 완전 연결 분류기 추가하기"
   ]
  },
  {
   "cell_type": "code",
   "execution_count": 6,
   "id": "13547206",
   "metadata": {},
   "outputs": [
    {
     "name": "stdout",
     "output_type": "stream",
     "text": [
      "_________________________________________________________________\n",
      "Layer (type)                 Output Shape              Param #   \n",
      "=================================================================\n",
      "vgg16 (Model)                (None, 4, 4, 512)         14714688  \n",
      "_________________________________________________________________\n",
      "flatten_1 (Flatten)          (None, 8192)              0         \n",
      "_________________________________________________________________\n",
      "dense_1 (Dense)              (None, 256)               2097408   \n",
      "_________________________________________________________________\n",
      "dense_2 (Dense)              (None, 1)                 257       \n",
      "=================================================================\n",
      "Total params: 16,812,353\n",
      "Trainable params: 16,812,353\n",
      "Non-trainable params: 0\n",
      "_________________________________________________________________\n"
     ]
    }
   ],
   "source": [
    "from keras import models\n",
    "from keras import layers\n",
    "\n",
    "model = models.Sequential()\n",
    "model.add(conv_base)\n",
    "model.add(layers.Flatten())\n",
    "model.add(layers.Dense(256, activation='relu'))\n",
    "model.add(layers.Dense(1, activation='sigmoid'))\n",
    "\n",
    "model.summary()"
   ]
  },
  {
   "cell_type": "markdown",
   "id": "cad78570",
   "metadata": {},
   "source": [
    "모델을 컴파일하고 훈련하기 전에 합성곱 기반 층을 동결하는 것이 아주 중요합니다. 하나 이상의 층을 동결(freezing)한다는 것은 훈련하는 동안 가중치가 업데이트되지 않도록 막는다는 뜻입니다. 이렇게 하지 않으면 합성곱 기반 층에 의해 사전에 학습된 표현이 훈련하는 동안 수정될 것입니다. 맨 위의 Dense 층은 랜덤하게 초기화되었기 때문에 매우 큰 가중치 업데이트 값이 네트워크에 전파될 것입니다. 이는 사전에 학습된 표현을 크게 훼손하게 됩니다.\n",
    "\n",
    "케라스에서는 trainable 속성을 False로 설정하여 네트워크를 동결할 수 있습니다."
   ]
  },
  {
   "cell_type": "code",
   "execution_count": 7,
   "id": "92a57bab",
   "metadata": {},
   "outputs": [
    {
     "name": "stdout",
     "output_type": "stream",
     "text": [
      "conv_base를 동결하기 전 훈련되는 가중치의 수: 30\n",
      "conv_base를 동결한 후 훈련되는 가중치의 수: 4\n"
     ]
    }
   ],
   "source": [
    "print('conv_base를 동결하기 전 훈련되는 가중치의 수:', len(model.trainable_weights))\n",
    "conv_base.trainable = False\n",
    "print('conv_base를 동결한 후 훈련되는 가중치의 수:', len(model.trainable_weights))"
   ]
  },
  {
   "cell_type": "markdown",
   "id": "142b99b8",
   "metadata": {},
   "source": [
    "이렇게 설정하면 추가한 2개의 Dense 층 가중치만 훈련될 것입니다. 층마다 2개씩(가중치 행렬과 편향 벡터) 총 4개의 텐서가 훈련됩니다. 변경 사항을 적용하려면 먼저 모델을 컴파일해야 합니다. 컴파일 단계 후에 trainable 속성을 변경하면 반드시 모델을 다시 컴파일해야 합니다.\n",
    "\n",
    "#### 5-21 동결된 합성곱 기반 층과 함께 모델을 엔드-투-엔드로 훈련하기"
   ]
  },
  {
   "cell_type": "code",
   "execution_count": 8,
   "id": "7e30890e",
   "metadata": {},
   "outputs": [
    {
     "name": "stdout",
     "output_type": "stream",
     "text": [
      "Found 2000 images belonging to 2 classes.\n",
      "Found 1000 images belonging to 2 classes.\n",
      "Epoch 1/30\n",
      " - 17s - loss: 0.5580 - acc: 0.7295 - val_loss: 0.4223 - val_acc: 0.8210\n",
      "Epoch 2/30\n",
      " - 15s - loss: 0.4158 - acc: 0.8295 - val_loss: 0.3377 - val_acc: 0.8790\n",
      "Epoch 3/30\n",
      " - 16s - loss: 0.3498 - acc: 0.8610 - val_loss: 0.3008 - val_acc: 0.8870\n",
      "Epoch 4/30\n",
      " - 15s - loss: 0.3237 - acc: 0.8665 - val_loss: 0.2863 - val_acc: 0.8840\n",
      "Epoch 5/30\n",
      " - 15s - loss: 0.3085 - acc: 0.8700 - val_loss: 0.2680 - val_acc: 0.9020\n",
      "Epoch 6/30\n",
      " - 15s - loss: 0.2870 - acc: 0.8840 - val_loss: 0.2601 - val_acc: 0.9040\n",
      "Epoch 7/30\n",
      " - 15s - loss: 0.2790 - acc: 0.8740 - val_loss: 0.2561 - val_acc: 0.8980\n",
      "Epoch 8/30\n",
      " - 16s - loss: 0.2707 - acc: 0.8915 - val_loss: 0.2471 - val_acc: 0.8990\n",
      "Epoch 9/30\n",
      " - 23s - loss: 0.2583 - acc: 0.8965 - val_loss: 0.2427 - val_acc: 0.9060\n",
      "Epoch 10/30\n",
      " - 16s - loss: 0.2568 - acc: 0.8975 - val_loss: 0.2401 - val_acc: 0.9080\n",
      "Epoch 11/30\n",
      " - 16s - loss: 0.2520 - acc: 0.8990 - val_loss: 0.2411 - val_acc: 0.9080\n",
      "Epoch 12/30\n",
      " - 15s - loss: 0.2399 - acc: 0.9110 - val_loss: 0.2366 - val_acc: 0.9040\n",
      "Epoch 13/30\n",
      " - 15s - loss: 0.2356 - acc: 0.9000 - val_loss: 0.2361 - val_acc: 0.9060\n",
      "Epoch 14/30\n",
      " - 16s - loss: 0.2249 - acc: 0.9065 - val_loss: 0.2419 - val_acc: 0.8990\n",
      "Epoch 15/30\n",
      " - 15s - loss: 0.2332 - acc: 0.9080 - val_loss: 0.2365 - val_acc: 0.9030\n",
      "Epoch 16/30\n",
      " - 15s - loss: 0.2216 - acc: 0.9150 - val_loss: 0.2332 - val_acc: 0.9070\n",
      "Epoch 17/30\n",
      " - 15s - loss: 0.2169 - acc: 0.9180 - val_loss: 0.2321 - val_acc: 0.9040\n",
      "Epoch 18/30\n",
      " - 15s - loss: 0.2199 - acc: 0.9160 - val_loss: 0.2339 - val_acc: 0.9070\n",
      "Epoch 19/30\n",
      " - 15s - loss: 0.2107 - acc: 0.9175 - val_loss: 0.2289 - val_acc: 0.9070\n",
      "Epoch 20/30\n",
      " - 15s - loss: 0.2038 - acc: 0.9235 - val_loss: 0.2309 - val_acc: 0.9070\n",
      "Epoch 21/30\n",
      " - 15s - loss: 0.2054 - acc: 0.9195 - val_loss: 0.2365 - val_acc: 0.9080\n",
      "Epoch 22/30\n",
      " - 15s - loss: 0.1981 - acc: 0.9240 - val_loss: 0.2291 - val_acc: 0.9090\n",
      "Epoch 23/30\n",
      " - 15s - loss: 0.1924 - acc: 0.9265 - val_loss: 0.2353 - val_acc: 0.9080\n",
      "Epoch 24/30\n",
      " - 15s - loss: 0.1969 - acc: 0.9230 - val_loss: 0.2292 - val_acc: 0.9070\n",
      "Epoch 25/30\n",
      " - 15s - loss: 0.1861 - acc: 0.9290 - val_loss: 0.2282 - val_acc: 0.9100\n",
      "Epoch 26/30\n",
      " - 15s - loss: 0.1873 - acc: 0.9245 - val_loss: 0.2338 - val_acc: 0.9030\n",
      "Epoch 27/30\n",
      " - 15s - loss: 0.1914 - acc: 0.9220 - val_loss: 0.2303 - val_acc: 0.9080\n",
      "Epoch 28/30\n",
      " - 15s - loss: 0.1859 - acc: 0.9270 - val_loss: 0.2318 - val_acc: 0.9080\n",
      "Epoch 29/30\n",
      " - 15s - loss: 0.1926 - acc: 0.9215 - val_loss: 0.2330 - val_acc: 0.9080\n",
      "Epoch 30/30\n",
      " - 16s - loss: 0.1855 - acc: 0.9240 - val_loss: 0.2338 - val_acc: 0.9050\n"
     ]
    }
   ],
   "source": [
    "from keras.preprocessing.image import ImageDataGenerator\n",
    "from keras import optimizers\n",
    "\n",
    "train_datagen = ImageDataGenerator(\n",
    "    rescale=1./255,\n",
    "    rotation_range=20,\n",
    "    width_shift_range=0.1,\n",
    "    height_shift_range=0.1,\n",
    "    shear_range=0.1,\n",
    "    zoom_range=0.1,\n",
    "    horizontal_flip=True,\n",
    "    fill_mode='nearest')\n",
    "\n",
    "test_datagen = ImageDataGenerator(rescale=1./255)\n",
    "\n",
    "train_generator = train_datagen.flow_from_directory(\n",
    "    train_dir,\n",
    "    target_size=(150, 150),\n",
    "    batch_size=20,\n",
    "    class_mode='binary')\n",
    "\n",
    "validation_generator = test_datagen.flow_from_directory(\n",
    "    validation_dir,\n",
    "    target_size=(150, 150),\n",
    "    batch_size=20,\n",
    "    class_mode='binary')\n",
    "\n",
    "model.compile(loss='binary_crossentropy',\n",
    "             optimizer=optimizers.RMSprop(lr=2e-5),\n",
    "             metrics=['acc'])\n",
    "\n",
    "history = model.fit_generator(\n",
    "    train_generator,\n",
    "    steps_per_epoch=100,\n",
    "    epochs=30,\n",
    "    validation_data=validation_generator,\n",
    "    validation_steps=50,\n",
    "    verbose=2)"
   ]
  },
  {
   "cell_type": "code",
   "execution_count": 10,
   "id": "a0355bc8",
   "metadata": {},
   "outputs": [
    {
     "data": {
      "image/png": "[encoded data removed]",
      "text/plain": [
       "<Figure size 432x288 with 1 Axes>"
      ]
     },
     "metadata": {
      "needs_background": "light"
     },
     "output_type": "display_data"
    },
    {
     "data": {
      "image/png": "[encoded data removed]",
      "text/plain": [
       "<Figure size 432x288 with 1 Axes>"
      ]
     },
     "metadata": {
      "needs_background": "light"
     },
     "output_type": "display_data"
    }
   ],
   "source": [
    "import matplotlib.pyplot as plt\n",
    "\n",
    "acc = history.history['acc']\n",
    "val_acc = history.history['val_acc']\n",
    "loss = history.history['loss']\n",
    "val_loss = history.history['val_loss']\n",
    "\n",
    "epochs = range(1, len(acc) + 1)\n",
    "\n",
    "plt.plot(epochs, acc, 'bo', label='Training acc')\n",
    "plt.plot(epochs, val_acc, 'b', label='Validation acc')\n",
    "plt.title('Training and validation accuracy')\n",
    "plt.legend()\n",
    "\n",
    "plt.figure()\n",
    "\n",
    "plt.plot(epochs, loss, 'bo', label='Training loss')\n",
    "plt.plot(epochs, val_loss, 'b', label='Validation loss')\n",
    "plt.title('Training and validation loss')\n",
    "plt.legend()\n",
    "\n",
    "plt.show()"
   ]
  },
  {
   "cell_type": "markdown",
   "id": "0ee0ae70",
   "metadata": {},
   "source": [
    "검증 정확도가 이전과 비슷하지만 처음부터 훈련시킨 소규모 컨브넷보다 과대적합이 줄었습니다.\n",
    "\n",
    "### 5.3.2 미세 조정\n",
    "미세 조정은 특성 추출에 사용했던 동결 모델의 상위 층 몇 개를 동결에서 해제하고 모델에 새로 추가한 층(여기서는 완전 연결 분류기)과 함께 훈련하는 것입니다.\n",
    "\n",
    "네트워크를 미세 조정하는 단계는 다음과 같습늬다.\n",
    "1. 사전에 훈련된 기반 네트워크 위에 새로운 네트워크를 추가합니다.\n",
    "2. 기반 네트워크를 동결합니다.\n",
    "3. 새로 추가한 네트워크를 훈련합니다.\n",
    "4. 기반 네트워크에서 일부 층의 동결을 해제합니다.\n",
    "5. 동결을 해제한 층과 새로 추가한 층을 함께 훈련합니다.\n",
    "\n",
    "처음 세 단계는 특성 추출을 할 때 이미 완료했습니다. 네 번째 단계를 진행해 보죠. conv_base의 동결을 해제하고 개별 층을 동결하겠습니다.\n",
    "\n",
    "기억을 되살리기 위해 합성곱 기반 층의 구조를 다시 확인해 보겠습니다."
   ]
  },
  {
   "cell_type": "code",
   "execution_count": 11,
   "id": "e5ce345b",
   "metadata": {},
   "outputs": [
    {
     "name": "stdout",
     "output_type": "stream",
     "text": [
      "_________________________________________________________________\n",
      "Layer (type)                 Output Shape              Param #   \n",
      "=================================================================\n",
      "input_1 (InputLayer)         (None, 150, 150, 3)       0         \n",
      "_________________________________________________________________\n",
      "block1_conv1 (Conv2D)        (None, 150, 150, 64)      1792      \n",
      "_________________________________________________________________\n",
      "block1_conv2 (Conv2D)        (None, 150, 150, 64)      36928     \n",
      "_________________________________________________________________\n",
      "block1_pool (MaxPooling2D)   (None, 75, 75, 64)        0         \n",
      "_________________________________________________________________\n",
      "block2_conv1 (Conv2D)        (None, 75, 75, 128)       73856     \n",
      "_________________________________________________________________\n",
      "block2_conv2 (Conv2D)        (None, 75, 75, 128)       147584    \n",
      "_________________________________________________________________\n",
      "block2_pool (MaxPooling2D)   (None, 37, 37, 128)       0         \n",
      "_________________________________________________________________\n",
      "block3_conv1 (Conv2D)        (None, 37, 37, 256)       295168    \n",
      "_________________________________________________________________\n",
      "block3_conv2 (Conv2D)        (None, 37, 37, 256)       590080    \n",
      "_________________________________________________________________\n",
      "block3_conv3 (Conv2D)        (None, 37, 37, 256)       590080    \n",
      "_________________________________________________________________\n",
      "block3_pool (MaxPooling2D)   (None, 18, 18, 256)       0         \n",
      "_________________________________________________________________\n",
      "block4_conv1 (Conv2D)        (None, 18, 18, 512)       1180160   \n",
      "_________________________________________________________________\n",
      "block4_conv2 (Conv2D)        (None, 18, 18, 512)       2359808   \n",
      "_________________________________________________________________\n",
      "block4_conv3 (Conv2D)        (None, 18, 18, 512)       2359808   \n",
      "_________________________________________________________________\n",
      "block4_pool (MaxPooling2D)   (None, 9, 9, 512)         0         \n",
      "_________________________________________________________________\n",
      "block5_conv1 (Conv2D)        (None, 9, 9, 512)         2359808   \n",
      "_________________________________________________________________\n",
      "block5_conv2 (Conv2D)        (None, 9, 9, 512)         2359808   \n",
      "_________________________________________________________________\n",
      "block5_conv3 (Conv2D)        (None, 9, 9, 512)         2359808   \n",
      "_________________________________________________________________\n",
      "block5_pool (MaxPooling2D)   (None, 4, 4, 512)         0         \n",
      "=================================================================\n",
      "Total params: 14,714,688\n",
      "Trainable params: 0\n",
      "Non-trainable params: 14,714,688\n",
      "_________________________________________________________________\n"
     ]
    }
   ],
   "source": [
    "conv_base.summary()"
   ]
  },
  {
   "cell_type": "markdown",
   "id": "581b1704",
   "metadata": {},
   "source": [
    "마지막 3개의 합성곱 층을 미세 조정하겠습니다. 즉 block4_pool까지 모든 층은 동결되고 block5_conv1, block5_conv2, block5_con3 층은 학습 대상이 됩니다.\n",
    "\n",
    "왜 더 많은 층을 미세 조정하지 않을까요? 왜 전체 합성곱 기반 층을 미세 조정하지 않을까요? 그렇게 할 수도 있지만 다음 사항을 고려해야 합니다.\n",
    "- 합성곱 기반 층에 있는 하위 층들은 좀 더 일반적이고 재사용 가능한 특성들을 인코딩합니다. 반면에 상위 층은 좀 더 특화된 특성을 인코딩합니다. 새로운 문제에 재활용하도록 수정이 필요한 것은 구체적인 특성이므로 이들을 미세 조정하는 것이 유리합니다. 하위 층으로 갈수록 미세 조정에 대한 효과가 감소합니다.\n",
    "- 훈련해야 할 파라미터가 많을수록 과대적합의 위험이 커집니다. 합성곱 기반 층은 1500만 개의 파라미터를 가지고 있습니다. 작은 데이터셋으로 전부 훈련하려고 하면 매우 위험합니다.\n",
    "\n",
    "그러므로 이런 상황에서는 합성곱 기반 층에서 최상위 2~3개의 층만 미세 조정하는 것이 좋습니다.\n",
    "#### 코드 5-22 특정 층까지 모든 층 동결하기"
   ]
  },
  {
   "cell_type": "code",
   "execution_count": 12,
   "id": "d82e0dcd",
   "metadata": {},
   "outputs": [],
   "source": [
    "conv_base.trainable = True\n",
    "\n",
    "set_trainable = False\n",
    "for layer in conv_base.layers:\n",
    "    if layer.name == 'block5_conv1':\n",
    "        set_trainable = True\n",
    "    if set_trainable:\n",
    "        layer.trainable = True\n",
    "    else:\n",
    "        layer.trainable = False"
   ]
  },
  {
   "cell_type": "markdown",
   "id": "ee9280f0",
   "metadata": {},
   "source": [
    "이제 네트워크의 미세 조정을 시작하겠습니다. 학습률을 낮춘 RMSProp 옵티마이저를 사용합니다. 학습률을 낮추는 이유는 미세 조정하는 3개의 층에서 학습된 표현을 조금씩 수정하기 위해서입니다. 변경량이 너무 크면 학습된 표현에 나쁜 영향을 끼칠 수 있습니다.\n",
    "\n",
    "#### 5-23 모델 미세 조정하기"
   ]
  },
  {
   "cell_type": "code",
   "execution_count": 13,
   "id": "d1bd800f",
   "metadata": {},
   "outputs": [
    {
     "name": "stdout",
     "output_type": "stream",
     "text": [
      "Epoch 1/100\n",
      "100/100 [==============================] - 18s 179ms/step - loss: 0.1965 - acc: 0.9150 - val_loss: 0.2052 - val_acc: 0.9160\n",
      "Epoch 2/100\n",
      "100/100 [==============================] - 18s 176ms/step - loss: 0.1587 - acc: 0.9360 - val_loss: 0.2142 - val_acc: 0.9210\n",
      "Epoch 3/100\n",
      "100/100 [==============================] - 18s 177ms/step - loss: 0.1383 - acc: 0.9450 - val_loss: 0.2127 - val_acc: 0.9240\n",
      "Epoch 4/100\n",
      "100/100 [==============================] - 18s 177ms/step - loss: 0.1294 - acc: 0.9535 - val_loss: 0.2065 - val_acc: 0.9270\n",
      "Epoch 5/100\n",
      "100/100 [==============================] - 18s 176ms/step - loss: 0.1164 - acc: 0.9575 - val_loss: 0.2085 - val_acc: 0.9230\n",
      "Epoch 6/100\n",
      "100/100 [==============================] - 18s 176ms/step - loss: 0.0881 - acc: 0.9710 - val_loss: 0.2504 - val_acc: 0.9140\n",
      "Epoch 7/100\n",
      "100/100 [==============================] - 18s 176ms/step - loss: 0.0875 - acc: 0.9665 - val_loss: 0.2176 - val_acc: 0.9320\n",
      "Epoch 8/100\n",
      "100/100 [==============================] - 18s 177ms/step - loss: 0.0755 - acc: 0.9670 - val_loss: 0.2422 - val_acc: 0.9190\n",
      "Epoch 9/100\n",
      "100/100 [==============================] - 18s 176ms/step - loss: 0.0639 - acc: 0.9765 - val_loss: 0.2171 - val_acc: 0.9200\n",
      "Epoch 10/100\n",
      "100/100 [==============================] - 18s 177ms/step - loss: 0.0620 - acc: 0.9765 - val_loss: 0.2233 - val_acc: 0.9250\n",
      "Epoch 11/100\n",
      "100/100 [==============================] - 18s 178ms/step - loss: 0.0582 - acc: 0.9805 - val_loss: 0.2265 - val_acc: 0.9220\n",
      "Epoch 12/100\n",
      "100/100 [==============================] - 18s 177ms/step - loss: 0.0441 - acc: 0.9880 - val_loss: 0.2184 - val_acc: 0.9290\n",
      "Epoch 13/100\n",
      "100/100 [==============================] - 18s 178ms/step - loss: 0.0435 - acc: 0.9840 - val_loss: 0.2494 - val_acc: 0.9180\n",
      "Epoch 14/100\n",
      "100/100 [==============================] - 18s 177ms/step - loss: 0.0351 - acc: 0.9900 - val_loss: 0.2358 - val_acc: 0.9220\n",
      "Epoch 15/100\n",
      "100/100 [==============================] - 18s 177ms/step - loss: 0.0331 - acc: 0.9895 - val_loss: 0.2340 - val_acc: 0.9190\n",
      "Epoch 16/100\n",
      "100/100 [==============================] - 18s 177ms/step - loss: 0.0309 - acc: 0.9890 - val_loss: 0.2466 - val_acc: 0.9240\n",
      "Epoch 17/100\n",
      "100/100 [==============================] - 18s 178ms/step - loss: 0.0286 - acc: 0.9890 - val_loss: 0.2355 - val_acc: 0.9230\n",
      "Epoch 18/100\n",
      "100/100 [==============================] - 18s 178ms/step - loss: 0.0187 - acc: 0.9960 - val_loss: 0.2734 - val_acc: 0.9210\n",
      "Epoch 19/100\n",
      "100/100 [==============================] - 18s 177ms/step - loss: 0.0240 - acc: 0.9900 - val_loss: 0.2639 - val_acc: 0.9260\n",
      "Epoch 20/100\n",
      "100/100 [==============================] - 18s 177ms/step - loss: 0.0239 - acc: 0.9925 - val_loss: 0.2420 - val_acc: 0.9290\n",
      "Epoch 21/100\n",
      "100/100 [==============================] - 18s 177ms/step - loss: 0.0159 - acc: 0.9970 - val_loss: 0.3710 - val_acc: 0.9040\n",
      "Epoch 22/100\n",
      "100/100 [==============================] - 18s 177ms/step - loss: 0.0225 - acc: 0.9925 - val_loss: 0.2705 - val_acc: 0.9270\n",
      "Epoch 23/100\n",
      "100/100 [==============================] - 18s 177ms/step - loss: 0.0209 - acc: 0.9945 - val_loss: 0.2705 - val_acc: 0.9270\n",
      "Epoch 24/100\n",
      "100/100 [==============================] - 18s 177ms/step - loss: 0.0182 - acc: 0.9925 - val_loss: 0.2673 - val_acc: 0.9300\n",
      "Epoch 25/100\n",
      "100/100 [==============================] - 18s 177ms/step - loss: 0.0113 - acc: 0.9960 - val_loss: 0.2720 - val_acc: 0.9270\n",
      "Epoch 26/100\n",
      "100/100 [==============================] - 18s 177ms/step - loss: 0.0169 - acc: 0.9940 - val_loss: 0.2652 - val_acc: 0.9340\n",
      "Epoch 27/100\n",
      "100/100 [==============================] - 18s 177ms/step - loss: 0.0134 - acc: 0.9965 - val_loss: 0.2753 - val_acc: 0.9260\n",
      "Epoch 28/100\n",
      "100/100 [==============================] - 18s 177ms/step - loss: 0.0135 - acc: 0.9935 - val_loss: 0.2816 - val_acc: 0.9290\n",
      "Epoch 29/100\n",
      "100/100 [==============================] - 18s 177ms/step - loss: 0.0160 - acc: 0.9950 - val_loss: 0.2614 - val_acc: 0.9260\n",
      "Epoch 30/100\n",
      "100/100 [==============================] - 18s 178ms/step - loss: 0.0096 - acc: 0.9975 - val_loss: 0.3451 - val_acc: 0.9190\n",
      "Epoch 31/100\n",
      "100/100 [==============================] - 18s 178ms/step - loss: 0.0110 - acc: 0.9960 - val_loss: 0.2624 - val_acc: 0.9280\n",
      "Epoch 32/100\n",
      "100/100 [==============================] - 18s 178ms/step - loss: 0.0112 - acc: 0.9970 - val_loss: 0.2822 - val_acc: 0.9280\n",
      "Epoch 33/100\n",
      "100/100 [==============================] - 18s 177ms/step - loss: 0.0124 - acc: 0.9965 - val_loss: 0.2622 - val_acc: 0.9290\n",
      "Epoch 34/100\n",
      "100/100 [==============================] - 18s 178ms/step - loss: 0.0117 - acc: 0.9980 - val_loss: 0.2848 - val_acc: 0.9300\n",
      "Epoch 35/100\n",
      "100/100 [==============================] - 18s 177ms/step - loss: 0.0086 - acc: 0.9965 - val_loss: 0.2892 - val_acc: 0.9280\n",
      "Epoch 36/100\n",
      "100/100 [==============================] - 18s 177ms/step - loss: 0.0136 - acc: 0.9945 - val_loss: 0.3936 - val_acc: 0.9170\n",
      "Epoch 37/100\n",
      "100/100 [==============================] - 18s 177ms/step - loss: 0.0140 - acc: 0.9975 - val_loss: 0.2983 - val_acc: 0.9230\n",
      "Epoch 38/100\n",
      "100/100 [==============================] - 18s 178ms/step - loss: 0.0092 - acc: 0.9975 - val_loss: 0.2911 - val_acc: 0.9290\n",
      "Epoch 39/100\n",
      "100/100 [==============================] - 18s 177ms/step - loss: 0.0085 - acc: 0.9965 - val_loss: 0.3624 - val_acc: 0.9260\n",
      "Epoch 40/100\n",
      "100/100 [==============================] - 18s 177ms/step - loss: 0.0098 - acc: 0.9970 - val_loss: 0.2903 - val_acc: 0.9290\n",
      "Epoch 41/100\n",
      "100/100 [==============================] - 18s 177ms/step - loss: 0.0114 - acc: 0.9955 - val_loss: 0.3309 - val_acc: 0.9220\n",
      "Epoch 42/100\n",
      "100/100 [==============================] - 18s 178ms/step - loss: 0.0038 - acc: 0.9995 - val_loss: 0.3070 - val_acc: 0.9300\n",
      "Epoch 43/100\n",
      "100/100 [==============================] - 18s 177ms/step - loss: 0.0084 - acc: 0.9975 - val_loss: 0.3174 - val_acc: 0.9320\n",
      "Epoch 44/100\n",
      "100/100 [==============================] - 18s 177ms/step - loss: 0.0036 - acc: 0.9990 - val_loss: 0.3086 - val_acc: 0.9340\n",
      "Epoch 45/100\n",
      "100/100 [==============================] - 18s 178ms/step - loss: 0.0068 - acc: 0.9975 - val_loss: 0.3207 - val_acc: 0.9330\n",
      "Epoch 46/100\n",
      "100/100 [==============================] - 18s 177ms/step - loss: 0.0057 - acc: 0.9980 - val_loss: 0.3379 - val_acc: 0.9330\n",
      "Epoch 47/100\n",
      "100/100 [==============================] - 18s 178ms/step - loss: 0.0051 - acc: 0.9975 - val_loss: 0.3456 - val_acc: 0.9310\n",
      "Epoch 48/100\n",
      "100/100 [==============================] - 18s 177ms/step - loss: 0.0109 - acc: 0.9985 - val_loss: 0.3292 - val_acc: 0.9360\n",
      "Epoch 49/100\n",
      "100/100 [==============================] - 18s 178ms/step - loss: 0.0040 - acc: 0.9980 - val_loss: 0.3214 - val_acc: 0.9330\n",
      "Epoch 50/100\n",
      "100/100 [==============================] - 18s 177ms/step - loss: 0.0043 - acc: 0.9990 - val_loss: 0.3694 - val_acc: 0.9280\n",
      "Epoch 51/100\n",
      "100/100 [==============================] - 18s 177ms/step - loss: 0.0025 - acc: 0.9990 - val_loss: 0.4029 - val_acc: 0.9220\n",
      "Epoch 52/100\n",
      "100/100 [==============================] - 18s 177ms/step - loss: 0.0059 - acc: 0.9965 - val_loss: 0.3767 - val_acc: 0.9350\n",
      "Epoch 53/100\n",
      "100/100 [==============================] - 18s 177ms/step - loss: 0.0054 - acc: 0.9985 - val_loss: 0.3198 - val_acc: 0.9380\n",
      "Epoch 54/100\n",
      "100/100 [==============================] - 18s 177ms/step - loss: 0.0029 - acc: 0.9995 - val_loss: 0.3632 - val_acc: 0.9320\n",
      "Epoch 55/100\n",
      "100/100 [==============================] - 18s 177ms/step - loss: 0.0038 - acc: 0.9990 - val_loss: 0.4516 - val_acc: 0.9180\n",
      "Epoch 56/100\n",
      "100/100 [==============================] - 18s 177ms/step - loss: 0.0033 - acc: 0.9990 - val_loss: 0.3424 - val_acc: 0.9380\n",
      "Epoch 57/100\n",
      "100/100 [==============================] - 18s 177ms/step - loss: 0.0035 - acc: 0.9990 - val_loss: 0.3418 - val_acc: 0.9340\n",
      "Epoch 58/100\n",
      "100/100 [==============================] - 18s 178ms/step - loss: 0.0030 - acc: 0.9995 - val_loss: 0.3790 - val_acc: 0.9290\n",
      "Epoch 59/100\n",
      "100/100 [==============================] - 18s 177ms/step - loss: 0.0065 - acc: 0.9980 - val_loss: 0.3560 - val_acc: 0.9340\n",
      "Epoch 60/100\n",
      "100/100 [==============================] - 18s 177ms/step - loss: 0.0064 - acc: 0.9975 - val_loss: 0.3144 - val_acc: 0.9320\n"
     ]
    },
    {
     "name": "stdout",
     "output_type": "stream",
     "text": [
      "Epoch 61/100\n",
      "100/100 [==============================] - 18s 177ms/step - loss: 0.0062 - acc: 0.9985 - val_loss: 0.3665 - val_acc: 0.9260\n",
      "Epoch 62/100\n",
      "100/100 [==============================] - 18s 178ms/step - loss: 0.0076 - acc: 0.9985 - val_loss: 0.3272 - val_acc: 0.9270\n",
      "Epoch 63/100\n",
      "100/100 [==============================] - 18s 177ms/step - loss: 0.0027 - acc: 0.9995 - val_loss: 0.3474 - val_acc: 0.9310\n",
      "Epoch 64/100\n",
      "100/100 [==============================] - 18s 177ms/step - loss: 0.0017 - acc: 0.9990 - val_loss: 0.3291 - val_acc: 0.9290\n",
      "Epoch 65/100\n",
      "100/100 [==============================] - 18s 177ms/step - loss: 0.0042 - acc: 0.9990 - val_loss: 0.3190 - val_acc: 0.9350\n",
      "Epoch 66/100\n",
      "100/100 [==============================] - 18s 177ms/step - loss: 0.0077 - acc: 0.9975 - val_loss: 0.3431 - val_acc: 0.9290\n",
      "Epoch 67/100\n",
      "100/100 [==============================] - 18s 178ms/step - loss: 0.0023 - acc: 0.9995 - val_loss: 0.3542 - val_acc: 0.9340\n",
      "Epoch 68/100\n",
      "100/100 [==============================] - 18s 178ms/step - loss: 0.0012 - acc: 1.0000 - val_loss: 0.3833 - val_acc: 0.9310\n",
      "Epoch 69/100\n",
      "100/100 [==============================] - 18s 177ms/step - loss: 0.0048 - acc: 0.9965 - val_loss: 0.3426 - val_acc: 0.9260\n",
      "Epoch 70/100\n",
      "100/100 [==============================] - 18s 177ms/step - loss: 0.0032 - acc: 0.9995 - val_loss: 0.3564 - val_acc: 0.9330\n",
      "Epoch 71/100\n",
      "100/100 [==============================] - 18s 177ms/step - loss: 0.0025 - acc: 0.9990 - val_loss: 0.4795 - val_acc: 0.9190\n",
      "Epoch 72/100\n",
      "100/100 [==============================] - 18s 178ms/step - loss: 0.0030 - acc: 0.9995 - val_loss: 0.3745 - val_acc: 0.9360\n",
      "Epoch 73/100\n",
      "100/100 [==============================] - 18s 177ms/step - loss: 0.0052 - acc: 0.9985 - val_loss: 0.3630 - val_acc: 0.9330\n",
      "Epoch 74/100\n",
      "100/100 [==============================] - 18s 177ms/step - loss: 0.0061 - acc: 0.9985 - val_loss: 0.4099 - val_acc: 0.9320\n",
      "Epoch 75/100\n",
      "100/100 [==============================] - 18s 177ms/step - loss: 0.0037 - acc: 0.9990 - val_loss: 0.3515 - val_acc: 0.9270\n",
      "Epoch 76/100\n",
      "100/100 [==============================] - 18s 177ms/step - loss: 0.0032 - acc: 0.9990 - val_loss: 0.4182 - val_acc: 0.9300\n",
      "Epoch 77/100\n",
      "100/100 [==============================] - 18s 177ms/step - loss: 0.0038 - acc: 0.9985 - val_loss: 0.3713 - val_acc: 0.9290\n",
      "Epoch 78/100\n",
      "100/100 [==============================] - 18s 177ms/step - loss: 0.0010 - acc: 0.9995 - val_loss: 0.3736 - val_acc: 0.9250\n",
      "Epoch 79/100\n",
      "100/100 [==============================] - 18s 177ms/step - loss: 0.0011 - acc: 0.9995 - val_loss: 0.3568 - val_acc: 0.9370\n",
      "Epoch 80/100\n",
      "100/100 [==============================] - 18s 177ms/step - loss: 0.0014 - acc: 0.9995 - val_loss: 0.3213 - val_acc: 0.9320\n",
      "Epoch 81/100\n",
      "100/100 [==============================] - 18s 177ms/step - loss: 0.0013 - acc: 1.0000 - val_loss: 0.3705 - val_acc: 0.9350\n",
      "Epoch 82/100\n",
      "100/100 [==============================] - 18s 177ms/step - loss: 0.0028 - acc: 0.9990 - val_loss: 0.3586 - val_acc: 0.9300\n",
      "Epoch 83/100\n",
      "100/100 [==============================] - 18s 177ms/step - loss: 7.5915e-04 - acc: 0.9995 - val_loss: 0.3462 - val_acc: 0.9380\n",
      "Epoch 84/100\n",
      "100/100 [==============================] - 18s 177ms/step - loss: 6.9275e-04 - acc: 1.0000 - val_loss: 0.7137 - val_acc: 0.8900\n",
      "Epoch 85/100\n",
      "100/100 [==============================] - 18s 177ms/step - loss: 0.0016 - acc: 0.9995 - val_loss: 0.4088 - val_acc: 0.9310\n",
      "Epoch 86/100\n",
      "100/100 [==============================] - 18s 177ms/step - loss: 0.0021 - acc: 0.9995 - val_loss: 0.4010 - val_acc: 0.9270\n",
      "Epoch 87/100\n",
      "100/100 [==============================] - 18s 178ms/step - loss: 0.0039 - acc: 0.9980 - val_loss: 0.3929 - val_acc: 0.9330\n",
      "Epoch 88/100\n",
      "100/100 [==============================] - 18s 178ms/step - loss: 0.0024 - acc: 0.9995 - val_loss: 0.4043 - val_acc: 0.9330\n",
      "Epoch 89/100\n",
      "100/100 [==============================] - 18s 178ms/step - loss: 0.0010 - acc: 1.0000 - val_loss: 0.4772 - val_acc: 0.9230\n",
      "Epoch 90/100\n",
      "100/100 [==============================] - 18s 177ms/step - loss: 0.0031 - acc: 0.9995 - val_loss: 0.4266 - val_acc: 0.9310\n",
      "Epoch 91/100\n",
      "100/100 [==============================] - 18s 178ms/step - loss: 0.0017 - acc: 0.9990 - val_loss: 0.3851 - val_acc: 0.9370\n",
      "Epoch 92/100\n",
      "100/100 [==============================] - 18s 178ms/step - loss: 0.0037 - acc: 0.9990 - val_loss: 0.3866 - val_acc: 0.9380\n",
      "Epoch 93/100\n",
      "100/100 [==============================] - 18s 178ms/step - loss: 0.0030 - acc: 0.9990 - val_loss: 0.4537 - val_acc: 0.9250\n",
      "Epoch 94/100\n",
      "100/100 [==============================] - 18s 178ms/step - loss: 0.0023 - acc: 0.9995 - val_loss: 0.3934 - val_acc: 0.9370\n",
      "Epoch 95/100\n",
      "100/100 [==============================] - 18s 178ms/step - loss: 0.0018 - acc: 0.9990 - val_loss: 0.4255 - val_acc: 0.9340\n",
      "Epoch 96/100\n",
      "100/100 [==============================] - 18s 177ms/step - loss: 0.0064 - acc: 0.9985 - val_loss: 0.3601 - val_acc: 0.9300\n",
      "Epoch 97/100\n",
      "100/100 [==============================] - 18s 178ms/step - loss: 0.0015 - acc: 0.9990 - val_loss: 0.3824 - val_acc: 0.9360\n",
      "Epoch 98/100\n",
      "100/100 [==============================] - 18s 178ms/step - loss: 0.0070 - acc: 0.9990 - val_loss: 0.3521 - val_acc: 0.9380\n",
      "Epoch 99/100\n",
      "100/100 [==============================] - 18s 177ms/step - loss: 0.0011 - acc: 0.9995 - val_loss: 0.3908 - val_acc: 0.9340\n",
      "Epoch 100/100\n",
      "100/100 [==============================] - 18s 177ms/step - loss: 9.2943e-04 - acc: 1.0000 - val_loss: 0.4094 - val_acc: 0.9370\n"
     ]
    }
   ],
   "source": [
    "model.compile(loss='binary_crossentropy',\n",
    "             optimizer=optimizers.RMSprop(lr=1e-5),\n",
    "             metrics=['acc'])\n",
    "\n",
    "history = model.fit_generator(\n",
    "    train_generator,\n",
    "    steps_per_epoch=100,\n",
    "    epochs=100,\n",
    "    validation_data=validation_generator,\n",
    "    validation_steps=50)"
   ]
  },
  {
   "cell_type": "code",
   "execution_count": 14,
   "id": "bdc01779",
   "metadata": {},
   "outputs": [],
   "source": [
    "#필요한 모듈을 import 합니다.\n",
    "from numba import cuda\n",
    "\n",
    "#이후 초기화 작업을 진행해줍니다.\n",
    "device = cuda.get_current_device()\n",
    "device.reset()"
   ]
  },
  {
   "cell_type": "code",
   "execution_count": 15,
   "id": "bdecfb69",
   "metadata": {},
   "outputs": [
    {
     "data": {
      "image/png": "[encoded data removed]",
      "text/plain": [
       "<Figure size 432x288 with 1 Axes>"
      ]
     },
     "metadata": {
      "needs_background": "light"
     },
     "output_type": "display_data"
    },
    {
     "data": {
      "image/png": "[encoded data removed]",
      "text/plain": [
       "<Figure size 432x288 with 1 Axes>"
      ]
     },
     "metadata": {
      "needs_background": "light"
     },
     "output_type": "display_data"
    }
   ],
   "source": [
    "acc = history.history['acc']\n",
    "val_acc = history.history['val_acc']\n",
    "loss = history.history['loss']\n",
    "val_loss = history.history['val_loss']\n",
    "\n",
    "epochs = range(1, len(acc) + 1)\n",
    "\n",
    "plt.plot(epochs, acc, 'bo', label='Training acc')\n",
    "plt.plot(epochs, val_acc, 'b', label='Validation acc')\n",
    "plt.title('Training and validation accuracy')\n",
    "plt.legend()\n",
    "\n",
    "plt.figure()\n",
    "\n",
    "plt.plot(epochs, loss, 'bo', label='Training loss')\n",
    "plt.plot(epochs, val_loss, 'b', label='Validation loss')\n",
    "plt.title('Training and validation loss')\n",
    "plt.legend()\n",
    "\n",
    "plt.show()"
   ]
  },
  {
   "cell_type": "markdown",
   "id": "1f6825ba",
   "metadata": {},
   "source": [
    "#### 코드 5-24 부드러운 그래프 그리기"
   ]
  },
  {
   "cell_type": "code",
   "execution_count": 16,
   "id": "1161142c",
   "metadata": {},
   "outputs": [
    {
     "data": {
      "image/png": "[encoded data removed]",
      "text/plain": [
       "<Figure size 432x288 with 1 Axes>"
      ]
     },
     "metadata": {
      "needs_background": "light"
     },
     "output_type": "display_data"
    },
    {
     "data": {
      "image/png": "[encoded data removed]",
      "text/plain": [
       "<Figure size 432x288 with 1 Axes>"
      ]
     },
     "metadata": {
      "needs_background": "light"
     },
     "output_type": "display_data"
    }
   ],
   "source": [
    "def smooth_curve(points, factor=0.8):\n",
    "    smoothed_points = []\n",
    "    for point in points:\n",
    "        if smoothed_points:\n",
    "            previous = smoothed_points[-1]\n",
    "            smoothed_points.append(previous * factor + point * (1 - factor))\n",
    "        else:\n",
    "            smoothed_points.append(point)\n",
    "    return smoothed_points\n",
    "\n",
    "plt.plot(epochs, smooth_curve(acc), 'bo', label='Smoothed training acc')\n",
    "plt.plot(epochs, smooth_curve(val_acc), 'b', label='Smoothed validation acc')\n",
    "plt.title('Training and validation accuracy')\n",
    "plt.legend()\n",
    "\n",
    "plt.figure()\n",
    "\n",
    "plt.plot(epochs, smooth_curve(loss), 'bo', label='Smoothed training loss')\n",
    "plt.plot(epochs, smooth_curve(val_loss), 'b', label='Smoothed validation loss')\n",
    "plt.title('Training and validation loss')\n",
    "plt.legend()\n",
    "\n",
    "plt.show()"
   ]
  },
  {
   "cell_type": "markdown",
   "id": "25b4ff28",
   "metadata": {},
   "source": [
    "정확도가 대략 1% 향상 되었습니다.\n",
    "\n",
    "손실 곡선은 실제 어떤 향상을 얻지 못했습니다(사실 악화되었습니다). 손실이 감소되지 않았는데 어떻게 정확도가 안정되거나 향상될 수 있을까요? 답은 간단합니다. 그래프는 개별적인 손실 값의 평균을 그린 것입니다. 하지만 정확도에 영향을 미치는 것은 손실 값의 분포이지 평균이 아닙니다. 정확도는 모델이 예측한 클래스 확률이 어떤 임계 값을 넘었는지에 대한 결과이기 때문입니다. 모델이 더 향상되더라도 평균 손실에 반영되지 않을 수 있습니다."
   ]
  },
  {
   "cell_type": "code",
   "execution_count": 6,
   "id": "654bd886",
   "metadata": {},
   "outputs": [
    {
     "name": "stdout",
     "output_type": "stream",
     "text": [
      "Found 1000 images belonging to 2 classes.\n"
     ]
    },
    {
     "ename": "NameError",
     "evalue": "name 'model' is not defined",
     "output_type": "error",
     "traceback": [
      "\u001b[1;31m---------------------------------------------------------------------------\u001b[0m",
      "\u001b[1;31mNameError\u001b[0m                                 Traceback (most recent call last)",
      "\u001b[1;32m<ipython-input-6-1176678d2642>\u001b[0m in \u001b[0;36m<module>\u001b[1;34m\u001b[0m\n\u001b[0;32m      9\u001b[0m     class_mode='binary')\n\u001b[0;32m     10\u001b[0m \u001b[1;33m\u001b[0m\u001b[0m\n\u001b[1;32m---> 11\u001b[1;33m \u001b[0mtest_loss\u001b[0m\u001b[1;33m,\u001b[0m \u001b[0mtest_acc\u001b[0m \u001b[1;33m=\u001b[0m \u001b[0mmodel\u001b[0m\u001b[1;33m.\u001b[0m\u001b[0mevaluate_generator\u001b[0m\u001b[1;33m(\u001b[0m\u001b[0mtest_generator\u001b[0m\u001b[1;33m,\u001b[0m \u001b[0msteps\u001b[0m\u001b[1;33m=\u001b[0m\u001b[1;36m50\u001b[0m\u001b[1;33m)\u001b[0m\u001b[1;33m\u001b[0m\u001b[1;33m\u001b[0m\u001b[0m\n\u001b[0m\u001b[0;32m     12\u001b[0m \u001b[0mprint\u001b[0m\u001b[1;33m(\u001b[0m\u001b[1;34m'test acc:'\u001b[0m\u001b[1;33m,\u001b[0m \u001b[0mtest_acc\u001b[0m\u001b[1;33m)\u001b[0m\u001b[1;33m\u001b[0m\u001b[1;33m\u001b[0m\u001b[0m\n",
      "\u001b[1;31mNameError\u001b[0m: name 'model' is not defined"
     ]
    }
   ],
   "source": [
    "from keras.preprocessing.image import ImageDataGenerator\n",
    "\n",
    "test_datagen = ImageDataGenerator(rescale=1./255)\n",
    "\n",
    "test_generator = test_datagen.flow_from_directory(\n",
    "    test_dir,\n",
    "    target_size=(150, 150),\n",
    "    batch_size=20,\n",
    "    class_mode='binary')\n",
    "\n",
    "test_loss, test_acc = model.evaluate_generator(test_generator, steps=50)\n",
    "print('test acc:', test_acc)"
   ]
  },
  {
   "cell_type": "markdown",
   "id": "b6e1bcc7",
   "metadata": {},
   "source": [
    "### 5.3.3 정리\n",
    "- 컨브넷은 컴퓨터 비전 작업에 가장 뛰어난 머신 러닝 모델입니다.\n",
    "- 작은 데이터셋에서는 과대적합이 큰 문제입니다. 데이터 증식은 이미지 데이터를 다룰 때 과대적합을 막을 수 있는 강력한 방법입니다.\n",
    "- 특성 추출 방식으로 새로운 데이터셋에 기존 컨브넷을 쉽게 재사용할 수 있습니다.\n",
    "- 특성 추출을 보완하기 위해 미세 조정을 사용할 수 있습니다."
   ]
  },
  {
   "cell_type": "code",
   "execution_count": null,
   "id": "491c53b4",
   "metadata": {},
   "outputs": [],
   "source": [
    "#필요한 모듈을 import 합니다.\n",
    "from numba import cuda\n",
    "\n",
    "#이후 초기화 작업을 진행해줍니다.\n",
    "device = cuda.get_current_device()\n",
    "device.reset()"
   ]
  }
 ],
 "metadata": {
  "kernelspec": {
   "display_name": "Python 3",
   "language": "python",
   "name": "python3"
  },
  "language_info": {
   "codemirror_mode": {
    "name": "ipython",
    "version": 3
   },
   "file_extension": ".py",
   "mimetype": "text/x-python",
   "name": "python",
   "nbconvert_exporter": "python",
   "pygments_lexer": "ipython3",
   "version": "3.6.7"
  }
 },
 "nbformat": 4,
 "nbformat_minor": 5
}
