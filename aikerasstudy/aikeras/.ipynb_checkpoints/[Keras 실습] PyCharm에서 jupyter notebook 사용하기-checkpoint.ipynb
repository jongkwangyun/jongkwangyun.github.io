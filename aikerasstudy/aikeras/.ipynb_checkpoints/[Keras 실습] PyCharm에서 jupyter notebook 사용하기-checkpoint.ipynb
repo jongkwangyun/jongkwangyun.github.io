{
 "cells": [
  {
   "cell_type": "markdown",
   "id": "8d8878e6-34c8-4cd4-9a9a-17893e91eefa",
   "metadata": {},
   "source": [
    "# [Keras 실습] PyCharm에서 jupyter notebook 사용하기"
   ]
  },
  {
   "cell_type": "markdown",
   "id": "14274f44-3304-474e-9a3f-1fbf6a7c6129",
   "metadata": {},
   "source": [
    "AI project 실습하는데 PyCharm 에서 입력해서 몇 줄씩 실행하니 대화형처럼 가능은 한데,\n",
    "\n",
    "jupyter 같이 깔끔하게 문서로 정리하고 주석도 달고 실행 결과와 그림도 같이 저장되면 좋을 것 같다는 생각이 자꾸 들었다.\n",
    "\n",
    "실습한 코드 앞으로 자주 보고 참고할거 같아서 jupyter notebook 설치해서 사용하기로 했다.\n",
    "\n",
    "### 명령어로 설치\n",
    "PyCharm 터미널 가상환경 상태에서 명령어 입력한다.\n",
    "```bash\n",
    "(aiproject) aiproject>pip install jupyter\n",
    "```\n",
    "그러면 Collecting 이 쭉 뜨면서 설치된다.\n",
    "\n",
    " \n",
    "\n",
    " \n",
    "\n",
    "### 환경변수 설정\n",
    "jupyter 가 설치된 Scripts 폴더를 지정해야한다.\n",
    "\n",
    "윈도우 검색에 '시스템 환경 변수 편집' 입력해서 들어간다.\n",
    "\n",
    "'시스템 변수' 에서 'Path' 선택 후 편집 클릭, 새로 만들기 클릭해서 경로를 붙여넣는다.\n",
    "\n",
    "(예: D:\\user\\aikerasstudy\\aiproject\\Scripts)\n",
    "\n",
    " \n",
    "\n",
    " \n",
    "\n",
    "### 실행\n",
    "PyCharm 터미널 가상환경에서 아래 명령어 입력하면 jupyter 가 브라우저에 뜬다.\n",
    "```bash\n",
    "(aiproject) aiproject>jupyter notebook\n",
    "```"
   ]
  },
  {
   "cell_type": "markdown",
   "id": "179a6536-c8dc-409d-bbf8-97b615f38f39",
   "metadata": {},
   "source": [
    " ![jupyter 이미지](img/jupyter.png)"
   ]
  },
  {
   "cell_type": "markdown",
   "id": "f91b81f1-c714-4877-b43e-25cb384a0048",
   "metadata": {},
   "source": [
    "### 단축키\n",
    "1. 셀 선택 모드\n",
    "  - a: 위에 새로운 셀 추가\n",
    "  - b: 아래에 새로운 셀 추가\n",
    "  - c: 셀 복사하기\n",
    "  - v: 셀 붙여넣기\n",
    "  - x: 셀 잘라내기\n",
    "  - dd: 셀 삭제하기\n",
    "  - p: 셀 아래에 붙여넣기\n",
    "<br/><br/>\n",
    "  - o: 실행 결과 열기/닫기\n",
    "  - m: 마크다운으로 변경\n",
    "  - y: 코드로 변경\n",
    "  - Shift + m: 선택 셀과 아래 셀 합치기\n",
    "  - Ctrl + s 또는 s: 파일 저장\n",
    "  - Enter: 선택 셀의 코드 입력 모드로 돌아가기\n",
    "<br/><br/>\n",
    "2. 코드 입력 모드\n",
    "  - Ctrl + Enter: 입력 셀 실행\n",
    "  - Shift + Enter: 입력 셀 실행 후 아래 셀로 이동 (없으면 새 셀 추가)\n",
    "  - Alt + Enter: 입력영역 실행 후 아래 새로운 영역 추가\n",
    "<br/><br/>\n",
    "  - Ctrl + a: 선택 셀의 코드 전체 선택\n",
    "  - Ctrl + /: 커서 위치 라인 주석 처리\n",
    "  - Shift + Ctrl + -: 커서 위치에서 셀 둘로 나누기\n",
    "\n",
    "### 문법\n",
    "1. 이미지 첨부\n",
    "  - 코드에서:\n",
    "  - 마크다운에서: \\!\\[이미지 설명\\]\\(경로\\) → \\!\\[poster\\]\\(.\\/images.png\\)\n",
    "\n",
    "2. 인용구\n",
    "\n",
    ">인용구\n",
    "\n",
    "<br/>\n",
    "\n",
    "\\>인용구\n",
    "\n",
    "3. 코드\n",
    "\n",
    "`코드`\n",
    "\n",
    "<br/>\n",
    "\n",
    "\\`코드\\`\n",
    "\n",
    "<br/><br/>\n",
    "\n",
    "```python\n",
    "코드\n",
    "```\n",
    "\n",
    "<br/><br/>\n",
    "\n",
    "\\`\\`\\`python\n",
    "코드\n",
    "\\`\\`\\`"
   ]
  }
 ],
 "metadata": {
  "kernelspec": {
   "display_name": "Python 3",
   "language": "python",
   "name": "python3"
  },
  "language_info": {
   "codemirror_mode": {
    "name": "ipython",
    "version": 3
   },
   "file_extension": ".py",
   "mimetype": "text/x-python",
   "name": "python",
   "nbconvert_exporter": "python",
   "pygments_lexer": "ipython3",
   "version": "3.6.7"
  }
 },
 "nbformat": 4,
 "nbformat_minor": 5
}
