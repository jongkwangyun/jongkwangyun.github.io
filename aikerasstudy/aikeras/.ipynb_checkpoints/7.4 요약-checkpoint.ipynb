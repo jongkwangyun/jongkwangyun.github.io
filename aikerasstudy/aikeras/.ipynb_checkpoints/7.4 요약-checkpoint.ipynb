{
 "cells": [
  {
   "cell_type": "markdown",
   "id": "9a68c9c5",
   "metadata": {},
   "source": [
    "# 7.4 요약"
   ]
  },
  {
   "cell_type": "markdown",
   "id": "c880848c",
   "metadata": {},
   "source": [
    "- 임의의 층 그래프를 구성하는 모델을 만드는 방법, 층을 재사용하는 방법(가중치 공유), 파이썬 함수 방식으로 모델을 사용하는 방법(모델 템플릿)\n",
    "- 케라스 콜백을 사용하여 훈련하는 동안 모델을 모니터링하고 모델 상태를 바탕으로 작업을 수행합니다\n",
    "- 텐서보드를 사용하여 측정 지표, 활성화 출력의 히스토그램, 임베딩 공간을 시각화합니다.\n",
    "- 배치 정규화, 깊이별 분리 합성곱, 잔차 연결\n",
    "- 하이퍼파라미터 최적화와 모델 앙상블을 사용하는 이유"
   ]
  }
 ],
 "metadata": {
  "kernelspec": {
   "display_name": "Python 3",
   "language": "python",
   "name": "python3"
  },
  "language_info": {
   "codemirror_mode": {
    "name": "ipython",
    "version": 3
   },
   "file_extension": ".py",
   "mimetype": "text/x-python",
   "name": "python",
   "nbconvert_exporter": "python",
   "pygments_lexer": "ipython3",
   "version": "3.6.7"
  }
 },
 "nbformat": 4,
 "nbformat_minor": 5
}
