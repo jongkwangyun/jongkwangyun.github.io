{
 "cells": [
  {
   "cell_type": "markdown",
   "id": "7b7d3d77-b679-4f42-b2d3-9060f3512951",
   "metadata": {},
   "source": [
    "# 2.4 신경망의 엔진- 그래디언트 기반 최적화"
   ]
  },
  {
   "cell_type": "markdown",
   "id": "abd57038-467d-49f1-8e59-d1aa69f9e089",
   "metadata": {},
   "source": [
    "첫 번째 신경망 예제에 있는 각 층은 입력 데이터를 다음과 같이 변환합니다.\n",
    "\n",
    "output = relu(dot(W, input) + b)\n",
    "\n",
    "이 식에서 텐서 W와 b는 층의 속성처럼 볼 수 있습니다. 가중치(weight) 또는 훈련되는 파라미터(trainable parameter)라고 부릅니다(각각 커널(kernel)과 편향(bias)이라고 부르기도 합니다).\n",
    "\n",
    "초기에는 가중치 행렬이 작은 난수로 채워져 있습니다(무작위 초기화(random initialization) 단계라고 부릅니다).\n",
    "그다음에는 피드백 신호에 기초하여 가중치가 점진적으로 조정될 것입니다. 이런 점진적인 조정 또는 훈련(training)이 머신 러닝 학습의 핵심입니다.\n",
    "\n",
    "훈련 반복 루프(training loop) 안에서 이런 단계가 반복됩니다.\n",
    "1. 훈련 샘플 x와 이에 상응하는 타깃 y의 배치를 추출합니다.\n",
    "2. x를 사용하여 네트워크를 실행하고(정방향 패스(forward pass) 단계), 예측 y_pred를 구합니다.\n",
    "3. y_pred와 y의 차이를 측정하여 이 배치에 대한 네트워크의 손실을 계산합니다.\n",
    "4. 배치에 대한 손실이 조금 감소되도록 네트워크의 모든 가중치를 업데이트합니다.\n",
    "\n",
    "신경망에 사용된 모든 연상이 미분 가능(differentiable)하다는 장점을 사용하여 네트워크 가중치에 대한 손실의 그래디언트(gradient)를 계산하는 것이 훨씬 더 좋은 방법입니다.\n"
   ]
  },
  {
   "cell_type": "raw",
   "id": "126650f4-66ea-4153-b8a8-d47d61c786df",
   "metadata": {},
   "source": [
    "실전에 적용할 때는 현재 그래디언트 값뿐만 아니라 이전에 업데이트한 파라미터에 기초하여 파라미터 w를 업데이트합니다. 다음은 단순한 구현 예입니다.\n",
    "\n",
    "past_velocity = 0.\n",
    "momentum = 0.1\n",
    "while loss > 0.01:\n",
    "    w, loss, gradient = get_current_parameters()\n",
    "    velocity = momentum * past_velocity - learning_rate * gradient\n",
    "    w = w + momentum * velocity - learning_rate * gradient\n",
    "    past_velocity = velocity\n",
    "    update_parameter(w)"
   ]
  }
 ],
 "metadata": {
  "kernelspec": {
   "display_name": "Python 3 (ipykernel)",
   "language": "python",
   "name": "python3"
  },
  "language_info": {
   "codemirror_mode": {
    "name": "ipython",
    "version": 3
   },
   "file_extension": ".py",
   "mimetype": "text/x-python",
   "name": "python",
   "nbconvert_exporter": "python",
   "pygments_lexer": "ipython3",
   "version": "3.10.6"
  }
 },
 "nbformat": 4,
 "nbformat_minor": 5
}
