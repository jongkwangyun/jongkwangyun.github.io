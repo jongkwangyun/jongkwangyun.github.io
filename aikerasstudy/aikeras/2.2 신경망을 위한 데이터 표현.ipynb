{
 "cells": [
  {
   "cell_type": "markdown",
   "id": "a90a76b3-4d3a-4067-8e78-26ef96a53c29",
   "metadata": {},
   "source": [
    "# 2.2 신경망을 위한 데이터 표현"
   ]
  },
  {
   "cell_type": "markdown",
   "id": "cb08baf1-f2a7-4929-ad3d-c884566f1dfc",
   "metadata": {},
   "source": [
    "이전 예제에서 텐서(tensor)라 부르는 다차원 넘파이 배열에 데이터를 저장하는 것부터 시작했습니다.\n",
    "텐서는 임의의 차원 개수를 가지는 행렬의 일반화된 모습입니다(텐서에서는 차원(dimension)을 종종 축(axis)이라고 부릅니다)."
   ]
  },
  {
   "cell_type": "markdown",
   "id": "b07ff704-9819-4172-b583-fb92b779ced5",
   "metadata": {},
   "source": [
    "### 2.2.1 스칼라(0D 텐서)"
   ]
  },
  {
   "cell_type": "markdown",
   "id": "d41e26f5-0222-4261-b199-5de3b6869b6b",
   "metadata": {},
   "source": [
    "하나의 숫자만 담고 있는 텐서를 스칼라(scalar)(또는 스칼라 텐서, 0차원 텐서, 0D 텐서)라고 부릅니다.\n",
    "텐서의 축 개수를 랭크(rank)라고도 부릅니다."
   ]
  },
  {
   "cell_type": "code",
   "execution_count": 1,
   "id": "59b077d9-1ee1-4047-9179-2359d0e1c9a2",
   "metadata": {},
   "outputs": [
    {
     "data": {
      "text/plain": [
       "array(12)"
      ]
     },
     "execution_count": 1,
     "metadata": {},
     "output_type": "execute_result"
    }
   ],
   "source": [
    "import numpy as np\n",
    "x = np.array(12)\n",
    "x"
   ]
  },
  {
   "cell_type": "code",
   "execution_count": 2,
   "id": "5ac2707b-47f0-474d-92aa-7b69fd26deaa",
   "metadata": {},
   "outputs": [
    {
     "data": {
      "text/plain": [
       "0"
      ]
     },
     "execution_count": 2,
     "metadata": {},
     "output_type": "execute_result"
    }
   ],
   "source": [
    "x.ndim"
   ]
  },
  {
   "cell_type": "markdown",
   "id": "21c581cb-aa7b-44b4-b9e2-d2aac0c5b314",
   "metadata": {},
   "source": [
    "### 2.2.2 벡터(1D 텐서)"
   ]
  },
  {
   "cell_type": "markdown",
   "id": "9fc24989-a65b-46f9-8f06-8532d5fdb446",
   "metadata": {},
   "source": [
    "숫자의 배열을 벡터(vector) 또는 1D 텐서라고 부릅니다. 1D 텐서는 딱 하나의 축을 가집니다."
   ]
  },
  {
   "cell_type": "code",
   "execution_count": 3,
   "id": "53a794fc-e531-4631-ab79-ca63132bea41",
   "metadata": {},
   "outputs": [
    {
     "data": {
      "text/plain": [
       "array([12,  3,  6, 14,  7])"
      ]
     },
     "execution_count": 3,
     "metadata": {},
     "output_type": "execute_result"
    }
   ],
   "source": [
    "x = np.array([12, 3, 6, 14, 7])\n",
    "x"
   ]
  },
  {
   "cell_type": "code",
   "execution_count": 4,
   "id": "c725ff4e-c726-43b8-87e8-668b79c3a1da",
   "metadata": {},
   "outputs": [
    {
     "data": {
      "text/plain": [
       "1"
      ]
     },
     "execution_count": 4,
     "metadata": {},
     "output_type": "execute_result"
    }
   ],
   "source": [
    "x.ndim"
   ]
  },
  {
   "cell_type": "markdown",
   "id": "296fae19-9291-4ad5-855b-18d01f9187ef",
   "metadata": {},
   "source": [
    "이 벡터는 5개의 원소를 가지고 있으므로 5차원 벡터라고 부릅니다. 5D 벡터와 5D 텐서를 혼동하지 마세요! 5D 벡터는 하나의 축을 따라 5개의 차원을 가진 것이고 5D 텐서는 5개의 축을 가진 것입니다"
   ]
  },
  {
   "cell_type": "markdown",
   "id": "5b8231e4-a90b-43dd-9e2e-4016f27bee1e",
   "metadata": {},
   "source": [
    "### 2.2.3 행렬(2D 텐서)\n",
    "벡터의 배열이 행렬(matrix) 또는 2D 텐서입니다. 행렬에는 2개의 축이 있습니다(보통 행(row)과 열(column)이라고 부릅니다)."
   ]
  },
  {
   "cell_type": "code",
   "execution_count": 5,
   "id": "b5896678-c25e-4d1e-90e4-4b70d6ec181e",
   "metadata": {},
   "outputs": [
    {
     "data": {
      "text/plain": [
       "2"
      ]
     },
     "execution_count": 5,
     "metadata": {},
     "output_type": "execute_result"
    }
   ],
   "source": [
    "x = np.array([[5, 78, 2, 34, 0],\n",
    "              [6, 79, 3, 35, 1],\n",
    "              [7, 80, 4, 36, 2]])\n",
    "x.ndim"
   ]
  },
  {
   "cell_type": "markdown",
   "id": "791e7f98-f1b7-4b22-80e8-156781593d7b",
   "metadata": {},
   "source": [
    "### 2.2.4 3D 텐서와 고차원 텐서"
   ]
  },
  {
   "cell_type": "code",
   "execution_count": 6,
   "id": "c5c9b1d1-6d05-4368-ba94-67cef287d6a8",
   "metadata": {},
   "outputs": [
    {
     "data": {
      "text/plain": [
       "3"
      ]
     },
     "execution_count": 6,
     "metadata": {},
     "output_type": "execute_result"
    }
   ],
   "source": [
    "x = np.array([[[5, 78, 2, 34, 0],\n",
    "               [6, 79, 3, 35, 1],\n",
    "               [7, 80, 4, 36, 2]],\n",
    "              [[5, 78, 2, 34, 0],\n",
    "               [6, 79, 3, 35, 1],\n",
    "               [7, 80, 4, 36, 2]],\n",
    "              [[5, 78, 2, 34, 0],\n",
    "               [6, 79, 3, 35, 1],\n",
    "               [7, 80, 4, 36, 2]]])\n",
    "x.ndim"
   ]
  },
  {
   "cell_type": "markdown",
   "id": "f1a78fe4-9772-4c1b-973a-4e55b902bfab",
   "metadata": {},
   "source": [
    "### 2.2.5 핵심 속성\n",
    "텐서는 3개의 핵심 속성으로 정의됩니다.\n",
    "- 축의 개수(랭크): 3D 텐서에는 3개의 축이 있고, 행렬에는 2개의 축이 있습니다. ndim 속성과 같습니다.\n",
    "- 크기(shape): 텐서의 각 축을 따라 얼마나 많은 차원이 있는 지를 나타낸 파이썬의 튜플(tuple)입니다\n",
    "- 데이터 타입(dtype): float32, uint8 등\n",
    "\n",
    "MNIST 예제를 다시 들여다봅시다"
   ]
  },
  {
   "cell_type": "code",
   "execution_count": 7,
   "id": "c4ecb8a7-1095-4129-ab7b-bfd96faa16c0",
   "metadata": {},
   "outputs": [],
   "source": [
    "from keras.datasets import mnist\n",
    "(train_images, train_labels), (test_images, test_labels) = mnist.load_data()"
   ]
  },
  {
   "cell_type": "code",
   "execution_count": 8,
   "id": "efc0c0f9-1792-44ba-9976-08ac805e1627",
   "metadata": {},
   "outputs": [
    {
     "data": {
      "text/plain": [
       "3"
      ]
     },
     "execution_count": 8,
     "metadata": {},
     "output_type": "execute_result"
    }
   ],
   "source": [
    "train_images.ndim"
   ]
  },
  {
   "cell_type": "code",
   "execution_count": 9,
   "id": "46e22422-13ae-4e0a-906b-791aa8d9f0e5",
   "metadata": {},
   "outputs": [
    {
     "data": {
      "text/plain": [
       "(60000, 28, 28)"
      ]
     },
     "execution_count": 9,
     "metadata": {},
     "output_type": "execute_result"
    }
   ],
   "source": [
    "train_images.shape"
   ]
  },
  {
   "cell_type": "code",
   "execution_count": 10,
   "id": "9c01a80a-03af-44b7-aabf-8884f1c65f9b",
   "metadata": {},
   "outputs": [
    {
     "data": {
      "text/plain": [
       "dtype('uint8')"
      ]
     },
     "execution_count": 10,
     "metadata": {},
     "output_type": "execute_result"
    }
   ],
   "source": [
    "train_images.dtype"
   ]
  },
  {
   "cell_type": "markdown",
   "id": "c0e421dc-fc66-4b21-a42a-71efe4e04eff",
   "metadata": {},
   "source": [
    "#### 코드 2-6 다섯 번째 이미지 출력하기"
   ]
  },
  {
   "cell_type": "code",
   "execution_count": 11,
   "id": "ab48d038-85a2-48ee-83e0-b9db33d4ca0b",
   "metadata": {},
   "outputs": [
    {
     "data": {
      "image/png": "[encoded data removed]",
      "text/plain": [
       "<Figure size 640x480 with 1 Axes>"
      ]
     },
     "metadata": {},
     "output_type": "display_data"
    }
   ],
   "source": [
    "digit = train_images[4]\n",
    "\n",
    "import matplotlib.pyplot as plt\n",
    "plt.imshow(digit, cmap=plt.cm.binary)\n",
    "plt.show()"
   ]
  },
  {
   "cell_type": "markdown",
   "id": "d7b30877-ac2f-4af2-b799-4c70ffaa5815",
   "metadata": {},
   "source": [
    "### 2.2.6 넘파이로 텐서 조작하기\n",
    "배열에 있는 특정 원소들을 선택하는 것을 슬라이싱(slicing)이라고 합니다."
   ]
  },
  {
   "cell_type": "code",
   "execution_count": 12,
   "id": "1df68df2-0e0d-4622-8f4e-a0f9dbaa63a6",
   "metadata": {},
   "outputs": [
    {
     "data": {
      "text/plain": [
       "(90, 28, 28)"
      ]
     },
     "execution_count": 12,
     "metadata": {},
     "output_type": "execute_result"
    }
   ],
   "source": [
    "my_slice = train_images[10:100]\n",
    "my_slice.shape"
   ]
  },
  {
   "cell_type": "code",
   "execution_count": 13,
   "id": "6c38a31a-b3ec-4dc3-9761-f474c96f2c7e",
   "metadata": {},
   "outputs": [
    {
     "data": {
      "text/plain": [
       "(90, 28, 28)"
      ]
     },
     "execution_count": 13,
     "metadata": {},
     "output_type": "execute_result"
    }
   ],
   "source": [
    "my_slice = train_images[10:100, :, :]\n",
    "my_slice.shape"
   ]
  },
  {
   "cell_type": "code",
   "execution_count": 14,
   "id": "8b1e5beb-81ef-4dac-88b7-9012918c675e",
   "metadata": {},
   "outputs": [
    {
     "data": {
      "text/plain": [
       "(90, 28, 28)"
      ]
     },
     "execution_count": 14,
     "metadata": {},
     "output_type": "execute_result"
    }
   ],
   "source": [
    "my_slice = train_images[10:100, 0:28, 0:28]\n",
    "my_slice.shape"
   ]
  },
  {
   "cell_type": "code",
   "execution_count": 15,
   "id": "ffa4496d-bd19-4607-a091-fe053cb77b55",
   "metadata": {},
   "outputs": [],
   "source": [
    "# 이미지의 오른쪽 아래 14x14 픽셀 선택\n",
    "my_slice = train_images[:, 14:, 14:]"
   ]
  },
  {
   "cell_type": "code",
   "execution_count": 16,
   "id": "f805d97a-0a2f-43c1-9c44-757d910833b0",
   "metadata": {},
   "outputs": [],
   "source": [
    "# 음수 인덱스 이용해서 정중앙의 14x14 픽셀 선택\n",
    "my_slice = train_images[:, 7:-7, 7:-7]"
   ]
  },
  {
   "cell_type": "markdown",
   "id": "a38b6828-f29f-49f4-b6e0-1ccd53fff19a",
   "metadata": {},
   "source": [
    "### 2.2.7 배치 데이터\n",
    "일반적으로 딥러닝에서 사용하는 모든 데이터 텐서의 첫 번째 축(인덱스가 0부터 시작하므로 0번째 축)은 샘플 축(sample axis)입니다(이따금 샘플 차원(sample dimension)이라고도 부릅니다).\n",
    "딥러닝 모델은 한 번에 전체 데이터셋을 처리하지 않습니다. 그 대신 데이터를 작은 배치(batch)로 나눕니다"
   ]
  },
  {
   "cell_type": "markdown",
   "id": "10919031-d6bb-4236-8b89-7def52f8e1d8",
   "metadata": {},
   "source": [
    "##### 크기가 128인 배치\n",
    "batch = train_images[:128]\n",
    "\n",
    "##### 그다음 배치\n",
    "batch = train_images[128:256]\n",
    "\n",
    "##### n번째 배치\n",
    "batch = train_images[128 * n: 128 * (n + 1)]"
   ]
  },
  {
   "cell_type": "markdown",
   "id": "951fb110-ab79-4478-b9a2-ddd3fea9cf44",
   "metadata": {},
   "source": [
    "### 2.2.8 텐서의 실제 사례\n",
    "우리가 사용할 데이터는 대부분 다음 중 하나에 속할 것입니다.\n",
    "- 벡터 데이터: (samples, features) 크기의 2D 텐서\n",
    "- 시계열 데이터 또는 시퀀스(sequence) 데이터: (samples, timesteps, features) 크기의 3D 텐서\n",
    "- 이미지: (samples, height, width, channels) 또는 (samples, channels, height, width) 크기의 4D 텐서\n",
    "- 동영상: (samples, frames, height, width, channels) 또는 (samples, frames, channels, height, width) 크기의 5D 텐서"
   ]
  }
 ],
 "metadata": {
  "kernelspec": {
   "display_name": "Python 3 (ipykernel)",
   "language": "python",
   "name": "python3"
  },
  "language_info": {
   "codemirror_mode": {
    "name": "ipython",
    "version": 3
   },
   "file_extension": ".py",
   "mimetype": "text/x-python",
   "name": "python",
   "nbconvert_exporter": "python",
   "pygments_lexer": "ipython3",
   "version": "3.10.6"
  }
 },
 "nbformat": 4,
 "nbformat_minor": 5
}
