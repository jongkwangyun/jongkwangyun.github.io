{
 "cells": [
  {
   "cell_type": "markdown",
   "id": "3638784b-b8e4-4de0-8797-d553b1b8a1d5",
   "metadata": {},
   "source": [
    "# 4.1 머신 러닝의 네 가지 분류"
   ]
  },
  {
   "cell_type": "markdown",
   "id": "af35ec1d-56b7-4af1-9244-19d7316c3077",
   "metadata": {},
   "source": [
    "이진 분류, 다중 분류, 스칼라 회귀는 모두 지도 학습(supervised learning)의 예입니다. 지도 학습의 목표는 훈련 데이터의 입력과 타깃 사이에 있는 관계를 학습하는 것입니다.\n",
    "일반적으로 머신 러닝 알고리즘은 다음 절에서 소개하는 4개의 커다란 범주 안에 속합니다.\n",
    "\n",
    "### 4.1.1 지도 학습\n",
    "샘플 데이터가 주어지면 알고 있는 타깃에 입력 데이터를 매핑하는 방법을 학습합니다.\n",
    "\n",
    "### 4.1.2 비지도 학습\n",
    "어떤 타깃도 사용하지 않고 입력 데이터에 대한 흥미로운 변환을 찾습니다. 데이터 시각화, 데이터 압축, 데이터의 노이즈 제거 또는 데이터에 있는 상관관계를 더 잘 이해하기 우해 사용합니다. 차워 축소(dimensionality reduction)와 군집(clustering)이 비지도 학습에서 잘 알려진 범주입니다.\n",
    "\n",
    "### 4.1.3 자기 지도 학습\n",
    "자기 지도 학습은 지도 학습이지만 사람이 만든 레이블을 사용하지 않습니다. 즉 학습 과정에 사람이 개입하지 않는 지도 학습이라고 생각할 수 있습니다. 레이블이 여전히 필요하지만 보통 경험적인 알고리즘(heuristic algorithm)을 사용해서 입력 데이터로부터 생성합니다.\n",
    "지난 프레임이 주어졌을 때 비디오의 다음 프레임을 예측하는 것이나, 이전 단어가 주어졌을 때 다음 단어를 에측하는 것이 자기 지도 학습으 ㅣ예입니다.\n",
    "\n",
    "### 4.1.4 강화 학습\n",
    "게임 이외에 실제적인 성공 사례는 아직 없습니다."
   ]
  }
 ],
 "metadata": {
  "kernelspec": {
   "display_name": "Python 3 (ipykernel)",
   "language": "python",
   "name": "python3"
  },
  "language_info": {
   "codemirror_mode": {
    "name": "ipython",
    "version": 3
   },
   "file_extension": ".py",
   "mimetype": "text/x-python",
   "name": "python",
   "nbconvert_exporter": "python",
   "pygments_lexer": "ipython3",
   "version": "3.10.6"
  }
 },
 "nbformat": 4,
 "nbformat_minor": 5
}
