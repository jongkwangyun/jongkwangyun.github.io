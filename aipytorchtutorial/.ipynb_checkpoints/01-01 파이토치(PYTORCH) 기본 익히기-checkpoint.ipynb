{
 "cells": [
  {
   "cell_type": "markdown",
   "id": "cbc0b828",
   "metadata": {},
   "source": [
    "# 01 파이토치(PYTORCH) 기본 익히기"
   ]
  },
  {
   "cell_type": "markdown",
   "id": "af71d896",
   "metadata": {},
   "source": [
    "## 튜토리얼 사용 방법\n",
    "\n",
    "다른 딥러닝 프레임워크에 익숙하다면, 0. 빠른 시작 을 보고 PyTorch의 API들을 빠르게 익히세요.\n",
    "\n",
    "딥러닝 프레임워크가 처음이라면, 단계별(step-by-step) 가이드의 첫번째인 1. 텐서(Tensor) 로 이동하세요."
   ]
  },
  {
   "cell_type": "markdown",
   "id": "1c40d530",
   "metadata": {},
   "source": [
    "```\n",
    "pip install jupyter\n",
    "pip install torch\n",
    "pip install torchvision\n",
    "pip install matplotlib\n",
    "pip install pandas\n",
    "```"
   ]
  }
 ],
 "metadata": {
  "kernelspec": {
   "display_name": "Python 3",
   "language": "python",
   "name": "python3"
  },
  "language_info": {
   "codemirror_mode": {
    "name": "ipython",
    "version": 3
   },
   "file_extension": ".py",
   "mimetype": "text/x-python",
   "name": "python",
   "nbconvert_exporter": "python",
   "pygments_lexer": "ipython3",
   "version": "3.6.7"
  }
 },
 "nbformat": 4,
 "nbformat_minor": 5
}
