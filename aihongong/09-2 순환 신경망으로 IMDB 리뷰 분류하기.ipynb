{
 "cells": [
  {
   "cell_type": "markdown",
   "id": "11c0e96d",
   "metadata": {},
   "source": [
    "# 09-2 순환 신경망으로 IMDB 리뷰 분류하기"
   ]
  },
  {
   "cell_type": "markdown",
   "id": "ae2237d0",
   "metadata": {},
   "source": [
    "## IMDB 리뷰 데이터셋\n",
    "\n",
    "일반적으로 영어 문장은 모두 소문자로 바꾸고 구둣점을 삭제한 다음 공백을 기준으로 분리합니다. 이렇게 분리된 단어를 **토큰**toekn이라고 부릅니다.\n",
    "\n",
    "토큰에 할당하는 정수 중에 몇 개는 특정한 용도로 예약되어 있는 경우가 많습니다. 예를 들어 0은 패딩, 1은 문장의 시작, 2는 어휘 산전에 없는 토큰을 나타냅니다."
   ]
  },
  {
   "cell_type": "code",
   "execution_count": 1,
   "id": "92473083",
   "metadata": {},
   "outputs": [],
   "source": [
    "from tensorflow.keras.datasets import imdb\n",
    "(train_input, train_target), (test_input, test_target) = imdb.load_data(num_words=300)"
   ]
  },
  {
   "cell_type": "code",
   "execution_count": 2,
   "id": "12c89843",
   "metadata": {},
   "outputs": [
    {
     "data": {
      "text/plain": [
       "((25000,), (25000,))"
      ]
     },
     "execution_count": 2,
     "metadata": {},
     "output_type": "execute_result"
    }
   ],
   "source": [
    "train_input.shape, test_input.shape"
   ]
  },
  {
   "cell_type": "markdown",
   "id": "5ab03675",
   "metadata": {},
   "source": [
    "이 데이터는 개별 리뷰를 담은 파이썬 리스트 객체로 이루어진 넘파이 배열입니다."
   ]
  },
  {
   "cell_type": "code",
   "execution_count": 3,
   "id": "a3186348",
   "metadata": {},
   "outputs": [
    {
     "data": {
      "text/plain": [
       "218"
      ]
     },
     "execution_count": 3,
     "metadata": {},
     "output_type": "execute_result"
    }
   ],
   "source": [
    "len(train_input[0])"
   ]
  },
  {
   "cell_type": "markdown",
   "id": "a159f652",
   "metadata": {},
   "source": [
    "첫 번째 리뷰의 길이느 218개의 토큰으로 이루어져 있습니다."
   ]
  },
  {
   "cell_type": "code",
   "execution_count": 4,
   "id": "e3b141d2",
   "metadata": {},
   "outputs": [
    {
     "data": {
      "text/plain": [
       "189"
      ]
     },
     "execution_count": 4,
     "metadata": {},
     "output_type": "execute_result"
    }
   ],
   "source": [
    "len(train_input[1])"
   ]
  },
  {
   "cell_type": "markdown",
   "id": "31e75b10",
   "metadata": {},
   "source": [
    "첫 번째 리뷰에 담긴 내용을 출력해 보죠"
   ]
  },
  {
   "cell_type": "code",
   "execution_count": 5,
   "id": "e067e1f3",
   "metadata": {},
   "outputs": [
    {
     "data": {
      "text/plain": [
       "[1,\n",
       " 14,\n",
       " 22,\n",
       " 16,\n",
       " 43,\n",
       " 2,\n",
       " 2,\n",
       " 2,\n",
       " 2,\n",
       " 65,\n",
       " 2,\n",
       " 2,\n",
       " 66,\n",
       " 2,\n",
       " 4,\n",
       " 173,\n",
       " 36,\n",
       " 256,\n",
       " 5,\n",
       " 25,\n",
       " 100,\n",
       " 43,\n",
       " 2,\n",
       " 112,\n",
       " 50,\n",
       " 2,\n",
       " 2,\n",
       " 9,\n",
       " 35,\n",
       " 2,\n",
       " 284,\n",
       " 5,\n",
       " 150,\n",
       " 4,\n",
       " 172,\n",
       " 112,\n",
       " 167,\n",
       " 2,\n",
       " 2,\n",
       " 2,\n",
       " 39,\n",
       " 4,\n",
       " 172,\n",
       " 2,\n",
       " 2,\n",
       " 17,\n",
       " 2,\n",
       " 38,\n",
       " 13,\n",
       " 2,\n",
       " 4,\n",
       " 192,\n",
       " 50,\n",
       " 16,\n",
       " 6,\n",
       " 147,\n",
       " 2,\n",
       " 19,\n",
       " 14,\n",
       " 22,\n",
       " 4,\n",
       " 2,\n",
       " 2,\n",
       " 2,\n",
       " 4,\n",
       " 22,\n",
       " 71,\n",
       " 87,\n",
       " 12,\n",
       " 16,\n",
       " 43,\n",
       " 2,\n",
       " 38,\n",
       " 76,\n",
       " 15,\n",
       " 13,\n",
       " 2,\n",
       " 4,\n",
       " 22,\n",
       " 17,\n",
       " 2,\n",
       " 17,\n",
       " 12,\n",
       " 16,\n",
       " 2,\n",
       " 18,\n",
       " 2,\n",
       " 5,\n",
       " 62,\n",
       " 2,\n",
       " 12,\n",
       " 8,\n",
       " 2,\n",
       " 8,\n",
       " 106,\n",
       " 5,\n",
       " 4,\n",
       " 2,\n",
       " 2,\n",
       " 16,\n",
       " 2,\n",
       " 66,\n",
       " 2,\n",
       " 33,\n",
       " 4,\n",
       " 130,\n",
       " 12,\n",
       " 16,\n",
       " 38,\n",
       " 2,\n",
       " 5,\n",
       " 25,\n",
       " 124,\n",
       " 51,\n",
       " 36,\n",
       " 135,\n",
       " 48,\n",
       " 25,\n",
       " 2,\n",
       " 33,\n",
       " 6,\n",
       " 22,\n",
       " 12,\n",
       " 215,\n",
       " 28,\n",
       " 77,\n",
       " 52,\n",
       " 5,\n",
       " 14,\n",
       " 2,\n",
       " 16,\n",
       " 82,\n",
       " 2,\n",
       " 8,\n",
       " 4,\n",
       " 107,\n",
       " 117,\n",
       " 2,\n",
       " 15,\n",
       " 256,\n",
       " 4,\n",
       " 2,\n",
       " 7,\n",
       " 2,\n",
       " 5,\n",
       " 2,\n",
       " 36,\n",
       " 71,\n",
       " 43,\n",
       " 2,\n",
       " 2,\n",
       " 26,\n",
       " 2,\n",
       " 2,\n",
       " 46,\n",
       " 7,\n",
       " 4,\n",
       " 2,\n",
       " 2,\n",
       " 13,\n",
       " 104,\n",
       " 88,\n",
       " 4,\n",
       " 2,\n",
       " 15,\n",
       " 297,\n",
       " 98,\n",
       " 32,\n",
       " 2,\n",
       " 56,\n",
       " 26,\n",
       " 141,\n",
       " 6,\n",
       " 194,\n",
       " 2,\n",
       " 18,\n",
       " 4,\n",
       " 226,\n",
       " 22,\n",
       " 21,\n",
       " 134,\n",
       " 2,\n",
       " 26,\n",
       " 2,\n",
       " 5,\n",
       " 144,\n",
       " 30,\n",
       " 2,\n",
       " 18,\n",
       " 51,\n",
       " 36,\n",
       " 28,\n",
       " 224,\n",
       " 92,\n",
       " 25,\n",
       " 104,\n",
       " 4,\n",
       " 226,\n",
       " 65,\n",
       " 16,\n",
       " 38,\n",
       " 2,\n",
       " 88,\n",
       " 12,\n",
       " 16,\n",
       " 283,\n",
       " 5,\n",
       " 16,\n",
       " 2,\n",
       " 113,\n",
       " 103,\n",
       " 32,\n",
       " 15,\n",
       " 16,\n",
       " 2,\n",
       " 19,\n",
       " 178,\n",
       " 32]"
      ]
     },
     "execution_count": 5,
     "metadata": {},
     "output_type": "execute_result"
    }
   ],
   "source": [
    "train_input[0]"
   ]
  },
  {
   "cell_type": "markdown",
   "id": "9037babe",
   "metadata": {},
   "source": [
    "앞서 num_words=300으로 지정했지 때문에 어휘 사전에는 300게의 단어만 들어가 있습니다. 따라서 어휘 사전에 없는 단어는 모두 2로 표시되어 나타납니다.\n",
    "\n",
    "이번에는 타깃 데이터를 출력해 보겠습니다."
   ]
  },
  {
   "cell_type": "code",
   "execution_count": 6,
   "id": "1c3c7a7e",
   "metadata": {},
   "outputs": [
    {
     "data": {
      "text/plain": [
       "array([1, 0, 0, 1, 0, 0, 1, 0, 1, 0, 1, 0, 0, 0, 0, 0, 1, 1, 0, 1],\n",
       "      dtype=int64)"
      ]
     },
     "execution_count": 6,
     "metadata": {},
     "output_type": "execute_result"
    }
   ],
   "source": [
    "train_target[:20]"
   ]
  },
  {
   "cell_type": "markdown",
   "id": "98bd805c",
   "metadata": {},
   "source": [
    "해결할 문제는 리뷰가 긍정인지 부정인지를 판단하는 겁니다. 그러면 이진 분류 문제로 불 수 있으므로 타깃값이 0(부정)과 1(긍정)로 나누어집니다.\n",
    "\n",
    "훈련 세트에서 검증 세트를 떼어 놓도록 하죠"
   ]
  },
  {
   "cell_type": "code",
   "execution_count": 7,
   "id": "36462106",
   "metadata": {},
   "outputs": [],
   "source": [
    "from sklearn.model_selection import train_test_split\n",
    "train_input, val_input, train_target, val_target = train_test_split(train_input, train_target, test_size=0.2, random_state=42)"
   ]
  },
  {
   "cell_type": "markdown",
   "id": "249821c0",
   "metadata": {},
   "source": [
    "먼저 각 리뷰의 길이를 계산해 넘파이 배열에 담겠습니다. 이렇게 하는 이유는 평균적인 리뷰의 길이와 가장 짧은 리뷰의 길이 그리고 가장 긴 리뷰의 길이를 확인하고 싶기 때문입니다. 이를 위해 넘파이 리스트 내포를 사용해 train_input의 원소를 순회하면서 길이를 재도록 하겠습니다."
   ]
  },
  {
   "cell_type": "code",
   "execution_count": 8,
   "id": "607eaa2b",
   "metadata": {},
   "outputs": [],
   "source": [
    "import numpy as np\n",
    "lengths = np.array([len(x) for x in train_input])"
   ]
  },
  {
   "cell_type": "markdown",
   "id": "6f3381d4",
   "metadata": {},
   "source": [
    "lengths 배열이 준비되었으므로 넘파이 mean() 함수와 median() 함수를 사용해 리뷰 길이의 평균과 중간값을 구해 보겠습니다."
   ]
  },
  {
   "cell_type": "code",
   "execution_count": 9,
   "id": "d839481f",
   "metadata": {},
   "outputs": [
    {
     "data": {
      "text/plain": [
       "(239.00925, 178.0)"
      ]
     },
     "execution_count": 9,
     "metadata": {},
     "output_type": "execute_result"
    }
   ],
   "source": [
    "np.mean(lengths), np.median(lengths)"
   ]
  },
  {
   "cell_type": "markdown",
   "id": "56e2868a",
   "metadata": {},
   "source": [
    "lengths 배열을 히스토그램으로 표현해 보겠습니다."
   ]
  },
  {
   "cell_type": "code",
   "execution_count": 10,
   "id": "73320dec",
   "metadata": {},
   "outputs": [
    {
     "data": {
      "image/png": "[encoded data removed]",
      "text/plain": [
       "<Figure size 432x288 with 1 Axes>"
      ]
     },
     "metadata": {
      "needs_background": "light"
     },
     "output_type": "display_data"
    }
   ],
   "source": [
    "import matplotlib.pyplot as plt\n",
    "plt.hist(lengths)\n",
    "plt.xlabel('length')\n",
    "plt.ylabel('frequency')\n",
    "plt.show()"
   ]
  },
  {
   "cell_type": "markdown",
   "id": "68ab58a6",
   "metadata": {},
   "source": [
    "역시 한쪽으로 치우쳤군요. 대부분의 리뷰 길이는 300 미만입니다.\n",
    "\n",
    "리뷰는 대부분 짧아서 이 예제에서는 중간값보다 훨씬 작은 100개의 단어만 사용하겠습니다. 하지만 여전히 100개의 단어보다 작은 리뷰가 있습니다. 이런 리뷰들이 길이를 100에 맞추기 위해 패딩이 필요합니다. 보통 패딩을 나타내는 토큰으로는 0을 사용합니다.\n",
    "\n",
    "케라스는 시퀀스 데이터의 길이를 맞추는 pad_sequences() 함수를 제공합니다. 이 함수를 사용해 train_input의 길이를 100으로 맞추어 보겠습니다."
   ]
  },
  {
   "cell_type": "code",
   "execution_count": 11,
   "id": "9f3d5789",
   "metadata": {},
   "outputs": [],
   "source": [
    "from tensorflow.keras.preprocessing.sequence import pad_sequences\n",
    "train_seq = pad_sequences(train_input, maxlen=100)"
   ]
  },
  {
   "cell_type": "markdown",
   "id": "e2d23df1",
   "metadata": {},
   "source": [
    "maxlen에 원하는 길이를 지정하면 이보다 긴 경우는 잘라내고 짧은 경우는 0으로 패딩합니다."
   ]
  },
  {
   "cell_type": "code",
   "execution_count": 12,
   "id": "484ae2e0",
   "metadata": {},
   "outputs": [
    {
     "data": {
      "text/plain": [
       "(20000, 100)"
      ]
     },
     "execution_count": 12,
     "metadata": {},
     "output_type": "execute_result"
    }
   ],
   "source": [
    "train_seq.shape"
   ]
  },
  {
   "cell_type": "code",
   "execution_count": 13,
   "id": "71ff3824",
   "metadata": {},
   "outputs": [
    {
     "data": {
      "text/plain": [
       "array([ 10,   4,  20,   9,   2,   2,   2,   5,  45,   6,   2,   2,  33,\n",
       "       269,   8,   2, 142,   2,   5,   2,  17,  73,  17, 204,   5,   2,\n",
       "        19,  55,   2,   2,  92,  66, 104,  14,  20,  93,  76,   2, 151,\n",
       "        33,   4,  58,  12, 188,   2, 151,  12, 215,  69, 224, 142,  73,\n",
       "       237,   6,   2,   7,   2,   2, 188,   2, 103,  14,  31,  10,  10,\n",
       "         2,   7,   2,   5,   2,  80,  91,   2,  30,   2,  34,  14,  20,\n",
       "       151,  50,  26, 131,  49,   2,  84,  46,  50,  37,  80,  79,   6,\n",
       "         2,  46,   7,  14,  20,  10,  10,   2, 158])"
      ]
     },
     "execution_count": 13,
     "metadata": {},
     "output_type": "execute_result"
    }
   ],
   "source": [
    "train_seq[0]"
   ]
  },
  {
   "cell_type": "markdown",
   "id": "37e27e72",
   "metadata": {},
   "source": [
    "이 새플의 앞뒤에 패딩 값 0이 없는 것으로 보아 100보다는 길었을 것 같습니다. 그럼 원래 샘플의 앞 부분이 잘렸을까요? 뒷부분이 잘렸을까요? train_input에 있는 원본 샘플의 끝을 확인해 보죠."
   ]
  },
  {
   "cell_type": "code",
   "execution_count": 14,
   "id": "640d9bf5",
   "metadata": {},
   "outputs": [
    {
     "data": {
      "text/plain": [
       "[6, 2, 46, 7, 14, 20, 10, 10, 2, 158]"
      ]
     },
     "execution_count": 14,
     "metadata": {},
     "output_type": "execute_result"
    }
   ],
   "source": [
    "train_input[0][-10:]"
   ]
  },
  {
   "cell_type": "markdown",
   "id": "d97db9b6",
   "metadata": {},
   "source": [
    "train_seq[0]의 출력값과 비교하면 정확히 일치합니다. 그렇다면 샘플의 앞부분이 잘렸다는 것을 짐작할 수 있겠네요.\n",
    "\n",
    "pad_sequences() 함수는 기본적으로 maxlen보다 긴 시퀀스의 앞부분을 자릅니다. 이렇게 하는 이유는 일반적으로 시퀀스의 뒷부분의 정보다 더 유용하리라 기대하기 때문입니다. 영화 리뷰 데이터를 생각해 보면 리뷰 끝에 뭔가 결정적인 소감을 말할 가능성이 높다고 볼 수 있습니다. 만약 시퀀스의 뒷부분을 잘라내고 싶다면 pad_sequences() 함수의 truncating 매개변수의 값을 기본값 'pre'가 아닌 'post'로 바꾸면 됩니다.\n",
    "\n",
    "이번에는 train_seq에 있는 여섯 번째 샘플을 출력해 보겠습니다."
   ]
  },
  {
   "cell_type": "code",
   "execution_count": 15,
   "id": "f90a6447",
   "metadata": {},
   "outputs": [
    {
     "data": {
      "text/plain": [
       "array([  0,   0,   0,   0,   1,   2, 195,  19,  49,   2,   2, 190,   4,\n",
       "         2,   2,   2, 183,  10,  10,  13,  82,  79,   4,   2,  36,  71,\n",
       "       269,   8,   2,  25,  19,  49,   7,   4,   2,   2,   2,   2,   2,\n",
       "        10,  10,  48,  25,  40,   2,  11,   2,   2,  40,   2,   2,   5,\n",
       "         4,   2,   2,  95,  14, 238,  56, 129,   2,  10,  10,  21,   2,\n",
       "        94,   2,   2,   2,   2,  11, 190,  24,   2,   2,   7,  94, 205,\n",
       "         2,  10,  10,  87,   2,  34,  49,   2,   7,   2,   2,   2,   2,\n",
       "         2, 290,   2,  46,  48,  64,  18,   4,   2])"
      ]
     },
     "execution_count": 15,
     "metadata": {},
     "output_type": "execute_result"
    }
   ],
   "source": [
    "train_seq[5]"
   ]
  },
  {
   "cell_type": "markdown",
   "id": "4e6dfb54",
   "metadata": {},
   "source": [
    "앞부분에 0이 있는 것으로 보아 이 샘플의 길이는 100이 안되겠군요. 시퀀스으 마지막에 있는 단어가 셀의 은닉 상태에 가장 큰 영향을 미치게 되므로 마지막에 패딩을 추가하는 것은 일반적으로 선호하지 않습니다. 하지만 원한다면 pad_sequences() 함수의 padding 매개변수의 기본값인 'pre'를 'post'로 바꾸면 샘플의 뒷부분에 패딩을 추가할 수 있습니다.\n",
    "\n",
    "검증 세트의 길이도 100으로 맞추어 보죠."
   ]
  },
  {
   "cell_type": "code",
   "execution_count": 16,
   "id": "e31d4f6c",
   "metadata": {},
   "outputs": [],
   "source": [
    "val_seq = pad_sequences(val_input, maxlen=100)"
   ]
  },
  {
   "cell_type": "markdown",
   "id": "04d1644a",
   "metadata": {},
   "source": [
    "## 순환 신경망 만들기\n",
    "\n",
    "케라스는 여러 종류의 순환층 클래스를 제공합니다. 그중에 가장 간단한 것은 SimpleRNN 클래스입니다."
   ]
  },
  {
   "cell_type": "code",
   "execution_count": 18,
   "id": "4fb68cdb",
   "metadata": {},
   "outputs": [],
   "source": [
    "from tensorflow import keras\n",
    "model = keras.Sequential()\n",
    "model.add(keras.layers.SimpleRNN(8, input_shape=(100, 300)))\n",
    "model.add(keras.layers.Dense(1, activation='sigmoid'))"
   ]
  },
  {
   "cell_type": "markdown",
   "id": "4de96529",
   "metadata": {},
   "source": [
    "SimpleRNN 클래스의 첫 번째 매개변수에는 사용할 뉴런의 개수를 지정한다. input_shape에 첫 번째 차원이 100인 것은 앞에서 샘플의 길이를 100으로 지정했기 때문이다.\n",
    "\n",
    "그럼 input_shape의 두 번째 차원인 300은 어디서 온 숫자일까요? 이전 섹션에서 만든 train_seq와 val_seq에는 한 가지 큰 문제가 있습니다. 토큰을 정수로 변환한 이 데이터를 신경망에 주입하면 큰 정수가 큰 활성화 출력을 만들기 때문입니다.\n",
    "\n",
    "분명히 이 정수 사이에는 어떤 관련이 없습니다. 20번 토큰을 10번 토큰보다 더 중요시해야 할 이유가 없습니다. 따라서 단순한 정숫값을 신경망에 입력하기 위해서는 다른 방식을 찾아야 합니다.\n",
    "\n",
    "정숫값에 있는 크기 속성을 없애고 각 정수를 고유하게 표현하는 방법은 7장에서 잠깐 보았던 원-핫 인코딩입니다.\n",
    "\n",
    "원-핫 인코딩 유틸리티는 keras.utils 패키지 아래에 있는 to_categorical() 함수이다."
   ]
  },
  {
   "cell_type": "code",
   "execution_count": 19,
   "id": "6bb85bfa",
   "metadata": {},
   "outputs": [],
   "source": [
    "train_oh = keras.utils.to_categorical(train_seq)"
   ]
  },
  {
   "cell_type": "code",
   "execution_count": 20,
   "id": "612c7090",
   "metadata": {},
   "outputs": [
    {
     "data": {
      "text/plain": [
       "(20000, 100, 300)"
      ]
     },
     "execution_count": 20,
     "metadata": {},
     "output_type": "execute_result"
    }
   ],
   "source": [
    "train_oh.shape"
   ]
  },
  {
   "cell_type": "markdown",
   "id": "646021d0",
   "metadata": {},
   "source": [
    "정수 하나마다 모두 300차원의 배열로 변경되었기 때문에 (20000, 100) 크기의 train_seq가 (20000, 100, 300) 크기의 train_oh로 바뀌었습니다.\n",
    "\n",
    "train_oh의 첫 번째 샘플의 첫 번째 토큰 10이 잘 인코딩되었는지 출력해보죠."
   ]
  },
  {
   "cell_type": "code",
   "execution_count": 21,
   "id": "4d82d0eb",
   "metadata": {},
   "outputs": [
    {
     "data": {
      "text/plain": [
       "array([0., 0., 0., 0., 0., 0., 0., 0., 0., 0., 1., 0.], dtype=float32)"
      ]
     },
     "execution_count": 21,
     "metadata": {},
     "output_type": "execute_result"
    }
   ],
   "source": [
    "train_oh[0][0][:12]"
   ]
  },
  {
   "cell_type": "code",
   "execution_count": 22,
   "id": "98c68239",
   "metadata": {},
   "outputs": [
    {
     "data": {
      "text/plain": [
       "1.0"
      ]
     },
     "execution_count": 22,
     "metadata": {},
     "output_type": "execute_result"
    }
   ],
   "source": [
    "np.sum(train_oh[0][0])"
   ]
  },
  {
   "cell_type": "markdown",
   "id": "02f47567",
   "metadata": {},
   "source": [
    "토큰 10이 잘 인코딩된 것 같습니다. 열 한 번째 원소만 1이고 나머지는 모두 0이어서 우너-핫 인코딩된 배열의 값을 모두 더한 결과가 1이 되었습니다."
   ]
  },
  {
   "cell_type": "code",
   "execution_count": 23,
   "id": "aa2218c0",
   "metadata": {},
   "outputs": [],
   "source": [
    "val_oh = keras.utils.to_categorical(val_seq)"
   ]
  },
  {
   "cell_type": "code",
   "execution_count": 24,
   "id": "2c895289",
   "metadata": {},
   "outputs": [
    {
     "name": "stdout",
     "output_type": "stream",
     "text": [
      "Model: \"sequential\"\n",
      "_________________________________________________________________\n",
      "Layer (type)                 Output Shape              Param #   \n",
      "=================================================================\n",
      "simple_rnn (SimpleRNN)       (None, 8)                 2472      \n",
      "_________________________________________________________________\n",
      "dense (Dense)                (None, 1)                 9         \n",
      "=================================================================\n",
      "Total params: 2,481\n",
      "Trainable params: 2,481\n",
      "Non-trainable params: 0\n",
      "_________________________________________________________________\n"
     ]
    }
   ],
   "source": [
    "model.summary()"
   ]
  },
  {
   "cell_type": "markdown",
   "id": "82dc9dcf",
   "metadata": {},
   "source": [
    "순환층에 사용된 모델 파라미터의 개수를 계산해 보죠. 입력 토큰은 300차원의 원-핫 인코딩 배열입니다. 이 배열이 순환층의 뉴런 8개와 완전히 연결되기 때문에 총 300 × 8 = 2400개의 가중치가 있습니다. 순환층의 은닉 상태는 다시 다음 타임스텝에 사용되기 때문에 또 다른 가중치와 곱해집니다. 이 은닉 상태도 순환층의 뉴런과 완전히 연결되기 때문에 8(은닉 상태 크기) × 8(뉴런 개수) = 64개의 가중치가 필요합니다. 마지막으로 뉴런마다 하나의 절편이 있습니다. 따라서 모두 2400 + 64 + 8 = 2472개의 모델 파라미터가 필요합니다.\n",
    "\n",
    "## 순환 신경망 훈련하기\n",
    "\n",
    "이 예에서는 기본 RMSprop의 학습률 0.001을 사용하지 않기 위해 별도의 RMSprop 객체를 만들어 학습률을 0.0001로 지정하였습니다. 그다음 에포크 횟수를 100으로 늘리고 배치 크기는 64개로 설정했습니다."
   ]
  },
  {
   "cell_type": "code",
   "execution_count": 30,
   "id": "b23fe63d",
   "metadata": {},
   "outputs": [
    {
     "name": "stdout",
     "output_type": "stream",
     "text": [
      "Epoch 1/100\n",
      "313/313 [==============================] - 8s 20ms/step - loss: 0.7024 - accuracy: 0.5007 - val_loss: 0.6983 - val_accuracy: 0.5022\n",
      "Epoch 2/100\n",
      "313/313 [==============================] - 6s 18ms/step - loss: 0.6949 - accuracy: 0.5185 - val_loss: 0.6921 - val_accuracy: 0.5218\n",
      "Epoch 3/100\n",
      "313/313 [==============================] - 5s 17ms/step - loss: 0.6850 - accuracy: 0.5520 - val_loss: 0.6771 - val_accuracy: 0.5672\n",
      "Epoch 4/100\n",
      "313/313 [==============================] - 6s 18ms/step - loss: 0.6649 - accuracy: 0.6010 - val_loss: 0.6595 - val_accuracy: 0.6072\n",
      "Epoch 5/100\n",
      "313/313 [==============================] - 5s 17ms/step - loss: 0.6479 - accuracy: 0.6332 - val_loss: 0.6441 - val_accuracy: 0.6356\n",
      "Epoch 6/100\n",
      "313/313 [==============================] - 5s 17ms/step - loss: 0.6329 - accuracy: 0.6565 - val_loss: 0.6299 - val_accuracy: 0.6572\n",
      "Epoch 7/100\n",
      "313/313 [==============================] - 5s 17ms/step - loss: 0.6192 - accuracy: 0.6743 - val_loss: 0.6168 - val_accuracy: 0.6728\n",
      "Epoch 8/100\n",
      "313/313 [==============================] - 5s 17ms/step - loss: 0.6066 - accuracy: 0.6876 - val_loss: 0.6054 - val_accuracy: 0.6854\n",
      "Epoch 9/100\n",
      "313/313 [==============================] - 5s 17ms/step - loss: 0.5947 - accuracy: 0.7002 - val_loss: 0.5954 - val_accuracy: 0.7034\n",
      "Epoch 10/100\n",
      "313/313 [==============================] - 5s 17ms/step - loss: 0.5849 - accuracy: 0.7096 - val_loss: 0.5842 - val_accuracy: 0.7136\n",
      "Epoch 11/100\n",
      "313/313 [==============================] - 5s 17ms/step - loss: 0.5750 - accuracy: 0.7190 - val_loss: 0.5749 - val_accuracy: 0.7178\n",
      "Epoch 12/100\n",
      "313/313 [==============================] - 5s 17ms/step - loss: 0.5646 - accuracy: 0.7271 - val_loss: 0.5640 - val_accuracy: 0.7292\n",
      "Epoch 13/100\n",
      "313/313 [==============================] - 5s 17ms/step - loss: 0.5548 - accuracy: 0.7319 - val_loss: 0.5580 - val_accuracy: 0.7276\n",
      "Epoch 14/100\n",
      "313/313 [==============================] - 5s 17ms/step - loss: 0.5484 - accuracy: 0.7377 - val_loss: 0.5521 - val_accuracy: 0.7350\n",
      "Epoch 15/100\n",
      "313/313 [==============================] - 5s 17ms/step - loss: 0.5426 - accuracy: 0.7426 - val_loss: 0.5483 - val_accuracy: 0.7368\n",
      "Epoch 16/100\n",
      "313/313 [==============================] - 5s 17ms/step - loss: 0.5375 - accuracy: 0.7451 - val_loss: 0.5416 - val_accuracy: 0.7400\n",
      "Epoch 17/100\n",
      "313/313 [==============================] - 5s 17ms/step - loss: 0.5325 - accuracy: 0.7494 - val_loss: 0.5387 - val_accuracy: 0.7456\n",
      "Epoch 18/100\n",
      "313/313 [==============================] - 5s 17ms/step - loss: 0.5289 - accuracy: 0.7514 - val_loss: 0.5340 - val_accuracy: 0.7438\n",
      "Epoch 19/100\n",
      "313/313 [==============================] - 5s 17ms/step - loss: 0.5247 - accuracy: 0.7545 - val_loss: 0.5317 - val_accuracy: 0.7448\n",
      "Epoch 20/100\n",
      "313/313 [==============================] - 5s 17ms/step - loss: 0.5216 - accuracy: 0.7552 - val_loss: 0.5314 - val_accuracy: 0.7430\n",
      "Epoch 21/100\n",
      "313/313 [==============================] - 5s 17ms/step - loss: 0.5188 - accuracy: 0.7571 - val_loss: 0.5244 - val_accuracy: 0.7500\n",
      "Epoch 22/100\n",
      "313/313 [==============================] - 5s 17ms/step - loss: 0.5160 - accuracy: 0.7560 - val_loss: 0.5220 - val_accuracy: 0.7516\n",
      "Epoch 23/100\n",
      "313/313 [==============================] - 5s 17ms/step - loss: 0.5139 - accuracy: 0.7594 - val_loss: 0.5211 - val_accuracy: 0.7496\n",
      "Epoch 24/100\n",
      "313/313 [==============================] - 5s 17ms/step - loss: 0.5115 - accuracy: 0.7601 - val_loss: 0.5252 - val_accuracy: 0.7474\n",
      "Epoch 25/100\n",
      "313/313 [==============================] - 5s 17ms/step - loss: 0.5096 - accuracy: 0.7624 - val_loss: 0.5180 - val_accuracy: 0.7496\n",
      "Epoch 26/100\n",
      "313/313 [==============================] - 5s 17ms/step - loss: 0.5077 - accuracy: 0.7635 - val_loss: 0.5179 - val_accuracy: 0.7508\n",
      "Epoch 27/100\n",
      "313/313 [==============================] - 5s 17ms/step - loss: 0.5063 - accuracy: 0.7645 - val_loss: 0.5140 - val_accuracy: 0.7522\n",
      "Epoch 28/100\n",
      "313/313 [==============================] - 5s 17ms/step - loss: 0.5049 - accuracy: 0.7633 - val_loss: 0.5167 - val_accuracy: 0.7512\n",
      "Epoch 29/100\n",
      "313/313 [==============================] - 5s 17ms/step - loss: 0.5030 - accuracy: 0.7659 - val_loss: 0.5119 - val_accuracy: 0.7552\n",
      "Epoch 30/100\n",
      "313/313 [==============================] - 5s 17ms/step - loss: 0.5020 - accuracy: 0.7665 - val_loss: 0.5117 - val_accuracy: 0.7532\n",
      "Epoch 31/100\n",
      "313/313 [==============================] - 6s 18ms/step - loss: 0.5013 - accuracy: 0.7665 - val_loss: 0.5121 - val_accuracy: 0.7514\n",
      "Epoch 32/100\n",
      "313/313 [==============================] - 5s 17ms/step - loss: 0.5004 - accuracy: 0.7674 - val_loss: 0.5096 - val_accuracy: 0.7538\n",
      "Epoch 33/100\n",
      "313/313 [==============================] - 5s 17ms/step - loss: 0.4994 - accuracy: 0.7681 - val_loss: 0.5090 - val_accuracy: 0.7556\n",
      "Epoch 34/100\n",
      "313/313 [==============================] - 5s 17ms/step - loss: 0.4984 - accuracy: 0.7686 - val_loss: 0.5080 - val_accuracy: 0.7544\n",
      "Epoch 35/100\n",
      "313/313 [==============================] - 5s 17ms/step - loss: 0.4978 - accuracy: 0.7688 - val_loss: 0.5067 - val_accuracy: 0.7574\n",
      "Epoch 36/100\n",
      "313/313 [==============================] - 5s 17ms/step - loss: 0.4971 - accuracy: 0.7692 - val_loss: 0.5074 - val_accuracy: 0.7552\n",
      "Epoch 37/100\n",
      "313/313 [==============================] - 5s 17ms/step - loss: 0.4963 - accuracy: 0.7679 - val_loss: 0.5066 - val_accuracy: 0.7566\n",
      "Epoch 38/100\n",
      "313/313 [==============================] - 5s 17ms/step - loss: 0.4952 - accuracy: 0.7697 - val_loss: 0.5094 - val_accuracy: 0.7538\n",
      "Epoch 39/100\n",
      "313/313 [==============================] - 5s 17ms/step - loss: 0.4946 - accuracy: 0.7711 - val_loss: 0.5095 - val_accuracy: 0.7516\n",
      "Epoch 40/100\n",
      "313/313 [==============================] - 5s 17ms/step - loss: 0.4941 - accuracy: 0.7712 - val_loss: 0.5072 - val_accuracy: 0.7522\n"
     ]
    }
   ],
   "source": [
    "rmsprop = keras.optimizers.RMSprop(learning_rate=1e-4)\n",
    "model.compile(optimizer=rmsprop, loss='binary_crossentropy', metrics=['accuracy'])\n",
    "checkpoint_cb = keras.callbacks.ModelCheckpoint('best-simplernn-model.h5', save_best_only=True)\n",
    "early_stopping_cb = keras.callbacks.EarlyStopping(patience=3, restore_best_weights=True)\n",
    "history = model.fit(train_oh, train_target, epochs=100, batch_size=64,\n",
    "                    validation_data=(val_oh, val_target), callbacks=[checkpoint_cb, early_stopping_cb])"
   ]
  },
  {
   "cell_type": "markdown",
   "id": "332fc76e",
   "metadata": {},
   "source": [
    "이 훈련은 서른 다섯 번째 에포크에서 조기 종료 되었습니다. 검증 세트에 대한 정확도는 약 80% 정도입니다. 매우 뛰어난 성능은 아니지만 감상평을 분류하는 데 어느 정도 성과를 내고 있다고 판단할 수 있습니다."
   ]
  },
  {
   "cell_type": "code",
   "execution_count": 31,
   "id": "ea571291",
   "metadata": {},
   "outputs": [
    {
     "data": {
      "image/png": "[encoded data removed]",
      "text/plain": [
       "<Figure size 432x288 with 1 Axes>"
      ]
     },
     "metadata": {
      "needs_background": "light"
     },
     "output_type": "display_data"
    }
   ],
   "source": [
    "plt.plot(history.history['loss'])\n",
    "plt.plot(history.history['val_loss'])\n",
    "plt.xlabel('epoch')\n",
    "plt.ylabel('loss')\n",
    "plt.legend(['train', 'val'])\n",
    "plt.show()"
   ]
  },
  {
   "cell_type": "markdown",
   "id": "9aa38808",
   "metadata": {},
   "source": [
    "훈련 손실은 꾸준히 감소하고 있지만 검증 손실은 대략 스무 번째 에포크에서 감소가 둔해지고 있습니다. 적절한 에포크에서 훈련을 멈춘 것 같네요. 네, 성공입니다.\n",
    "\n",
    "여기서 한 가지 생각할 점이 있습니다. 이 작업을 하기 위해서 입력 데이터를 원-핫 인코딩으로 변환했습니다. 원-핫 인코딩의 단점은 입력 데이터가 엄청 커진다는 것입니다. 실제로 train_seq 배열과 train_oh 배열의 nbytes 속성을 출력하여 크기를 확인해 보세요."
   ]
  },
  {
   "cell_type": "code",
   "execution_count": 32,
   "id": "afc9457c",
   "metadata": {},
   "outputs": [
    {
     "data": {
      "text/plain": [
       "(8000000, 2400000000)"
      ]
     },
     "execution_count": 32,
     "metadata": {},
     "output_type": "execute_result"
    }
   ],
   "source": [
    "train_seq.nbytes, train_oh.nbytes"
   ]
  },
  {
   "attachments": {
    "img.png": {
     "image/png": "[encoded data removed]"
    }
   },
   "cell_type": "markdown",
   "id": "7a7ad4c7",
   "metadata": {},
   "source": [
    "토큰 1개를 300차원으로 늘렸기 때문에 대략 300배가 커집니다! 훈련 데이터가 커질수록 더 문제가 될 것입니다. 다음 섹션에서 순환 신경망에 사용하는 더 좋은 단어 표현 방법을 알아보도록 하겠습니다.\n",
    "\n",
    "## 단어 임베딩을 사용하기\n",
    "\n",
    "순환 신경망에서 텍스트를 처리할 때 즐겨 사용하는 방법은 **단어 임베딩**word embedding입니다. 단어 임메딩은 각 단어를 고정된 크기의 실수 벡터로 바꾸어 줍니다. 예를 들면 다음 그림과 같습니다.\n",
    "\n",
    "![img.png](attachment:img.png)\n",
    "\n",
    "이런 단어 임베딩으로 만들어진 벡터는 원-하사 인코딩된 벡터보다 훨씬 의미있는 값으로 채워져 있기 때문에 자연어 처리에서 더 좋은 성능을 내는 경우가 많습니다. 케라스에서는 keras.layers 패키지 아래 Embedding 클래스로 임베딩 기능을 제공합니다. 이 클래스를 다른 층처럼 모델에 추가하면 처음에는 모든 벡터가 랜덤하게 초기화되지만 훈련을 통해 데이터에서 좋은 단어 임베딩을 학습합니다.\n",
    "\n",
    "단어 임베딩의 장점은 입력으로 정수 데이터를 받는다는 것입니다. 이 때문에 메모리를 훨씬 효율적으로 사용할 수 있습니다.\n",
    "\n",
    "Embedding 클래스를 SimpleRNN 층 앞에 추가한 두 번째 순환 신경망을 만들어 보겠습니다."
   ]
  },
  {
   "cell_type": "code",
   "execution_count": 33,
   "id": "c2941788",
   "metadata": {},
   "outputs": [],
   "source": [
    "model2 = keras.Sequential()\n",
    "model2.add(keras.layers.Embedding(300, 16, input_length=100))\n",
    "model2.add(keras.layers.SimpleRNN(8))\n",
    "model2.add(keras.layers.Dense(1, activation='sigmoid'))"
   ]
  },
  {
   "cell_type": "markdown",
   "id": "89a81a01",
   "metadata": {},
   "source": [
    "Embedding 클래스의 첫 번째 매개변수(300)는 어휘 사전의 크기입니다.\n",
    "\n",
    "두 번째 매개변수(16)는 임베딩 벡터의 크기입니다.\n",
    "\n",
    "세 번째 input_length 매개변수는 입력 시퀀스의 길이입니다. 앞서 샘플의 길이를 100으로 맞추어 train_seq를 만들었습니다.\n",
    "\n",
    "그다음 SimpleRNN 층과 Dense 층은 이전과 동일합니다."
   ]
  },
  {
   "cell_type": "code",
   "execution_count": 34,
   "id": "6716425c",
   "metadata": {},
   "outputs": [
    {
     "name": "stdout",
     "output_type": "stream",
     "text": [
      "Model: \"sequential_1\"\n",
      "_________________________________________________________________\n",
      "Layer (type)                 Output Shape              Param #   \n",
      "=================================================================\n",
      "embedding (Embedding)        (None, 100, 16)           4800      \n",
      "_________________________________________________________________\n",
      "simple_rnn_1 (SimpleRNN)     (None, 8)                 200       \n",
      "_________________________________________________________________\n",
      "dense_1 (Dense)              (None, 1)                 9         \n",
      "=================================================================\n",
      "Total params: 5,009\n",
      "Trainable params: 5,009\n",
      "Non-trainable params: 0\n",
      "_________________________________________________________________\n"
     ]
    }
   ],
   "source": [
    "model2.summary()"
   ]
  },
  {
   "cell_type": "markdown",
   "id": "e3650d37",
   "metadata": {},
   "source": [
    "임베딩 층은 (100, ) 크기의 입력을 받아 (100, 16) 크기의 출력을 만듭니다."
   ]
  },
  {
   "cell_type": "code",
   "execution_count": 35,
   "id": "26b70835",
   "metadata": {},
   "outputs": [
    {
     "name": "stdout",
     "output_type": "stream",
     "text": [
      "Epoch 1/100\n",
      "313/313 [==============================] - 6s 18ms/step - loss: 0.6898 - accuracy: 0.5323 - val_loss: 0.6699 - val_accuracy: 0.5960\n",
      "Epoch 2/100\n",
      "313/313 [==============================] - 5s 17ms/step - loss: 0.6449 - accuracy: 0.6546 - val_loss: 0.6309 - val_accuracy: 0.6704\n",
      "Epoch 3/100\n",
      "313/313 [==============================] - 5s 17ms/step - loss: 0.6193 - accuracy: 0.6952 - val_loss: 0.6143 - val_accuracy: 0.6992\n",
      "Epoch 4/100\n",
      "313/313 [==============================] - 5s 17ms/step - loss: 0.6012 - accuracy: 0.7138 - val_loss: 0.6055 - val_accuracy: 0.6998\n",
      "Epoch 5/100\n",
      "313/313 [==============================] - 5s 17ms/step - loss: 0.5868 - accuracy: 0.7268 - val_loss: 0.5879 - val_accuracy: 0.7182\n",
      "Epoch 6/100\n",
      "313/313 [==============================] - 5s 17ms/step - loss: 0.5747 - accuracy: 0.7345 - val_loss: 0.5743 - val_accuracy: 0.7292\n",
      "Epoch 7/100\n",
      "313/313 [==============================] - 5s 17ms/step - loss: 0.5636 - accuracy: 0.7411 - val_loss: 0.5693 - val_accuracy: 0.7296\n",
      "Epoch 8/100\n",
      "313/313 [==============================] - 5s 17ms/step - loss: 0.5535 - accuracy: 0.7465 - val_loss: 0.5571 - val_accuracy: 0.7404\n",
      "Epoch 9/100\n",
      "313/313 [==============================] - 6s 18ms/step - loss: 0.5448 - accuracy: 0.7526 - val_loss: 0.5494 - val_accuracy: 0.7392\n",
      "Epoch 10/100\n",
      "313/313 [==============================] - 5s 17ms/step - loss: 0.5370 - accuracy: 0.7540 - val_loss: 0.5416 - val_accuracy: 0.7448\n",
      "Epoch 11/100\n",
      "313/313 [==============================] - 5s 17ms/step - loss: 0.5296 - accuracy: 0.7581 - val_loss: 0.5368 - val_accuracy: 0.7454\n",
      "Epoch 12/100\n",
      "313/313 [==============================] - 5s 17ms/step - loss: 0.5223 - accuracy: 0.7628 - val_loss: 0.5353 - val_accuracy: 0.7498\n",
      "Epoch 13/100\n",
      "313/313 [==============================] - 5s 17ms/step - loss: 0.5174 - accuracy: 0.7646 - val_loss: 0.5267 - val_accuracy: 0.7496\n",
      "Epoch 14/100\n",
      "313/313 [==============================] - 5s 17ms/step - loss: 0.5117 - accuracy: 0.7656 - val_loss: 0.5254 - val_accuracy: 0.7490\n",
      "Epoch 15/100\n",
      "313/313 [==============================] - 5s 17ms/step - loss: 0.5071 - accuracy: 0.7687 - val_loss: 0.5211 - val_accuracy: 0.7490\n",
      "Epoch 16/100\n",
      "313/313 [==============================] - 5s 17ms/step - loss: 0.5024 - accuracy: 0.7707 - val_loss: 0.5182 - val_accuracy: 0.7504\n",
      "Epoch 17/100\n",
      "313/313 [==============================] - 5s 17ms/step - loss: 0.4984 - accuracy: 0.7728 - val_loss: 0.5169 - val_accuracy: 0.7484\n",
      "Epoch 18/100\n",
      "313/313 [==============================] - 5s 17ms/step - loss: 0.4946 - accuracy: 0.7756 - val_loss: 0.5150 - val_accuracy: 0.7484\n",
      "Epoch 19/100\n",
      "313/313 [==============================] - 5s 17ms/step - loss: 0.4912 - accuracy: 0.7749 - val_loss: 0.5145 - val_accuracy: 0.7478\n",
      "Epoch 20/100\n",
      "313/313 [==============================] - 5s 17ms/step - loss: 0.4882 - accuracy: 0.7782 - val_loss: 0.5098 - val_accuracy: 0.7526\n",
      "Epoch 21/100\n",
      "313/313 [==============================] - 5s 17ms/step - loss: 0.4854 - accuracy: 0.7785 - val_loss: 0.5135 - val_accuracy: 0.7594\n",
      "Epoch 22/100\n",
      "313/313 [==============================] - 5s 17ms/step - loss: 0.4838 - accuracy: 0.7789 - val_loss: 0.5075 - val_accuracy: 0.7524\n",
      "Epoch 23/100\n",
      "313/313 [==============================] - 5s 17ms/step - loss: 0.4814 - accuracy: 0.7801 - val_loss: 0.5114 - val_accuracy: 0.7566\n",
      "Epoch 24/100\n",
      "313/313 [==============================] - 5s 17ms/step - loss: 0.4794 - accuracy: 0.7812 - val_loss: 0.5061 - val_accuracy: 0.7528\n",
      "Epoch 25/100\n",
      "313/313 [==============================] - 5s 17ms/step - loss: 0.4769 - accuracy: 0.7826 - val_loss: 0.5062 - val_accuracy: 0.7532\n",
      "Epoch 26/100\n",
      "313/313 [==============================] - 5s 17ms/step - loss: 0.4757 - accuracy: 0.7831 - val_loss: 0.5053 - val_accuracy: 0.7486\n",
      "Epoch 27/100\n",
      "313/313 [==============================] - 5s 17ms/step - loss: 0.4737 - accuracy: 0.7847 - val_loss: 0.5053 - val_accuracy: 0.7546\n",
      "Epoch 28/100\n",
      "313/313 [==============================] - 5s 17ms/step - loss: 0.4722 - accuracy: 0.7837 - val_loss: 0.5066 - val_accuracy: 0.7572\n",
      "Epoch 29/100\n",
      "313/313 [==============================] - 5s 17ms/step - loss: 0.4707 - accuracy: 0.7858 - val_loss: 0.5086 - val_accuracy: 0.7558\n",
      "Epoch 30/100\n",
      "313/313 [==============================] - 5s 17ms/step - loss: 0.4695 - accuracy: 0.7872 - val_loss: 0.5072 - val_accuracy: 0.7506\n"
     ]
    }
   ],
   "source": [
    "rmsprop = keras.optimizers.RMSprop(learning_rate=1e-4)\n",
    "model2.compile(optimizer=rmsprop, loss='binary_crossentropy', metrics=['accuracy'])\n",
    "checkpoint_cb = keras.callbacks.ModelCheckpoint('best-embedding-model.h5', save_best_only=True)\n",
    "early_stopping_cb = keras.callbacks.EarlyStopping(patience=3, restore_best_weights=True)\n",
    "history = model2.fit(train_seq, train_target, epochs=100, batch_size=64,\n",
    "                    validation_data=(val_seq, val_target), callbacks=[checkpoint_cb, early_stopping_cb])"
   ]
  },
  {
   "cell_type": "markdown",
   "id": "265e33bc",
   "metadata": {},
   "source": [
    "출력 결과를 보면 원-핫 인코딩을 사용한 모델과 비슷한 성능을 냈습니다. 반면에 순환층의 가중치 개수는 훨씬 작고 훈련 세트 크기도 훨씬 줄어들었습니다."
   ]
  },
  {
   "cell_type": "code",
   "execution_count": 36,
   "id": "dfaf523f",
   "metadata": {},
   "outputs": [
    {
     "data": {
      "image/png": "[encoded data removed]",
      "text/plain": [
       "<Figure size 432x288 with 1 Axes>"
      ]
     },
     "metadata": {
      "needs_background": "light"
     },
     "output_type": "display_data"
    }
   ],
   "source": [
    "plt.plot(history.history['loss'])\n",
    "plt.plot(history.history['val_loss'])\n",
    "plt.xlabel('epoch')\n",
    "plt.ylabel('loss')\n",
    "plt.legend(['train', 'val'])\n",
    "plt.show()"
   ]
  },
  {
   "cell_type": "markdown",
   "id": "ec68423f",
   "metadata": {},
   "source": [
    "검증 손실이 더 감소되지 않아 훈련이 적절히 조기 종료된 것 같습니다. 이에 비해 훈련 손실은 계속 감소합니다. 이를 더 개선할 방법이 있는지 다음 절에서 알아보겠습니다.\n",
    "\n",
    "## 마무리\n",
    "\n",
    "### 핵심 포인트\n",
    "\n",
    "- **말뭉치**: 자연어 처리에서 사용하는 텍스트 데이터의 모음, 즉 훈련 데이터셋\n",
    "- **토큰**: 텍스트에서 공백으로 구분되는 문자열\n",
    "- **원-핫 인코딩**: 어떤 클래스에 해당하는 원소만 1이고 나머지는 모두 0인 벡터\n",
    "- **단어 임베딩**: 정수로 변환된 토큰을 비교적 작은 크기의 실수 밀집 벡터로 변환. 이런 밀집 벡터는 단어 사이의 관계를 표현할 수 있기 때문에 자연어 처리에서 좋은 성능 발휘\n",
    "\n",
    "### 핵심 패키지와 함수\n",
    "\n",
    "#### TensorFlow\n",
    "\n",
    "- **pad_sequences()**: 시퀀스 길이 맞추기 위해 패딩 추가. 이 함수는 (샘플 개수, 타임스텝 개수) 크기의 2차원 배열을 기대.   \n",
    "  maxlen 매개변수로 원하는 시퀀스 길이 지정. 이 값보다 긴 시퀀스는 잘리고 짧은 시퀀스는 패딩됨. 이 매개변수를 지정하지 않으면 가장 긴 시퀀스의 길이가 됨   \n",
    "  padding 매개변수는 패딩을 추가할 위치 지정. 기본값 'pre'는 시퀀스 앞 패딩 추가, 'post'는 시퀀스 뒤 패딩 추가   \n",
    "  truncating 매개변수는 긴 시퀀스에서 잘라버릴 위치 지정. 기본값 'pre'는 시퀀스 앞부분 잘라내고 'post'는 시퀀스 뒷부분 잘라냄   \n",
    "- **to_categorical()**: 정수 시퀀스를 원-핫 인코딩으로 변환.   \n",
    "  num_classes 매개변수에서 클래스 개수 지정. 지정하지 않으면 데이터에서 자동으로 찾음   \n",
    "- **SimpleRNN**: 케라스의 기본 순환층 클래스   \n",
    "  첫 번째 매개변수에 뉴런 개수 지정   \n",
    "  activation 매개변수에서 활성화 함수 지정. 기본값 'tanh'   \n",
    "  dropout 매개변수에서 입력에 대한 드롭아웃 비율 지정   \n",
    "  return_sequences 매개변수에서 모든 타임스텝의 은닉 상태 출력 결정. 기본값 False   \n",
    "- **Embedding**: 단어 임베딩을 위한 클래스   \n",
    "  첫 번째 매개변수에서 어휘 사전 크기 지정   \n",
    "  두 번째 매개변수에서 Embedding 층이 출력할 밀집 벡터 크기 지정\n",
    "  input_length 매개변수에서 입력 시퀀스의 길이 지정. 이 매개변수는 Embedding 층 바로 뒤에 Flatten 이나 Dense 클래스가 올때 꼭 필요"
   ]
  }
 ],
 "metadata": {
  "kernelspec": {
   "display_name": "Python 3",
   "language": "python",
   "name": "python3"
  },
  "language_info": {
   "codemirror_mode": {
    "name": "ipython",
    "version": 3
   },
   "file_extension": ".py",
   "mimetype": "text/x-python",
   "name": "python",
   "nbconvert_exporter": "python",
   "pygments_lexer": "ipython3",
   "version": "3.6.7"
  }
 },
 "nbformat": 4,
 "nbformat_minor": 5
}
