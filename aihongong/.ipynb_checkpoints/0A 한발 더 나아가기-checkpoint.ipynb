{
 "cells": [
  {
   "cell_type": "markdown",
   "id": "58923231",
   "metadata": {},
   "source": [
    "# 0A 한발 더 나아가기"
   ]
  },
  {
   "cell_type": "markdown",
   "id": "b0a13b82",
   "metadata": {},
   "source": [
    "### 참고할 만한 사이트\n",
    "\n",
    "- 저자의 블로그: https://tensorflow.blog\n",
    "- 머신러닝 문서 번역: https://ml-ko.kr\n",
    "\n",
    "### 커뮤니티\n",
    "\n",
    "- 텐서플로 코리아: https://www.facebook.com/groups/TensorFlowKR\n",
    "- 케라스 코리아: https://www.facebook.com/groups/KerasKorea\n",
    "- 캐글 코리아: https://www.facebook.com/groups/KaggleKoreaOpenGroup\n",
    "- 사이킷런 코리아: https://www.facebook.com/groups/ScikitLearnKR"
   ]
  }
 ],
 "metadata": {
  "kernelspec": {
   "display_name": "Python 3",
   "language": "python",
   "name": "python3"
  },
  "language_info": {
   "codemirror_mode": {
    "name": "ipython",
    "version": 3
   },
   "file_extension": ".py",
   "mimetype": "text/x-python",
   "name": "python",
   "nbconvert_exporter": "python",
   "pygments_lexer": "ipython3",
   "version": "3.6.7"
  }
 },
 "nbformat": 4,
 "nbformat_minor": 5
}
