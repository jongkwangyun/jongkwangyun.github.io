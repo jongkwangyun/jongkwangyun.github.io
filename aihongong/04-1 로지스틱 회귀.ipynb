{
 "cells": [
  {
   "cell_type": "markdown",
   "id": "bab908d1",
   "metadata": {},
   "source": [
    "# 04-1 로지스틱 회귀"
   ]
  },
  {
   "cell_type": "markdown",
   "id": "5ea59634",
   "metadata": {},
   "source": [
    "## 럭키백의 확률\n",
    "\n",
    "\"k-최근접 이웃은 주변 이웃을 찾아주니까 이웃의 클래스 비율을 확률이라고 출력하면 되지 않을까?\"\n",
    "\n",
    "### 데이터 준비하기"
   ]
  },
  {
   "cell_type": "code",
   "execution_count": 1,
   "id": "7da774a8",
   "metadata": {},
   "outputs": [
    {
     "data": {
      "text/html": [
       "<div>\n",
       "<style scoped>\n",
       "    .dataframe tbody tr th:only-of-type {\n",
       "        vertical-align: middle;\n",
       "    }\n",
       "\n",
       "    .dataframe tbody tr th {\n",
       "        vertical-align: top;\n",
       "    }\n",
       "\n",
       "    .dataframe thead th {\n",
       "        text-align: right;\n",
       "    }\n",
       "</style>\n",
       "<table border=\"1\" class=\"dataframe\">\n",
       "  <thead>\n",
       "    <tr style=\"text-align: right;\">\n",
       "      <th></th>\n",
       "      <th>Species</th>\n",
       "      <th>Weight</th>\n",
       "      <th>Length</th>\n",
       "      <th>Diagonal</th>\n",
       "      <th>Height</th>\n",
       "      <th>Width</th>\n",
       "    </tr>\n",
       "  </thead>\n",
       "  <tbody>\n",
       "    <tr>\n",
       "      <th>0</th>\n",
       "      <td>Bream</td>\n",
       "      <td>242.0</td>\n",
       "      <td>25.4</td>\n",
       "      <td>30.0</td>\n",
       "      <td>11.5200</td>\n",
       "      <td>4.0200</td>\n",
       "    </tr>\n",
       "    <tr>\n",
       "      <th>1</th>\n",
       "      <td>Bream</td>\n",
       "      <td>290.0</td>\n",
       "      <td>26.3</td>\n",
       "      <td>31.2</td>\n",
       "      <td>12.4800</td>\n",
       "      <td>4.3056</td>\n",
       "    </tr>\n",
       "    <tr>\n",
       "      <th>2</th>\n",
       "      <td>Bream</td>\n",
       "      <td>340.0</td>\n",
       "      <td>26.5</td>\n",
       "      <td>31.1</td>\n",
       "      <td>12.3778</td>\n",
       "      <td>4.6961</td>\n",
       "    </tr>\n",
       "    <tr>\n",
       "      <th>3</th>\n",
       "      <td>Bream</td>\n",
       "      <td>363.0</td>\n",
       "      <td>29.0</td>\n",
       "      <td>33.5</td>\n",
       "      <td>12.7300</td>\n",
       "      <td>4.4555</td>\n",
       "    </tr>\n",
       "    <tr>\n",
       "      <th>4</th>\n",
       "      <td>Bream</td>\n",
       "      <td>430.0</td>\n",
       "      <td>29.0</td>\n",
       "      <td>34.0</td>\n",
       "      <td>12.4440</td>\n",
       "      <td>5.1340</td>\n",
       "    </tr>\n",
       "  </tbody>\n",
       "</table>\n",
       "</div>"
      ],
      "text/plain": [
       "  Species  Weight  Length  Diagonal   Height   Width\n",
       "0   Bream   242.0    25.4      30.0  11.5200  4.0200\n",
       "1   Bream   290.0    26.3      31.2  12.4800  4.3056\n",
       "2   Bream   340.0    26.5      31.1  12.3778  4.6961\n",
       "3   Bream   363.0    29.0      33.5  12.7300  4.4555\n",
       "4   Bream   430.0    29.0      34.0  12.4440  5.1340"
      ]
     },
     "execution_count": 1,
     "metadata": {},
     "output_type": "execute_result"
    }
   ],
   "source": [
    "import pandas as pd\n",
    "fish = pd.read_csv('https://bit.ly/fish_csv_data')\n",
    "fish.head()"
   ]
  },
  {
   "cell_type": "markdown",
   "id": "684feb76",
   "metadata": {},
   "source": [
    "어떤 종류의 생선이 있는지 Species 열에서 고유한 값 추출"
   ]
  },
  {
   "cell_type": "code",
   "execution_count": 2,
   "id": "54c3e606",
   "metadata": {},
   "outputs": [
    {
     "data": {
      "text/plain": [
       "array(['Bream', 'Roach', 'Whitefish', 'Parkki', 'Perch', 'Pike', 'Smelt'],\n",
       "      dtype=object)"
      ]
     },
     "execution_count": 2,
     "metadata": {},
     "output_type": "execute_result"
    }
   ],
   "source": [
    "pd.unique(fish['Species'])"
   ]
  },
  {
   "cell_type": "markdown",
   "id": "a31c40e8",
   "metadata": {},
   "source": [
    "Species 열을 타깃으로 만들고 나머지 5개 열으느 입력 데이터로 사용하겠습니다."
   ]
  },
  {
   "cell_type": "code",
   "execution_count": 3,
   "id": "da1d1f36",
   "metadata": {},
   "outputs": [],
   "source": [
    "fish_input = fish[['Weight', 'Length', 'Diagonal', 'Height', 'Width']].to_numpy()"
   ]
  },
  {
   "cell_type": "code",
   "execution_count": 4,
   "id": "8be54132",
   "metadata": {},
   "outputs": [
    {
     "data": {
      "text/plain": [
       "array([[242.    ,  25.4   ,  30.    ,  11.52  ,   4.02  ],\n",
       "       [290.    ,  26.3   ,  31.2   ,  12.48  ,   4.3056],\n",
       "       [340.    ,  26.5   ,  31.1   ,  12.3778,   4.6961],\n",
       "       [363.    ,  29.    ,  33.5   ,  12.73  ,   4.4555],\n",
       "       [430.    ,  29.    ,  34.    ,  12.444 ,   5.134 ]])"
      ]
     },
     "execution_count": 4,
     "metadata": {},
     "output_type": "execute_result"
    }
   ],
   "source": [
    "fish_input[:5]"
   ]
  },
  {
   "cell_type": "code",
   "execution_count": 5,
   "id": "d72b17ff",
   "metadata": {},
   "outputs": [],
   "source": [
    "fish_target = fish['Species'].to_numpy()"
   ]
  },
  {
   "cell_type": "markdown",
   "id": "961cd8bc",
   "metadata": {},
   "source": [
    "이제 훈련 세트와 테스트 세트로 나누겠습니다."
   ]
  },
  {
   "cell_type": "code",
   "execution_count": 6,
   "id": "ae1b8b61",
   "metadata": {},
   "outputs": [],
   "source": [
    "from sklearn.model_selection import train_test_split\n",
    "train_input, test_input, train_target, test_target = train_test_split(fish_input, fish_target, random_state=42)"
   ]
  },
  {
   "cell_type": "markdown",
   "id": "5c715978",
   "metadata": {},
   "source": [
    "사이킷런의 StandardScaler 클래스를 사용해 훈련 세트와 테스트 세트를 표준화 전처리하겠습니다."
   ]
  },
  {
   "cell_type": "code",
   "execution_count": 7,
   "id": "844abc07",
   "metadata": {},
   "outputs": [],
   "source": [
    "from sklearn.preprocessing import StandardScaler\n",
    "ss = StandardScaler()\n",
    "ss.fit(train_input)\n",
    "train_scaled = ss.transform(train_input)\n",
    "test_scaled = ss.transform(test_input)"
   ]
  },
  {
   "cell_type": "markdown",
   "id": "8562141c",
   "metadata": {},
   "source": [
    "### k-최근접 이웃 분류기의 확률 예측\n",
    "\n",
    "KNeighborsClassifier 클래스 객체를 만들고 훈련 세트로 모델을 훈련한 다음 훈련 세트와 테스트 세트의 점수를 확인해 보겠습니다. 최근접 이웃 개수인 k를 3으로 지정하여 사용합니다."
   ]
  },
  {
   "cell_type": "code",
   "execution_count": 8,
   "id": "904da03f",
   "metadata": {},
   "outputs": [
    {
     "name": "stdout",
     "output_type": "stream",
     "text": [
      "0.8907563025210085\n",
      "0.85\n"
     ]
    }
   ],
   "source": [
    "from sklearn.neighbors import KNeighborsClassifier\n",
    "kn = KNeighborsClassifier(n_neighbors=3)\n",
    "kn.fit(train_scaled, train_target)\n",
    "print(kn.score(train_scaled, train_target))\n",
    "print(kn.score(test_scaled, test_target))"
   ]
  },
  {
   "cell_type": "markdown",
   "id": "0bad64da",
   "metadata": {},
   "source": [
    "타깃 데이터에 2개 이상의 클래스가 포함된 문제를 다중 분류multiclass classification라고 부릅니다.\n",
    "\n",
    "다중 분류에서도 타깃값을 숫자로 바꾸어 입력할 수 있지만 사이킷런에서는 편리하게도 문자열로 된 타깃값을 그대로 사용할 수 있습니다.\n",
    "\n",
    "이때 주의할 점이 하나 있습니다. 타깃값을 그대로 사이킷런 모델에 전달하면 순서가 자동으로 알파벳 순으로 매겨집니다."
   ]
  },
  {
   "cell_type": "code",
   "execution_count": 9,
   "id": "88f20779",
   "metadata": {},
   "outputs": [
    {
     "data": {
      "text/plain": [
       "array(['Bream', 'Parkki', 'Perch', 'Pike', 'Roach', 'Smelt', 'Whitefish'],\n",
       "      dtype=object)"
      ]
     },
     "execution_count": 9,
     "metadata": {},
     "output_type": "execute_result"
    }
   ],
   "source": [
    "kn.classes_"
   ]
  },
  {
   "cell_type": "code",
   "execution_count": 10,
   "id": "1629724a",
   "metadata": {},
   "outputs": [
    {
     "data": {
      "text/plain": [
       "array(['Perch', 'Smelt', 'Pike', 'Perch', 'Perch'], dtype=object)"
      ]
     },
     "execution_count": 10,
     "metadata": {},
     "output_type": "execute_result"
    }
   ],
   "source": [
    "kn.predict(test_scaled[:5])"
   ]
  },
  {
   "cell_type": "markdown",
   "id": "0ea79c1b",
   "metadata": {},
   "source": [
    "사이킷런의 분류 모델은 predict_proba() 메서드로 클래스별 확률값을 반환합니다. 테스트 세트에 있는 처음 5개의 샘플에 대한 확률을 출력해 보죠."
   ]
  },
  {
   "cell_type": "code",
   "execution_count": 11,
   "id": "e38c824a",
   "metadata": {},
   "outputs": [
    {
     "data": {
      "text/plain": [
       "array([[0.    , 0.    , 1.    , 0.    , 0.    , 0.    , 0.    ],\n",
       "       [0.    , 0.    , 0.    , 0.    , 0.    , 1.    , 0.    ],\n",
       "       [0.    , 0.    , 0.    , 1.    , 0.    , 0.    , 0.    ],\n",
       "       [0.    , 0.    , 0.6667, 0.    , 0.3333, 0.    , 0.    ],\n",
       "       [0.    , 0.    , 0.6667, 0.    , 0.3333, 0.    , 0.    ]])"
      ]
     },
     "execution_count": 11,
     "metadata": {},
     "output_type": "execute_result"
    }
   ],
   "source": [
    "import numpy as np\n",
    "proba = kn.predict_proba(test_scaled[:5])\n",
    "np.round(proba, decimals=4)"
   ]
  },
  {
   "cell_type": "markdown",
   "id": "15742894",
   "metadata": {},
   "source": [
    "predict_proba() 메서드의 출력 순서는 앞서 보았던 classes_ 속성과 같습니다. 즉 첫 번째 열이 'Bream'에 대한 확률, 두 번재 열이 'Parkki'에 대한 확률입니다.\n",
    "\n",
    "이 모델이 계산한 확률이 가장 가까운 이웃의 비율이 맞는지 확인해보죠."
   ]
  },
  {
   "cell_type": "code",
   "execution_count": 12,
   "id": "a082cb11",
   "metadata": {},
   "outputs": [
    {
     "data": {
      "text/plain": [
       "array([['Roach', 'Perch', 'Perch']], dtype=object)"
      ]
     },
     "execution_count": 12,
     "metadata": {},
     "output_type": "execute_result"
    }
   ],
   "source": [
    "distances, indexes = kn.kneighbors(test_scaled[3:4])\n",
    "train_target[indexes]"
   ]
  },
  {
   "cell_type": "markdown",
   "id": "b8f4d229",
   "metadata": {},
   "source": [
    "앞서 출력한 샘플의 클래스 확률과 같습니다.\n",
    "\n",
    "그런데, 3개의 최근접 이웃을 사용하기 때문에 가능한 확률은 0/3, 1/3, 2/3, 3/3이 전부겠군요. 만약 럭키백의 확률을 이렇게만 표시한다면 마케팅 팀이 만족하지 않을 것 같습니다.\n",
    "\n",
    "## 로지스틱 회귀\n",
    "\n",
    "이름은 회귀이지만 분류 모델입니다.\n",
    "\n",
    "```z = a × (Weight) + b × (Length) + c × (Diagonal) + d × (Height) + e × (Width) + f```\n",
    "\n",
    "z는 어떤 값도 가능합니다. 하지만 확률이 되려면 0~1 사이 값이 되어야 합니다. z가 아주 큰 음수일 때 0이 되고,, z가 아주 큰 양수일 때 1이 되도록 바꾸는 방법은 없을까요? 시그모이드 함수sigmoid function(또는 로지스틱 함수logistic function)를 사용하면 가능합니다."
   ]
  },
  {
   "cell_type": "code",
   "execution_count": 13,
   "id": "f266c0ed",
   "metadata": {},
   "outputs": [
    {
     "data": {
      "image/png": "[encoded data removed]",
      "text/plain": [
       "<Figure size 432x288 with 1 Axes>"
      ]
     },
     "metadata": {
      "needs_background": "light"
     },
     "output_type": "display_data"
    }
   ],
   "source": [
    "import numpy as np\n",
    "import matplotlib.pyplot as plt\n",
    "z = np.arange(-5, 5, 0.1)\n",
    "phi = 1 / (1 + np.exp(-z))\n",
    "plt.plot(z, phi)\n",
    "plt.xlabel('z')\n",
    "plt.ylabel('phi')\n",
    "plt.show()"
   ]
  },
  {
   "cell_type": "markdown",
   "id": "2883a8e2",
   "metadata": {},
   "source": [
    "시그모이드 함수의 출력은 정말 0에서 1까지 변하는군요.\n",
    "\n",
    "### 로지스틱 회귀로 이진 분류 수행하기\n",
    "\n",
    "넘파이 배열은 True, False 값을 전달하여 행을 선택할 수 있습니다. 이를 불리언 인덱싱boolean indexing이라고 합니다."
   ]
  },
  {
   "cell_type": "code",
   "execution_count": 14,
   "id": "b77961ee",
   "metadata": {},
   "outputs": [
    {
     "data": {
      "text/plain": [
       "array(['A', 'C'], dtype='<U1')"
      ]
     },
     "execution_count": 14,
     "metadata": {},
     "output_type": "execute_result"
    }
   ],
   "source": [
    "char_arr = np.array(['A', 'B', 'C', 'D', 'E'])\n",
    "char_arr[[True, False, True, False, False]]"
   ]
  },
  {
   "cell_type": "markdown",
   "id": "65405f01",
   "metadata": {},
   "source": [
    "이와 같은 방식을 사용해 훈련 세트에서 도미(Bream)와 빙어(Smelt)의 행만 골라내겠습니다."
   ]
  },
  {
   "cell_type": "code",
   "execution_count": 15,
   "id": "7f8b6243",
   "metadata": {},
   "outputs": [],
   "source": [
    "bream_smelt_indexes = (train_target == 'Bream') | (train_target == 'Smelt')\n",
    "train_bream_smelt = train_scaled[bream_smelt_indexes]\n",
    "target_bream_smelt = train_target[bream_smelt_indexes]"
   ]
  },
  {
   "cell_type": "markdown",
   "id": "053bd80c",
   "metadata": {},
   "source": [
    "이제 이 데이터로 로지스틱 회귀 모델을 훈련해 보겠습니다."
   ]
  },
  {
   "cell_type": "code",
   "execution_count": 16,
   "id": "2d703ee7",
   "metadata": {},
   "outputs": [
    {
     "data": {
      "text/plain": [
       "LogisticRegression()"
      ]
     },
     "execution_count": 16,
     "metadata": {},
     "output_type": "execute_result"
    }
   ],
   "source": [
    "from sklearn.linear_model import LogisticRegression\n",
    "lr = LogisticRegression()\n",
    "lr.fit(train_bream_smelt, target_bream_smelt)"
   ]
  },
  {
   "cell_type": "markdown",
   "id": "04c62db3",
   "metadata": {},
   "source": [
    "훈련한 모델을 사용해 train_bream_smelt에 있는 처음 5개 샘플을 예측해 보죠."
   ]
  },
  {
   "cell_type": "code",
   "execution_count": 17,
   "id": "06d716dd",
   "metadata": {},
   "outputs": [
    {
     "data": {
      "text/plain": [
       "array(['Bream', 'Smelt', 'Bream', 'Bream', 'Bream'], dtype=object)"
      ]
     },
     "execution_count": 17,
     "metadata": {},
     "output_type": "execute_result"
    }
   ],
   "source": [
    "lr.predict(train_bream_smelt[:5])"
   ]
  },
  {
   "cell_type": "code",
   "execution_count": 18,
   "id": "fdf7ece9",
   "metadata": {},
   "outputs": [
    {
     "data": {
      "text/plain": [
       "array([[0.99759855, 0.00240145],\n",
       "       [0.02735183, 0.97264817],\n",
       "       [0.99486072, 0.00513928],\n",
       "       [0.98584202, 0.01415798],\n",
       "       [0.99767269, 0.00232731]])"
      ]
     },
     "execution_count": 18,
     "metadata": {},
     "output_type": "execute_result"
    }
   ],
   "source": [
    "lr.predict_proba(train_bream_smelt[:5])"
   ]
  },
  {
   "cell_type": "code",
   "execution_count": 19,
   "id": "b668f2cd",
   "metadata": {},
   "outputs": [
    {
     "data": {
      "text/plain": [
       "array(['Bream', 'Smelt'], dtype=object)"
      ]
     },
     "execution_count": 19,
     "metadata": {},
     "output_type": "execute_result"
    }
   ],
   "source": [
    "lr.classes_"
   ]
  },
  {
   "cell_type": "markdown",
   "id": "ce4767b6",
   "metadata": {},
   "source": [
    "로지스틱 회귀로 성공적인 이진 분류를 수행했군요! 그럼 선형 회귀에서처럼 로지스틱 회귀가 학습한 계수를 확인해 보죠."
   ]
  },
  {
   "cell_type": "code",
   "execution_count": 20,
   "id": "4e36261c",
   "metadata": {},
   "outputs": [
    {
     "data": {
      "text/plain": [
       "(array([[-0.4037798 , -0.57620209, -0.66280298, -1.01290277, -0.73168947]]),\n",
       " array([-2.16155132]))"
      ]
     },
     "execution_count": 20,
     "metadata": {},
     "output_type": "execute_result"
    }
   ],
   "source": [
    "lr.coef_, lr.intercept_"
   ]
  },
  {
   "cell_type": "markdown",
   "id": "d8524e39",
   "metadata": {},
   "source": [
    "train_bream_smelt의 처음 5개 샘플의 z값을 출력해보죠."
   ]
  },
  {
   "cell_type": "code",
   "execution_count": 21,
   "id": "b8dca5c2",
   "metadata": {},
   "outputs": [
    {
     "data": {
      "text/plain": [
       "array([-6.02927744,  3.57123907, -5.26568906, -4.24321775, -6.0607117 ])"
      ]
     },
     "execution_count": 21,
     "metadata": {},
     "output_type": "execute_result"
    }
   ],
   "source": [
    "decisions = lr.decision_function(train_bream_smelt[:5])\n",
    "decisions"
   ]
  },
  {
   "cell_type": "markdown",
   "id": "46cb8dee",
   "metadata": {},
   "source": [
    "이 z값을 시그모이드 함수에 통과시키면 확률을 얻을 수 있습니다."
   ]
  },
  {
   "cell_type": "code",
   "execution_count": 22,
   "id": "3ac2c38e",
   "metadata": {},
   "outputs": [
    {
     "data": {
      "text/plain": [
       "array([0.00240145, 0.97264817, 0.00513928, 0.01415798, 0.00232731])"
      ]
     },
     "execution_count": 22,
     "metadata": {},
     "output_type": "execute_result"
    }
   ],
   "source": [
    "from scipy.special import expit\n",
    "expit(decisions)"
   ]
  },
  {
   "cell_type": "markdown",
   "id": "ce1b6600",
   "metadata": {},
   "source": [
    "predict_proba() 메서드 출력의 두 번째 열의 값과 동일합니다. 즉 decision_function() 메서드는 양성 클래스에 대한 z 값을 반환합니다.\n",
    "\n",
    "이진 분류의 경우 predict_proba() 메서드는 음성 클래스와 양성 클래스에 대한 확률을 출력합니다. 또 decision_function() 메서드는 양성 클래스에 대한 z 값을 계산합니다. 또 coef_ 속성과 intercept_ 속성에는 로지스틱 모델이 학습한 선형 방정식의 계수가 들어있습니다.\n",
    "\n",
    "이제 이진 분류의 경험을 바탕으로 7개의 생선을 분류하는 다중 분류 문제로 넘어가 보겠습니다.\n",
    "\n",
    "### 로지스틱 회귀로 다중 분류 수행하기\n",
    "\n",
    "LogisticRegression 클래스를 사용해 7개의 생선을 분류해 보면서 이진 분류와의 차이점을 알아보겠습니다.\n",
    "\n",
    "LogisticRegression 클래스는 기본적으로 반복적인 알고리즘을 사용합니다. max_iter 매개변수에서 반복 횟수를 지정하며 기본값은 100입니다. 여기에 준비한 데이터셋을 사용해 모델을 훈련하면 반복 횟수가 부족하다는 경고가 발생합니다. 충분하게 훈련시키기 위해 반복 횟수를 1000으로 늘리겠습니다.\n",
    "\n",
    "또 LogisticRegression은 기본적으로 릿지 회귀와 같이 계수의 제곱을 규제합니다. 이런 규제를 L2 규제라고도 부릅니다. LogisticRegression에서 규제를 제어하는 매개변수는 C입니다. 하지만 C는 alpha와 반대로 작을수록 규제가 커집니다. C의 기본값은 1입니다. 여기에서는 규제를 조금 완화하기 위해 20으로 늘리겠습니다.\n",
    "\n",
    "다음 코드는 LogisticRegression 클래스로 다중 분류 모델을 훈련하는 코드입니다."
   ]
  },
  {
   "cell_type": "code",
   "execution_count": 23,
   "id": "e2d222d2",
   "metadata": {},
   "outputs": [
    {
     "name": "stdout",
     "output_type": "stream",
     "text": [
      "0.9327731092436975\n",
      "0.925\n"
     ]
    }
   ],
   "source": [
    "lr = LogisticRegression(C=20, max_iter=1000)\n",
    "lr.fit(train_scaled, train_target)\n",
    "print(lr.score(train_scaled, train_target))\n",
    "print(lr.score(test_scaled, test_target))"
   ]
  },
  {
   "cell_type": "markdown",
   "id": "82305d48",
   "metadata": {},
   "source": [
    "훈련 세트와 테스트 세트에 대한 점수가 높고 과대적합이나 과소적합으로 치우친 것 같지 않습니다. 그럼 테스트 세트의 처음 5개 샘플에 대한 예측을 출력해보죠."
   ]
  },
  {
   "cell_type": "code",
   "execution_count": 24,
   "id": "4194d361",
   "metadata": {},
   "outputs": [
    {
     "data": {
      "text/plain": [
       "array(['Perch', 'Smelt', 'Pike', 'Roach', 'Perch'], dtype=object)"
      ]
     },
     "execution_count": 24,
     "metadata": {},
     "output_type": "execute_result"
    }
   ],
   "source": [
    "lr.predict(test_scaled[:5])"
   ]
  },
  {
   "cell_type": "markdown",
   "id": "417f6f3c",
   "metadata": {},
   "source": [
    "이번에는 테스트 세트의 처음 5개 샘플에 대한 예측 확률을 출력해 보겠습니다."
   ]
  },
  {
   "cell_type": "code",
   "execution_count": 25,
   "id": "60745bf1",
   "metadata": {},
   "outputs": [
    {
     "data": {
      "text/plain": [
       "array([[0.   , 0.014, 0.841, 0.   , 0.136, 0.007, 0.003],\n",
       "       [0.   , 0.003, 0.044, 0.   , 0.007, 0.946, 0.   ],\n",
       "       [0.   , 0.   , 0.034, 0.935, 0.015, 0.016, 0.   ],\n",
       "       [0.011, 0.034, 0.306, 0.007, 0.567, 0.   , 0.076],\n",
       "       [0.   , 0.   , 0.904, 0.002, 0.089, 0.002, 0.001]])"
      ]
     },
     "execution_count": 25,
     "metadata": {},
     "output_type": "execute_result"
    }
   ],
   "source": [
    "proba = lr.predict_proba(test_scaled[:5])\n",
    "np.round(proba, decimals=3)"
   ]
  },
  {
   "cell_type": "code",
   "execution_count": 26,
   "id": "3b8590f3",
   "metadata": {},
   "outputs": [
    {
     "data": {
      "text/plain": [
       "array(['Bream', 'Parkki', 'Perch', 'Pike', 'Roach', 'Smelt', 'Whitefish'],\n",
       "      dtype=object)"
      ]
     },
     "execution_count": 26,
     "metadata": {},
     "output_type": "execute_result"
    }
   ],
   "source": [
    "lr.classes_"
   ]
  },
  {
   "cell_type": "markdown",
   "id": "2c66ac9d",
   "metadata": {},
   "source": [
    "첫 번재 샘플은 Perch를 가장 높은 확률로 예측했습니다.\n",
    "\n",
    "그럼 다중 분류일 경우 선형 방정식은 어떤 모습일까요? coef_와 intercept_의 크기를 출력해 보겠습니다."
   ]
  },
  {
   "cell_type": "code",
   "execution_count": 27,
   "id": "1d509d65",
   "metadata": {},
   "outputs": [
    {
     "data": {
      "text/plain": [
       "((7, 5), (7,))"
      ]
     },
     "execution_count": 27,
     "metadata": {},
     "output_type": "execute_result"
    }
   ],
   "source": [
    "lr.coef_.shape, lr.intercept_.shape"
   ]
  },
  {
   "cell_type": "markdown",
   "id": "e3464723",
   "metadata": {},
   "source": [
    "이 데이터는 5개의 특성을 사용하므로 coef_ 배열의 열은 5개입니다. 그런데 행이 7이군요. intercept_도 7개나 있습니다. 이 말은 이진 분류에서 보았던 z를 7개나 계산한다는 의미입니다. 다중 분류는 클래스마다 z 값을 하나씩 계산합니다. 당연히 가장 높은 z 값을 출력하는 클래스가 예측 클래스가 됩니다. 확률은? 이진 분류에서는 시그모이드 함수를 사용했습니다. 다중 분류는 이와 달리 소프트맥스softmax 함수를 사용하여 7개의 z 값을 확률로 변환합니다.\n",
    "\n",
    "이진 분류에서처럼 decision_function() 메서드로 z1~ z7까지의 값을 구한 다음 소프트맥스 함수를 사용해 확률로 바꾸어 보겠습니다. 먼저 테스트 세트의 처음 5개 샘플에 대한 z1~z7의 값을 구해 보죠."
   ]
  },
  {
   "cell_type": "code",
   "execution_count": 29,
   "id": "cc0618ab",
   "metadata": {},
   "outputs": [
    {
     "data": {
      "text/plain": [
       "array([[ -6.5 ,   1.03,   5.16,  -2.73,   3.34,   0.33,  -0.63],\n",
       "       [-10.86,   1.93,   4.77,  -2.4 ,   2.98,   7.84,  -4.26],\n",
       "       [ -4.34,  -6.23,   3.17,   6.49,   2.36,   2.42,  -3.87],\n",
       "       [ -0.68,   0.45,   2.65,  -1.19,   3.26,  -5.75,   1.26],\n",
       "       [ -6.4 ,  -1.99,   5.82,  -0.11,   3.5 ,  -0.11,  -0.71]])"
      ]
     },
     "execution_count": 29,
     "metadata": {},
     "output_type": "execute_result"
    }
   ],
   "source": [
    "decision = lr.decision_function(test_scaled[:5])\n",
    "np.round(decision, decimals=2)"
   ]
  },
  {
   "cell_type": "markdown",
   "id": "f37103ed",
   "metadata": {},
   "source": [
    "사이파이는 소프트맥스 함수도 제공합니다."
   ]
  },
  {
   "cell_type": "code",
   "execution_count": 30,
   "id": "ce06de68",
   "metadata": {},
   "outputs": [
    {
     "data": {
      "text/plain": [
       "array([[0.   , 0.014, 0.841, 0.   , 0.136, 0.007, 0.003],\n",
       "       [0.   , 0.003, 0.044, 0.   , 0.007, 0.946, 0.   ],\n",
       "       [0.   , 0.   , 0.034, 0.935, 0.015, 0.016, 0.   ],\n",
       "       [0.011, 0.034, 0.306, 0.007, 0.567, 0.   , 0.076],\n",
       "       [0.   , 0.   , 0.904, 0.002, 0.089, 0.002, 0.001]])"
      ]
     },
     "execution_count": 30,
     "metadata": {},
     "output_type": "execute_result"
    }
   ],
   "source": [
    "from scipy.special import softmax\n",
    "proba = softmax(decision, axis=1)\n",
    "np.round(proba, decimals=3)"
   ]
  },
  {
   "cell_type": "markdown",
   "id": "e7737202",
   "metadata": {},
   "source": [
    "앞서구한 decision 배열을 softmax() 함수에 전달했습니다. softmax()의 axis 매개변수는 소프트맥스를 계산할 축을 지정합니다. 여기에서는 axis=1로 지정하여 각 행, 즉 각 샘플에 대해 소프트맥스를 계산합니다. 만약 axis 매개변수를 지정하지 않으면 배열 전체에 대해 소프트맥스를 계산합니다.\n",
    "\n",
    "출력 결과를 앞서 구한 proba 배열과 비교해 보세요. 결과가 정확히 일치하는군요! 혼공머신은 로지스틱 회귀를 사용해 7개의 생선에 대한 확률을 예측하는 모델을 훈련했습니다.\n",
    "\n",
    "## 마무리\n",
    "\n",
    "### 핵심 포인트\n",
    "\n",
    "- **로지스틱 회귀**: 선형 방정식을 사용한 분류 알고리즘. 선형 회귀와 달리 시그모이드 함수나 소프트맥스 함수를 사용해 클래스 확률 출력\n",
    "- **다중 분류**: 타깃 클래스가 2개 이상인 분류 문제\n",
    "- **시그모이드 함수**: 선형 방정식의 출력을 0과 1 사이의 값으로 압축\n",
    "- **소프트맥스 함수**: 다중 분류에서 여러 선형 방정식의 출력 결과를 정규화하여 합이 1이 되도록 만듦\n",
    "\n",
    "### 핵심 패키지와 함수\n",
    "\n",
    "#### scikit-learn\n",
    "- **LogisticRegression**: 선형 분류 알고리즘인 로지스틱 회귀를 위한 클래스\n",
    "  solver 매개변수에서 사용할 알고리즘을 선택할 수 있습니다. 기본값은 'lbfgs'. 사이킷런 0.17 버전에 추가된 'sag'는 확률적 평균 경사 하강법 알고리즘으로 특성과 샘플 수가 많을 때 성능은 빠르고 좋습니다. 사이킷런 0.19 버전에는 'sag'의 개선 버전인 'saga'가 추가됨  \n",
    "  penalty 매개변수에서 L2 규제(릿지 방식)와 L1 규제(라쏘 방식)를 선택할 수 있다. 기본값은 L2 규제를 의미하는 'l2'\n",
    "  C 매개변수에서 규제의 강도 제어. 기본값 1.0. 값이 작을수록 규제 강해짐\n",
    "- **predict_proba()**: 예측 확률 반환.\n",
    "  이진 분류의 경우 샘플마다 음성 클래스와 양성 클래스에 대한 확률 반환\n",
    "  다중 분류의 경우 샘플마다 모든 클래스에 대한 확률 반환\n",
    "- **decision_function()**: 모델이 학습한 선형 방정식의 출력 반환\n",
    "  이진 분류의 경우 양성 클래스의 확률이 반환됨. 이 값이 0보다 크면 양성 클래스, 작거나 같으면 음성 클래스.\n",
    "  다중 분류의 경우 각 클래스마다 선형 방정식 계산. 가장 큰 값의 클래스가 예측 클래스가 됨"
   ]
  }
 ],
 "metadata": {
  "kernelspec": {
   "display_name": "Python 3",
   "language": "python",
   "name": "python3"
  },
  "language_info": {
   "codemirror_mode": {
    "name": "ipython",
    "version": 3
   },
   "file_extension": ".py",
   "mimetype": "text/x-python",
   "name": "python",
   "nbconvert_exporter": "python",
   "pygments_lexer": "ipython3",
   "version": "3.6.7"
  }
 },
 "nbformat": 4,
 "nbformat_minor": 5
}
