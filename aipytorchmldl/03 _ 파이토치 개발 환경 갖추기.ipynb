{
 "cells": [
  {
   "cell_type": "markdown",
   "id": "9f567236",
   "metadata": {},
   "source": [
    "```\n",
    "python -m pip install --upgrade pip\n",
    "```\n",
    "\n",
    "를 먼저 실행한 후 아래 라이브러리 설치한다.\n",
    "\n",
    "```\n",
    "pip install pytorch\n",
    "pip install jupyter\n",
    "pip install pillow\n",
    "pip install matplotlib\n",
    "pip install pandas\n",
    "pip install scikit-learn\n",
    "pip install konlpy\n",
    "```"
   ]
  },
  {
   "cell_type": "code",
   "execution_count": null,
   "id": "ab517a9f",
   "metadata": {},
   "outputs": [],
   "source": []
  }
 ],
 "metadata": {
  "kernelspec": {
   "display_name": "Python 3",
   "language": "python",
   "name": "python3"
  },
  "language_info": {
   "codemirror_mode": {
    "name": "ipython",
    "version": 3
   },
   "file_extension": ".py",
   "mimetype": "text/x-python",
   "name": "python",
   "nbconvert_exporter": "python",
   "pygments_lexer": "ipython3",
   "version": "3.6.7"
  }
 },
 "nbformat": 4,
 "nbformat_minor": 5
}
